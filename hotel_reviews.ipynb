{
 "cells": [
  {
   "cell_type": "markdown",
   "source": [
    "# Importing modules"
   ],
   "metadata": {}
  },
  {
   "cell_type": "code",
   "execution_count": 1,
   "source": [
    "import pandas as pd\r\n",
    "import numpy as np\r\n",
    "import matplotlib.pyplot as plt\r\n",
    "import seaborn as sns\r\n",
    "import re\r\n",
    "\r\n",
    "from imageio import imread\r\n",
    "\r\n",
    "import re, nltk\r\n",
    "nltk.download('stopwords') # you can run this in terminal\r\n",
    "nltk.download('punkt')\r\n",
    "nltk.download('wordnet')\r\n",
    "nltk.download('vader_lexicon')\r\n",
    "\r\n",
    "from nltk.corpus import stopwords\r\n",
    "from nltk.stem import WordNetLemmatizer\r\n",
    "from nltk.sentiment.vader import SentimentIntensityAnalyzer\r\n",
    "\r\n",
    "from functools import lru_cache # for caching lemmatization results to help save time\r\n",
    "\r\n",
    "from sklearn.preprocessing import OneHotEncoder, RobustScaler\r\n",
    "from sklearn.model_selection import train_test_split\r\n",
    "from sklearn.metrics import mean_squared_error, r2_score\r\n",
    "\r\n",
    "from sklearn.linear_model import LinearRegression\r\n",
    "from sklearn.ensemble import GradientBoostingRegressor, RandomForestRegressor\r\n",
    "import xgboost as xgb\r\n",
    "\r\n",
    "import optuna\r\n",
    "from optuna import Trial, visualization\r\n",
    "from optuna.samplers import TPESampler\r\n",
    "\r\n",
    "# Turn off warnings\r\n",
    "import warnings\r\n",
    "warnings.simplefilter(action='ignore', category=FutureWarning)"
   ],
   "outputs": [
    {
     "output_type": "stream",
     "name": "stdout",
     "text": [
      "[nltk_data] Downloading package stopwords to\n",
      "[nltk_data]     C:\\Users\\yapcm\\AppData\\Roaming\\nltk_data...\n",
      "[nltk_data]   Package stopwords is already up-to-date!\n",
      "[nltk_data] Downloading package punkt to\n",
      "[nltk_data]     C:\\Users\\yapcm\\AppData\\Roaming\\nltk_data...\n",
      "[nltk_data]   Package punkt is already up-to-date!\n",
      "[nltk_data] Downloading package wordnet to\n",
      "[nltk_data]     C:\\Users\\yapcm\\AppData\\Roaming\\nltk_data...\n",
      "[nltk_data]   Package wordnet is already up-to-date!\n",
      "[nltk_data] Downloading package vader_lexicon to\n",
      "[nltk_data]     C:\\Users\\yapcm\\AppData\\Roaming\\nltk_data...\n",
      "[nltk_data]   Package vader_lexicon is already up-to-date!\n"
     ]
    },
    {
     "output_type": "stream",
     "name": "stderr",
     "text": [
      "C:\\Users\\yapcm\\AppData\\Local\\Programs\\Python\\Python39\\lib\\site-packages\\nltk\\twitter\\__init__.py:20: UserWarning: The twython library has not been installed. Some functionality from the twitter package will not be available.\n",
      "  warnings.warn(\"The twython library has not been installed. \"\n"
     ]
    }
   ],
   "metadata": {}
  },
  {
   "cell_type": "markdown",
   "source": [
    "# Loading the Data"
   ],
   "metadata": {}
  },
  {
   "cell_type": "code",
   "execution_count": 2,
   "source": [
    "df = pd.read_csv('./uncommitted/Hotel_Reviews.csv')\r\n",
    "df.head()"
   ],
   "outputs": [
    {
     "output_type": "execute_result",
     "data": {
      "text/plain": [
       "                                       Hotel_Address  \\\n",
       "0   s Gravesandestraat 55 Oost 1092 AA Amsterdam ...   \n",
       "1   s Gravesandestraat 55 Oost 1092 AA Amsterdam ...   \n",
       "2   s Gravesandestraat 55 Oost 1092 AA Amsterdam ...   \n",
       "3   s Gravesandestraat 55 Oost 1092 AA Amsterdam ...   \n",
       "4   s Gravesandestraat 55 Oost 1092 AA Amsterdam ...   \n",
       "\n",
       "   Additional_Number_of_Scoring Review_Date  Average_Score   Hotel_Name  \\\n",
       "0                           194    8/3/2017            7.7  Hotel Arena   \n",
       "1                           194    8/3/2017            7.7  Hotel Arena   \n",
       "2                           194   7/31/2017            7.7  Hotel Arena   \n",
       "3                           194   7/31/2017            7.7  Hotel Arena   \n",
       "4                           194   7/24/2017            7.7  Hotel Arena   \n",
       "\n",
       "  Reviewer_Nationality                                    Negative_Review  \\\n",
       "0              Russia    I am so angry that i made this post available...   \n",
       "1             Ireland                                         No Negative   \n",
       "2           Australia    Rooms are nice but for elderly a bit difficul...   \n",
       "3      United Kingdom    My room was dirty and I was afraid to walk ba...   \n",
       "4         New Zealand    You When I booked with your company on line y...   \n",
       "\n",
       "   Review_Total_Negative_Word_Counts  Total_Number_of_Reviews  \\\n",
       "0                                397                     1403   \n",
       "1                                  0                     1403   \n",
       "2                                 42                     1403   \n",
       "3                                210                     1403   \n",
       "4                                140                     1403   \n",
       "\n",
       "                                     Positive_Review  \\\n",
       "0   Only the park outside of the hotel was beauti...   \n",
       "1   No real complaints the hotel was great great ...   \n",
       "2   Location was good and staff were ok It is cut...   \n",
       "3   Great location in nice surroundings the bar a...   \n",
       "4    Amazing location and building Romantic setting    \n",
       "\n",
       "   Review_Total_Positive_Word_Counts  \\\n",
       "0                                 11   \n",
       "1                                105   \n",
       "2                                 21   \n",
       "3                                 26   \n",
       "4                                  8   \n",
       "\n",
       "   Total_Number_of_Reviews_Reviewer_Has_Given  Reviewer_Score  \\\n",
       "0                                           7             2.9   \n",
       "1                                           7             7.5   \n",
       "2                                           9             7.1   \n",
       "3                                           1             3.8   \n",
       "4                                           3             6.7   \n",
       "\n",
       "                                                Tags days_since_review  \\\n",
       "0  [' Leisure trip ', ' Couple ', ' Duplex Double...            0 days   \n",
       "1  [' Leisure trip ', ' Couple ', ' Duplex Double...            0 days   \n",
       "2  [' Leisure trip ', ' Family with young childre...            3 days   \n",
       "3  [' Leisure trip ', ' Solo traveler ', ' Duplex...            3 days   \n",
       "4  [' Leisure trip ', ' Couple ', ' Suite ', ' St...           10 days   \n",
       "\n",
       "         lat       lng  \n",
       "0  52.360576  4.915968  \n",
       "1  52.360576  4.915968  \n",
       "2  52.360576  4.915968  \n",
       "3  52.360576  4.915968  \n",
       "4  52.360576  4.915968  "
      ],
      "text/html": [
       "<div>\n",
       "<style scoped>\n",
       "    .dataframe tbody tr th:only-of-type {\n",
       "        vertical-align: middle;\n",
       "    }\n",
       "\n",
       "    .dataframe tbody tr th {\n",
       "        vertical-align: top;\n",
       "    }\n",
       "\n",
       "    .dataframe thead th {\n",
       "        text-align: right;\n",
       "    }\n",
       "</style>\n",
       "<table border=\"1\" class=\"dataframe\">\n",
       "  <thead>\n",
       "    <tr style=\"text-align: right;\">\n",
       "      <th></th>\n",
       "      <th>Hotel_Address</th>\n",
       "      <th>Additional_Number_of_Scoring</th>\n",
       "      <th>Review_Date</th>\n",
       "      <th>Average_Score</th>\n",
       "      <th>Hotel_Name</th>\n",
       "      <th>Reviewer_Nationality</th>\n",
       "      <th>Negative_Review</th>\n",
       "      <th>Review_Total_Negative_Word_Counts</th>\n",
       "      <th>Total_Number_of_Reviews</th>\n",
       "      <th>Positive_Review</th>\n",
       "      <th>Review_Total_Positive_Word_Counts</th>\n",
       "      <th>Total_Number_of_Reviews_Reviewer_Has_Given</th>\n",
       "      <th>Reviewer_Score</th>\n",
       "      <th>Tags</th>\n",
       "      <th>days_since_review</th>\n",
       "      <th>lat</th>\n",
       "      <th>lng</th>\n",
       "    </tr>\n",
       "  </thead>\n",
       "  <tbody>\n",
       "    <tr>\n",
       "      <th>0</th>\n",
       "      <td>s Gravesandestraat 55 Oost 1092 AA Amsterdam ...</td>\n",
       "      <td>194</td>\n",
       "      <td>8/3/2017</td>\n",
       "      <td>7.7</td>\n",
       "      <td>Hotel Arena</td>\n",
       "      <td>Russia</td>\n",
       "      <td>I am so angry that i made this post available...</td>\n",
       "      <td>397</td>\n",
       "      <td>1403</td>\n",
       "      <td>Only the park outside of the hotel was beauti...</td>\n",
       "      <td>11</td>\n",
       "      <td>7</td>\n",
       "      <td>2.9</td>\n",
       "      <td>[' Leisure trip ', ' Couple ', ' Duplex Double...</td>\n",
       "      <td>0 days</td>\n",
       "      <td>52.360576</td>\n",
       "      <td>4.915968</td>\n",
       "    </tr>\n",
       "    <tr>\n",
       "      <th>1</th>\n",
       "      <td>s Gravesandestraat 55 Oost 1092 AA Amsterdam ...</td>\n",
       "      <td>194</td>\n",
       "      <td>8/3/2017</td>\n",
       "      <td>7.7</td>\n",
       "      <td>Hotel Arena</td>\n",
       "      <td>Ireland</td>\n",
       "      <td>No Negative</td>\n",
       "      <td>0</td>\n",
       "      <td>1403</td>\n",
       "      <td>No real complaints the hotel was great great ...</td>\n",
       "      <td>105</td>\n",
       "      <td>7</td>\n",
       "      <td>7.5</td>\n",
       "      <td>[' Leisure trip ', ' Couple ', ' Duplex Double...</td>\n",
       "      <td>0 days</td>\n",
       "      <td>52.360576</td>\n",
       "      <td>4.915968</td>\n",
       "    </tr>\n",
       "    <tr>\n",
       "      <th>2</th>\n",
       "      <td>s Gravesandestraat 55 Oost 1092 AA Amsterdam ...</td>\n",
       "      <td>194</td>\n",
       "      <td>7/31/2017</td>\n",
       "      <td>7.7</td>\n",
       "      <td>Hotel Arena</td>\n",
       "      <td>Australia</td>\n",
       "      <td>Rooms are nice but for elderly a bit difficul...</td>\n",
       "      <td>42</td>\n",
       "      <td>1403</td>\n",
       "      <td>Location was good and staff were ok It is cut...</td>\n",
       "      <td>21</td>\n",
       "      <td>9</td>\n",
       "      <td>7.1</td>\n",
       "      <td>[' Leisure trip ', ' Family with young childre...</td>\n",
       "      <td>3 days</td>\n",
       "      <td>52.360576</td>\n",
       "      <td>4.915968</td>\n",
       "    </tr>\n",
       "    <tr>\n",
       "      <th>3</th>\n",
       "      <td>s Gravesandestraat 55 Oost 1092 AA Amsterdam ...</td>\n",
       "      <td>194</td>\n",
       "      <td>7/31/2017</td>\n",
       "      <td>7.7</td>\n",
       "      <td>Hotel Arena</td>\n",
       "      <td>United Kingdom</td>\n",
       "      <td>My room was dirty and I was afraid to walk ba...</td>\n",
       "      <td>210</td>\n",
       "      <td>1403</td>\n",
       "      <td>Great location in nice surroundings the bar a...</td>\n",
       "      <td>26</td>\n",
       "      <td>1</td>\n",
       "      <td>3.8</td>\n",
       "      <td>[' Leisure trip ', ' Solo traveler ', ' Duplex...</td>\n",
       "      <td>3 days</td>\n",
       "      <td>52.360576</td>\n",
       "      <td>4.915968</td>\n",
       "    </tr>\n",
       "    <tr>\n",
       "      <th>4</th>\n",
       "      <td>s Gravesandestraat 55 Oost 1092 AA Amsterdam ...</td>\n",
       "      <td>194</td>\n",
       "      <td>7/24/2017</td>\n",
       "      <td>7.7</td>\n",
       "      <td>Hotel Arena</td>\n",
       "      <td>New Zealand</td>\n",
       "      <td>You When I booked with your company on line y...</td>\n",
       "      <td>140</td>\n",
       "      <td>1403</td>\n",
       "      <td>Amazing location and building Romantic setting</td>\n",
       "      <td>8</td>\n",
       "      <td>3</td>\n",
       "      <td>6.7</td>\n",
       "      <td>[' Leisure trip ', ' Couple ', ' Suite ', ' St...</td>\n",
       "      <td>10 days</td>\n",
       "      <td>52.360576</td>\n",
       "      <td>4.915968</td>\n",
       "    </tr>\n",
       "  </tbody>\n",
       "</table>\n",
       "</div>"
      ]
     },
     "metadata": {},
     "execution_count": 2
    }
   ],
   "metadata": {}
  },
  {
   "cell_type": "markdown",
   "source": [
    "Since we have duplicates hotel details from different reviewers who stayed at the same hotel, let's make a hotels dataset out of the original dataset so we can investigate each hotel later."
   ],
   "metadata": {}
  },
  {
   "cell_type": "code",
   "execution_count": 3,
   "source": [
    "df_hotels = df[['Hotel_Address', 'Additional_Number_of_Scoring', 'Average_Score', 'Hotel_Name', 'Total_Number_of_Reviews', 'lat', 'lng']].drop_duplicates()\r\n",
    "df_hotels.head()"
   ],
   "outputs": [
    {
     "output_type": "execute_result",
     "data": {
      "text/plain": [
       "                                          Hotel_Address  \\\n",
       "0      s Gravesandestraat 55 Oost 1092 AA Amsterdam ...   \n",
       "405   1 15 Templeton Place Earl s Court Kensington a...   \n",
       "971   1 2 Serjeant s Inn Fleet Street City of London...   \n",
       "2008  1 3 Queens Garden Westminster Borough London W...   \n",
       "3778    1 3 Rue d Argentine 16th arr 75116 Paris France   \n",
       "\n",
       "      Additional_Number_of_Scoring  Average_Score  \\\n",
       "0                              194            7.7   \n",
       "405                            244            8.5   \n",
       "971                            639            9.2   \n",
       "2008                          1058            7.7   \n",
       "3778                            26            8.4   \n",
       "\n",
       "                            Hotel_Name  Total_Number_of_Reviews        lat  \\\n",
       "0                          Hotel Arena                     1403  52.360576   \n",
       "405                   K K Hotel George                     1831  51.491888   \n",
       "971            Apex Temple Court Hotel                     2619  51.513734   \n",
       "2008  The Park Grand London Paddington                     4380  51.514218   \n",
       "3778               Monhotel Lounge SPA                      171  48.874348   \n",
       "\n",
       "           lng  \n",
       "0     4.915968  \n",
       "405  -0.194971  \n",
       "971  -0.108751  \n",
       "2008 -0.180903  \n",
       "3778  2.289733  "
      ],
      "text/html": [
       "<div>\n",
       "<style scoped>\n",
       "    .dataframe tbody tr th:only-of-type {\n",
       "        vertical-align: middle;\n",
       "    }\n",
       "\n",
       "    .dataframe tbody tr th {\n",
       "        vertical-align: top;\n",
       "    }\n",
       "\n",
       "    .dataframe thead th {\n",
       "        text-align: right;\n",
       "    }\n",
       "</style>\n",
       "<table border=\"1\" class=\"dataframe\">\n",
       "  <thead>\n",
       "    <tr style=\"text-align: right;\">\n",
       "      <th></th>\n",
       "      <th>Hotel_Address</th>\n",
       "      <th>Additional_Number_of_Scoring</th>\n",
       "      <th>Average_Score</th>\n",
       "      <th>Hotel_Name</th>\n",
       "      <th>Total_Number_of_Reviews</th>\n",
       "      <th>lat</th>\n",
       "      <th>lng</th>\n",
       "    </tr>\n",
       "  </thead>\n",
       "  <tbody>\n",
       "    <tr>\n",
       "      <th>0</th>\n",
       "      <td>s Gravesandestraat 55 Oost 1092 AA Amsterdam ...</td>\n",
       "      <td>194</td>\n",
       "      <td>7.7</td>\n",
       "      <td>Hotel Arena</td>\n",
       "      <td>1403</td>\n",
       "      <td>52.360576</td>\n",
       "      <td>4.915968</td>\n",
       "    </tr>\n",
       "    <tr>\n",
       "      <th>405</th>\n",
       "      <td>1 15 Templeton Place Earl s Court Kensington a...</td>\n",
       "      <td>244</td>\n",
       "      <td>8.5</td>\n",
       "      <td>K K Hotel George</td>\n",
       "      <td>1831</td>\n",
       "      <td>51.491888</td>\n",
       "      <td>-0.194971</td>\n",
       "    </tr>\n",
       "    <tr>\n",
       "      <th>971</th>\n",
       "      <td>1 2 Serjeant s Inn Fleet Street City of London...</td>\n",
       "      <td>639</td>\n",
       "      <td>9.2</td>\n",
       "      <td>Apex Temple Court Hotel</td>\n",
       "      <td>2619</td>\n",
       "      <td>51.513734</td>\n",
       "      <td>-0.108751</td>\n",
       "    </tr>\n",
       "    <tr>\n",
       "      <th>2008</th>\n",
       "      <td>1 3 Queens Garden Westminster Borough London W...</td>\n",
       "      <td>1058</td>\n",
       "      <td>7.7</td>\n",
       "      <td>The Park Grand London Paddington</td>\n",
       "      <td>4380</td>\n",
       "      <td>51.514218</td>\n",
       "      <td>-0.180903</td>\n",
       "    </tr>\n",
       "    <tr>\n",
       "      <th>3778</th>\n",
       "      <td>1 3 Rue d Argentine 16th arr 75116 Paris France</td>\n",
       "      <td>26</td>\n",
       "      <td>8.4</td>\n",
       "      <td>Monhotel Lounge SPA</td>\n",
       "      <td>171</td>\n",
       "      <td>48.874348</td>\n",
       "      <td>2.289733</td>\n",
       "    </tr>\n",
       "  </tbody>\n",
       "</table>\n",
       "</div>"
      ]
     },
     "metadata": {},
     "execution_count": 3
    }
   ],
   "metadata": {}
  },
  {
   "cell_type": "code",
   "execution_count": 4,
   "source": [
    "df_hotels.shape"
   ],
   "outputs": [
    {
     "output_type": "execute_result",
     "data": {
      "text/plain": [
       "(1494, 7)"
      ]
     },
     "metadata": {},
     "execution_count": 4
    }
   ],
   "metadata": {}
  },
  {
   "cell_type": "markdown",
   "source": [
    "Now let's go back to the original dataset and explore around"
   ],
   "metadata": {}
  },
  {
   "cell_type": "code",
   "execution_count": 5,
   "source": [
    "df.shape"
   ],
   "outputs": [
    {
     "output_type": "execute_result",
     "data": {
      "text/plain": [
       "(515738, 17)"
      ]
     },
     "metadata": {},
     "execution_count": 5
    }
   ],
   "metadata": {}
  },
  {
   "cell_type": "code",
   "execution_count": 6,
   "source": [
    "df.info()"
   ],
   "outputs": [
    {
     "output_type": "stream",
     "name": "stdout",
     "text": [
      "<class 'pandas.core.frame.DataFrame'>\n",
      "RangeIndex: 515738 entries, 0 to 515737\n",
      "Data columns (total 17 columns):\n",
      " #   Column                                      Non-Null Count   Dtype  \n",
      "---  ------                                      --------------   -----  \n",
      " 0   Hotel_Address                               515738 non-null  object \n",
      " 1   Additional_Number_of_Scoring                515738 non-null  int64  \n",
      " 2   Review_Date                                 515738 non-null  object \n",
      " 3   Average_Score                               515738 non-null  float64\n",
      " 4   Hotel_Name                                  515738 non-null  object \n",
      " 5   Reviewer_Nationality                        515738 non-null  object \n",
      " 6   Negative_Review                             515738 non-null  object \n",
      " 7   Review_Total_Negative_Word_Counts           515738 non-null  int64  \n",
      " 8   Total_Number_of_Reviews                     515738 non-null  int64  \n",
      " 9   Positive_Review                             515738 non-null  object \n",
      " 10  Review_Total_Positive_Word_Counts           515738 non-null  int64  \n",
      " 11  Total_Number_of_Reviews_Reviewer_Has_Given  515738 non-null  int64  \n",
      " 12  Reviewer_Score                              515738 non-null  float64\n",
      " 13  Tags                                        515738 non-null  object \n",
      " 14  days_since_review                           515738 non-null  object \n",
      " 15  lat                                         512470 non-null  float64\n",
      " 16  lng                                         512470 non-null  float64\n",
      "dtypes: float64(4), int64(5), object(8)\n",
      "memory usage: 66.9+ MB\n"
     ]
    }
   ],
   "metadata": {}
  },
  {
   "cell_type": "markdown",
   "source": [
    "We can see that the dataset for the most part does not contain missing values except for latitude and longitude values."
   ],
   "metadata": {}
  },
  {
   "cell_type": "code",
   "execution_count": 7,
   "source": [
    "df.describe(include='all')"
   ],
   "outputs": [
    {
     "output_type": "execute_result",
     "data": {
      "text/plain": [
       "                                            Hotel_Address  \\\n",
       "count                                              515738   \n",
       "unique                                               1493   \n",
       "top     163 Marsh Wall Docklands Tower Hamlets London ...   \n",
       "freq                                                 4789   \n",
       "mean                                                  NaN   \n",
       "std                                                   NaN   \n",
       "min                                                   NaN   \n",
       "25%                                                   NaN   \n",
       "50%                                                   NaN   \n",
       "75%                                                   NaN   \n",
       "max                                                   NaN   \n",
       "\n",
       "        Additional_Number_of_Scoring Review_Date  Average_Score  \\\n",
       "count                  515738.000000      515738  515738.000000   \n",
       "unique                           NaN         731            NaN   \n",
       "top                              NaN    8/2/2017            NaN   \n",
       "freq                             NaN        2585            NaN   \n",
       "mean                      498.081836         NaN       8.397487   \n",
       "std                       500.538467         NaN       0.548048   \n",
       "min                         1.000000         NaN       5.200000   \n",
       "25%                       169.000000         NaN       8.100000   \n",
       "50%                       341.000000         NaN       8.400000   \n",
       "75%                       660.000000         NaN       8.800000   \n",
       "max                      2682.000000         NaN       9.800000   \n",
       "\n",
       "                                        Hotel_Name Reviewer_Nationality  \\\n",
       "count                                       515738               515738   \n",
       "unique                                        1492                  227   \n",
       "top     Britannia International Hotel Canary Wharf      United Kingdom    \n",
       "freq                                          4789               245246   \n",
       "mean                                           NaN                  NaN   \n",
       "std                                            NaN                  NaN   \n",
       "min                                            NaN                  NaN   \n",
       "25%                                            NaN                  NaN   \n",
       "50%                                            NaN                  NaN   \n",
       "75%                                            NaN                  NaN   \n",
       "max                                            NaN                  NaN   \n",
       "\n",
       "       Negative_Review  Review_Total_Negative_Word_Counts  \\\n",
       "count           515738                      515738.000000   \n",
       "unique          330011                                NaN   \n",
       "top        No Negative                                NaN   \n",
       "freq            127890                                NaN   \n",
       "mean               NaN                          18.539450   \n",
       "std                NaN                          29.690831   \n",
       "min                NaN                           0.000000   \n",
       "25%                NaN                           2.000000   \n",
       "50%                NaN                           9.000000   \n",
       "75%                NaN                          23.000000   \n",
       "max                NaN                         408.000000   \n",
       "\n",
       "        Total_Number_of_Reviews Positive_Review  \\\n",
       "count             515738.000000          515738   \n",
       "unique                      NaN          412601   \n",
       "top                         NaN     No Positive   \n",
       "freq                        NaN           35946   \n",
       "mean                2743.743944             NaN   \n",
       "std                 2317.464868             NaN   \n",
       "min                   43.000000             NaN   \n",
       "25%                 1161.000000             NaN   \n",
       "50%                 2134.000000             NaN   \n",
       "75%                 3613.000000             NaN   \n",
       "max                16670.000000             NaN   \n",
       "\n",
       "        Review_Total_Positive_Word_Counts  \\\n",
       "count                       515738.000000   \n",
       "unique                                NaN   \n",
       "top                                   NaN   \n",
       "freq                                  NaN   \n",
       "mean                            17.776458   \n",
       "std                             21.804185   \n",
       "min                              0.000000   \n",
       "25%                              5.000000   \n",
       "50%                             11.000000   \n",
       "75%                             22.000000   \n",
       "max                            395.000000   \n",
       "\n",
       "        Total_Number_of_Reviews_Reviewer_Has_Given  Reviewer_Score  \\\n",
       "count                                515738.000000   515738.000000   \n",
       "unique                                         NaN             NaN   \n",
       "top                                            NaN             NaN   \n",
       "freq                                           NaN             NaN   \n",
       "mean                                      7.166001        8.395077   \n",
       "std                                      11.040228        1.637856   \n",
       "min                                       1.000000        2.500000   \n",
       "25%                                       1.000000        7.500000   \n",
       "50%                                       3.000000        8.800000   \n",
       "75%                                       8.000000        9.600000   \n",
       "max                                     355.000000       10.000000   \n",
       "\n",
       "                                                     Tags days_since_review  \\\n",
       "count                                              515738            515738   \n",
       "unique                                              55242               731   \n",
       "top     [' Leisure trip ', ' Couple ', ' Double Room '...            1 days   \n",
       "freq                                                 5101              2585   \n",
       "mean                                                  NaN               NaN   \n",
       "std                                                   NaN               NaN   \n",
       "min                                                   NaN               NaN   \n",
       "25%                                                   NaN               NaN   \n",
       "50%                                                   NaN               NaN   \n",
       "75%                                                   NaN               NaN   \n",
       "max                                                   NaN               NaN   \n",
       "\n",
       "                  lat            lng  \n",
       "count   512470.000000  512470.000000  \n",
       "unique            NaN            NaN  \n",
       "top               NaN            NaN  \n",
       "freq              NaN            NaN  \n",
       "mean        49.442439       2.823803  \n",
       "std          3.466325       4.579425  \n",
       "min         41.328376      -0.369758  \n",
       "25%         48.214662      -0.143372  \n",
       "50%         51.499981       0.010607  \n",
       "75%         51.516288       4.834443  \n",
       "max         52.400181      16.429233  "
      ],
      "text/html": [
       "<div>\n",
       "<style scoped>\n",
       "    .dataframe tbody tr th:only-of-type {\n",
       "        vertical-align: middle;\n",
       "    }\n",
       "\n",
       "    .dataframe tbody tr th {\n",
       "        vertical-align: top;\n",
       "    }\n",
       "\n",
       "    .dataframe thead th {\n",
       "        text-align: right;\n",
       "    }\n",
       "</style>\n",
       "<table border=\"1\" class=\"dataframe\">\n",
       "  <thead>\n",
       "    <tr style=\"text-align: right;\">\n",
       "      <th></th>\n",
       "      <th>Hotel_Address</th>\n",
       "      <th>Additional_Number_of_Scoring</th>\n",
       "      <th>Review_Date</th>\n",
       "      <th>Average_Score</th>\n",
       "      <th>Hotel_Name</th>\n",
       "      <th>Reviewer_Nationality</th>\n",
       "      <th>Negative_Review</th>\n",
       "      <th>Review_Total_Negative_Word_Counts</th>\n",
       "      <th>Total_Number_of_Reviews</th>\n",
       "      <th>Positive_Review</th>\n",
       "      <th>Review_Total_Positive_Word_Counts</th>\n",
       "      <th>Total_Number_of_Reviews_Reviewer_Has_Given</th>\n",
       "      <th>Reviewer_Score</th>\n",
       "      <th>Tags</th>\n",
       "      <th>days_since_review</th>\n",
       "      <th>lat</th>\n",
       "      <th>lng</th>\n",
       "    </tr>\n",
       "  </thead>\n",
       "  <tbody>\n",
       "    <tr>\n",
       "      <th>count</th>\n",
       "      <td>515738</td>\n",
       "      <td>515738.000000</td>\n",
       "      <td>515738</td>\n",
       "      <td>515738.000000</td>\n",
       "      <td>515738</td>\n",
       "      <td>515738</td>\n",
       "      <td>515738</td>\n",
       "      <td>515738.000000</td>\n",
       "      <td>515738.000000</td>\n",
       "      <td>515738</td>\n",
       "      <td>515738.000000</td>\n",
       "      <td>515738.000000</td>\n",
       "      <td>515738.000000</td>\n",
       "      <td>515738</td>\n",
       "      <td>515738</td>\n",
       "      <td>512470.000000</td>\n",
       "      <td>512470.000000</td>\n",
       "    </tr>\n",
       "    <tr>\n",
       "      <th>unique</th>\n",
       "      <td>1493</td>\n",
       "      <td>NaN</td>\n",
       "      <td>731</td>\n",
       "      <td>NaN</td>\n",
       "      <td>1492</td>\n",
       "      <td>227</td>\n",
       "      <td>330011</td>\n",
       "      <td>NaN</td>\n",
       "      <td>NaN</td>\n",
       "      <td>412601</td>\n",
       "      <td>NaN</td>\n",
       "      <td>NaN</td>\n",
       "      <td>NaN</td>\n",
       "      <td>55242</td>\n",
       "      <td>731</td>\n",
       "      <td>NaN</td>\n",
       "      <td>NaN</td>\n",
       "    </tr>\n",
       "    <tr>\n",
       "      <th>top</th>\n",
       "      <td>163 Marsh Wall Docklands Tower Hamlets London ...</td>\n",
       "      <td>NaN</td>\n",
       "      <td>8/2/2017</td>\n",
       "      <td>NaN</td>\n",
       "      <td>Britannia International Hotel Canary Wharf</td>\n",
       "      <td>United Kingdom</td>\n",
       "      <td>No Negative</td>\n",
       "      <td>NaN</td>\n",
       "      <td>NaN</td>\n",
       "      <td>No Positive</td>\n",
       "      <td>NaN</td>\n",
       "      <td>NaN</td>\n",
       "      <td>NaN</td>\n",
       "      <td>[' Leisure trip ', ' Couple ', ' Double Room '...</td>\n",
       "      <td>1 days</td>\n",
       "      <td>NaN</td>\n",
       "      <td>NaN</td>\n",
       "    </tr>\n",
       "    <tr>\n",
       "      <th>freq</th>\n",
       "      <td>4789</td>\n",
       "      <td>NaN</td>\n",
       "      <td>2585</td>\n",
       "      <td>NaN</td>\n",
       "      <td>4789</td>\n",
       "      <td>245246</td>\n",
       "      <td>127890</td>\n",
       "      <td>NaN</td>\n",
       "      <td>NaN</td>\n",
       "      <td>35946</td>\n",
       "      <td>NaN</td>\n",
       "      <td>NaN</td>\n",
       "      <td>NaN</td>\n",
       "      <td>5101</td>\n",
       "      <td>2585</td>\n",
       "      <td>NaN</td>\n",
       "      <td>NaN</td>\n",
       "    </tr>\n",
       "    <tr>\n",
       "      <th>mean</th>\n",
       "      <td>NaN</td>\n",
       "      <td>498.081836</td>\n",
       "      <td>NaN</td>\n",
       "      <td>8.397487</td>\n",
       "      <td>NaN</td>\n",
       "      <td>NaN</td>\n",
       "      <td>NaN</td>\n",
       "      <td>18.539450</td>\n",
       "      <td>2743.743944</td>\n",
       "      <td>NaN</td>\n",
       "      <td>17.776458</td>\n",
       "      <td>7.166001</td>\n",
       "      <td>8.395077</td>\n",
       "      <td>NaN</td>\n",
       "      <td>NaN</td>\n",
       "      <td>49.442439</td>\n",
       "      <td>2.823803</td>\n",
       "    </tr>\n",
       "    <tr>\n",
       "      <th>std</th>\n",
       "      <td>NaN</td>\n",
       "      <td>500.538467</td>\n",
       "      <td>NaN</td>\n",
       "      <td>0.548048</td>\n",
       "      <td>NaN</td>\n",
       "      <td>NaN</td>\n",
       "      <td>NaN</td>\n",
       "      <td>29.690831</td>\n",
       "      <td>2317.464868</td>\n",
       "      <td>NaN</td>\n",
       "      <td>21.804185</td>\n",
       "      <td>11.040228</td>\n",
       "      <td>1.637856</td>\n",
       "      <td>NaN</td>\n",
       "      <td>NaN</td>\n",
       "      <td>3.466325</td>\n",
       "      <td>4.579425</td>\n",
       "    </tr>\n",
       "    <tr>\n",
       "      <th>min</th>\n",
       "      <td>NaN</td>\n",
       "      <td>1.000000</td>\n",
       "      <td>NaN</td>\n",
       "      <td>5.200000</td>\n",
       "      <td>NaN</td>\n",
       "      <td>NaN</td>\n",
       "      <td>NaN</td>\n",
       "      <td>0.000000</td>\n",
       "      <td>43.000000</td>\n",
       "      <td>NaN</td>\n",
       "      <td>0.000000</td>\n",
       "      <td>1.000000</td>\n",
       "      <td>2.500000</td>\n",
       "      <td>NaN</td>\n",
       "      <td>NaN</td>\n",
       "      <td>41.328376</td>\n",
       "      <td>-0.369758</td>\n",
       "    </tr>\n",
       "    <tr>\n",
       "      <th>25%</th>\n",
       "      <td>NaN</td>\n",
       "      <td>169.000000</td>\n",
       "      <td>NaN</td>\n",
       "      <td>8.100000</td>\n",
       "      <td>NaN</td>\n",
       "      <td>NaN</td>\n",
       "      <td>NaN</td>\n",
       "      <td>2.000000</td>\n",
       "      <td>1161.000000</td>\n",
       "      <td>NaN</td>\n",
       "      <td>5.000000</td>\n",
       "      <td>1.000000</td>\n",
       "      <td>7.500000</td>\n",
       "      <td>NaN</td>\n",
       "      <td>NaN</td>\n",
       "      <td>48.214662</td>\n",
       "      <td>-0.143372</td>\n",
       "    </tr>\n",
       "    <tr>\n",
       "      <th>50%</th>\n",
       "      <td>NaN</td>\n",
       "      <td>341.000000</td>\n",
       "      <td>NaN</td>\n",
       "      <td>8.400000</td>\n",
       "      <td>NaN</td>\n",
       "      <td>NaN</td>\n",
       "      <td>NaN</td>\n",
       "      <td>9.000000</td>\n",
       "      <td>2134.000000</td>\n",
       "      <td>NaN</td>\n",
       "      <td>11.000000</td>\n",
       "      <td>3.000000</td>\n",
       "      <td>8.800000</td>\n",
       "      <td>NaN</td>\n",
       "      <td>NaN</td>\n",
       "      <td>51.499981</td>\n",
       "      <td>0.010607</td>\n",
       "    </tr>\n",
       "    <tr>\n",
       "      <th>75%</th>\n",
       "      <td>NaN</td>\n",
       "      <td>660.000000</td>\n",
       "      <td>NaN</td>\n",
       "      <td>8.800000</td>\n",
       "      <td>NaN</td>\n",
       "      <td>NaN</td>\n",
       "      <td>NaN</td>\n",
       "      <td>23.000000</td>\n",
       "      <td>3613.000000</td>\n",
       "      <td>NaN</td>\n",
       "      <td>22.000000</td>\n",
       "      <td>8.000000</td>\n",
       "      <td>9.600000</td>\n",
       "      <td>NaN</td>\n",
       "      <td>NaN</td>\n",
       "      <td>51.516288</td>\n",
       "      <td>4.834443</td>\n",
       "    </tr>\n",
       "    <tr>\n",
       "      <th>max</th>\n",
       "      <td>NaN</td>\n",
       "      <td>2682.000000</td>\n",
       "      <td>NaN</td>\n",
       "      <td>9.800000</td>\n",
       "      <td>NaN</td>\n",
       "      <td>NaN</td>\n",
       "      <td>NaN</td>\n",
       "      <td>408.000000</td>\n",
       "      <td>16670.000000</td>\n",
       "      <td>NaN</td>\n",
       "      <td>395.000000</td>\n",
       "      <td>355.000000</td>\n",
       "      <td>10.000000</td>\n",
       "      <td>NaN</td>\n",
       "      <td>NaN</td>\n",
       "      <td>52.400181</td>\n",
       "      <td>16.429233</td>\n",
       "    </tr>\n",
       "  </tbody>\n",
       "</table>\n",
       "</div>"
      ]
     },
     "metadata": {},
     "execution_count": 7
    }
   ],
   "metadata": {}
  },
  {
   "cell_type": "markdown",
   "source": [
    "We can observe a number of things:\r\n",
    "- Britannia International Hotel Canary Wharf is the most frequent hotel in this dataset\r\n",
    "- The mean of all hotels average scores is 8.4, and the interquartile range (i.e. between 25th and 75th percentiles) is 8.1-8.8\r\n",
    "- The mean of all individual review scores is also 8.4 but the interquartile range is 7.5-9.6\r\n",
    "- The most frequent nationality of reviewer is United Kingdom"
   ],
   "metadata": {}
  },
  {
   "cell_type": "markdown",
   "source": [
    "# Preprocessing and EDA"
   ],
   "metadata": {}
  },
  {
   "cell_type": "markdown",
   "source": [
    "**Trip type and Traveller type distribution**"
   ],
   "metadata": {}
  },
  {
   "cell_type": "markdown",
   "source": [
    "Add encoding columns for reviews that has the corresponding tags."
   ],
   "metadata": {}
  },
  {
   "cell_type": "code",
   "execution_count": 8,
   "source": [
    "# Create columns for encoding trip type\r\n",
    "df['triptype_Leisure'] = df['Tags'].map(lambda x: 1 if ' Leisure trip ' in x else 0)\r\n",
    "df['triptype_Business'] = df['Tags'].map(lambda x: 1 if ' Business trip ' in x else 0)"
   ],
   "outputs": [],
   "metadata": {}
  },
  {
   "cell_type": "code",
   "execution_count": 9,
   "source": [
    "# Create columns for encoding traveller type\r\n",
    "df['travellertype_Couple'] = df['Tags'].map(lambda x: 1 if ' Couple ' in x else 0)\r\n",
    "df['travellertype_With_a_pet'] = df['Tags'].map(lambda x: 1 if ' With a pet ' in x else 0)\r\n",
    "df['travellertype_Solo_traveler'] = df['Tags'].map(lambda x: 1 if ' Solo traveler ' in x else 0)\r\n",
    "df['travellertype_Group'] = df['Tags'].map(lambda x: 1 if ' Group ' in x else 0)\r\n",
    "df['travellertype_Family_with_young_children'] = df['Tags'].map(lambda x: 1 if ' Family with young children ' in x else 0)\r\n",
    "df['travellertype_Family_with_older_children'] = df['Tags'].map(lambda x: 1 if ' Family with older children ' in x else 0)\r\n",
    "df['travellertype_Travelers_with_friends'] = df['Tags'].map(lambda x: 1 if ' Travelers with friends ' in x else 0)\r\n",
    "df[100:105]"
   ],
   "outputs": [
    {
     "output_type": "execute_result",
     "data": {
      "text/plain": [
       "                                         Hotel_Address  \\\n",
       "100   s Gravesandestraat 55 Oost 1092 AA Amsterdam ...   \n",
       "101   s Gravesandestraat 55 Oost 1092 AA Amsterdam ...   \n",
       "102   s Gravesandestraat 55 Oost 1092 AA Amsterdam ...   \n",
       "103   s Gravesandestraat 55 Oost 1092 AA Amsterdam ...   \n",
       "104   s Gravesandestraat 55 Oost 1092 AA Amsterdam ...   \n",
       "\n",
       "     Additional_Number_of_Scoring Review_Date  Average_Score   Hotel_Name  \\\n",
       "100                           194   9/18/2016            7.7  Hotel Arena   \n",
       "101                           194   9/12/2016            7.7  Hotel Arena   \n",
       "102                           194    9/9/2016            7.7  Hotel Arena   \n",
       "103                           194   8/31/2016            7.7  Hotel Arena   \n",
       "104                           194   8/13/2016            7.7  Hotel Arena   \n",
       "\n",
       "    Reviewer_Nationality                                    Negative_Review  \\\n",
       "100      United Kingdom    Building work starting at 7am waking us up no...   \n",
       "101      United Kingdom    Hotel is having some construction work done t...   \n",
       "102         Netherlands    There was a girl working in the restaurant an...   \n",
       "103           Australia    it s a shame about all the construction going...   \n",
       "104      United Kingdom    Building work is being done but it doesn t ca...   \n",
       "\n",
       "     Review_Total_Negative_Word_Counts  Total_Number_of_Reviews  \\\n",
       "100                                 40                     1403   \n",
       "101                                 56                     1403   \n",
       "102                                 78                     1403   \n",
       "103                                 27                     1403   \n",
       "104                                 14                     1403   \n",
       "\n",
       "                                       Positive_Review  ...       lng  \\\n",
       "100                                           Location  ...  4.915968   \n",
       "101   Location was ok and has access to all the pub...  ...  4.915968   \n",
       "102   The bed was amazing Actually our whole room l...  ...  4.915968   \n",
       "103   super comfy beds cozy rooms lovely staff pret...  ...  4.915968   \n",
       "104   Staff were brilliant Really helpful attentive...  ...  4.915968   \n",
       "\n",
       "     triptype_Leisure  triptype_Business travellertype_Couple  \\\n",
       "100                 1                  0                    0   \n",
       "101                 0                  1                    0   \n",
       "102                 1                  0                    1   \n",
       "103                 1                  0                    0   \n",
       "104                 1                  0                    0   \n",
       "\n",
       "    travellertype_With_a_pet  travellertype_Solo_traveler  \\\n",
       "100                        0                            0   \n",
       "101                        0                            1   \n",
       "102                        0                            0   \n",
       "103                        0                            0   \n",
       "104                        0                            0   \n",
       "\n",
       "     travellertype_Group  travellertype_Family_with_young_children  \\\n",
       "100                    1                                         0   \n",
       "101                    0                                         0   \n",
       "102                    0                                         0   \n",
       "103                    1                                         0   \n",
       "104                    1                                         0   \n",
       "\n",
       "     travellertype_Family_with_older_children  \\\n",
       "100                                         0   \n",
       "101                                         0   \n",
       "102                                         0   \n",
       "103                                         0   \n",
       "104                                         0   \n",
       "\n",
       "     travellertype_Travelers_with_friends  \n",
       "100                                     0  \n",
       "101                                     0  \n",
       "102                                     0  \n",
       "103                                     0  \n",
       "104                                     0  \n",
       "\n",
       "[5 rows x 26 columns]"
      ],
      "text/html": [
       "<div>\n",
       "<style scoped>\n",
       "    .dataframe tbody tr th:only-of-type {\n",
       "        vertical-align: middle;\n",
       "    }\n",
       "\n",
       "    .dataframe tbody tr th {\n",
       "        vertical-align: top;\n",
       "    }\n",
       "\n",
       "    .dataframe thead th {\n",
       "        text-align: right;\n",
       "    }\n",
       "</style>\n",
       "<table border=\"1\" class=\"dataframe\">\n",
       "  <thead>\n",
       "    <tr style=\"text-align: right;\">\n",
       "      <th></th>\n",
       "      <th>Hotel_Address</th>\n",
       "      <th>Additional_Number_of_Scoring</th>\n",
       "      <th>Review_Date</th>\n",
       "      <th>Average_Score</th>\n",
       "      <th>Hotel_Name</th>\n",
       "      <th>Reviewer_Nationality</th>\n",
       "      <th>Negative_Review</th>\n",
       "      <th>Review_Total_Negative_Word_Counts</th>\n",
       "      <th>Total_Number_of_Reviews</th>\n",
       "      <th>Positive_Review</th>\n",
       "      <th>...</th>\n",
       "      <th>lng</th>\n",
       "      <th>triptype_Leisure</th>\n",
       "      <th>triptype_Business</th>\n",
       "      <th>travellertype_Couple</th>\n",
       "      <th>travellertype_With_a_pet</th>\n",
       "      <th>travellertype_Solo_traveler</th>\n",
       "      <th>travellertype_Group</th>\n",
       "      <th>travellertype_Family_with_young_children</th>\n",
       "      <th>travellertype_Family_with_older_children</th>\n",
       "      <th>travellertype_Travelers_with_friends</th>\n",
       "    </tr>\n",
       "  </thead>\n",
       "  <tbody>\n",
       "    <tr>\n",
       "      <th>100</th>\n",
       "      <td>s Gravesandestraat 55 Oost 1092 AA Amsterdam ...</td>\n",
       "      <td>194</td>\n",
       "      <td>9/18/2016</td>\n",
       "      <td>7.7</td>\n",
       "      <td>Hotel Arena</td>\n",
       "      <td>United Kingdom</td>\n",
       "      <td>Building work starting at 7am waking us up no...</td>\n",
       "      <td>40</td>\n",
       "      <td>1403</td>\n",
       "      <td>Location</td>\n",
       "      <td>...</td>\n",
       "      <td>4.915968</td>\n",
       "      <td>1</td>\n",
       "      <td>0</td>\n",
       "      <td>0</td>\n",
       "      <td>0</td>\n",
       "      <td>0</td>\n",
       "      <td>1</td>\n",
       "      <td>0</td>\n",
       "      <td>0</td>\n",
       "      <td>0</td>\n",
       "    </tr>\n",
       "    <tr>\n",
       "      <th>101</th>\n",
       "      <td>s Gravesandestraat 55 Oost 1092 AA Amsterdam ...</td>\n",
       "      <td>194</td>\n",
       "      <td>9/12/2016</td>\n",
       "      <td>7.7</td>\n",
       "      <td>Hotel Arena</td>\n",
       "      <td>United Kingdom</td>\n",
       "      <td>Hotel is having some construction work done t...</td>\n",
       "      <td>56</td>\n",
       "      <td>1403</td>\n",
       "      <td>Location was ok and has access to all the pub...</td>\n",
       "      <td>...</td>\n",
       "      <td>4.915968</td>\n",
       "      <td>0</td>\n",
       "      <td>1</td>\n",
       "      <td>0</td>\n",
       "      <td>0</td>\n",
       "      <td>1</td>\n",
       "      <td>0</td>\n",
       "      <td>0</td>\n",
       "      <td>0</td>\n",
       "      <td>0</td>\n",
       "    </tr>\n",
       "    <tr>\n",
       "      <th>102</th>\n",
       "      <td>s Gravesandestraat 55 Oost 1092 AA Amsterdam ...</td>\n",
       "      <td>194</td>\n",
       "      <td>9/9/2016</td>\n",
       "      <td>7.7</td>\n",
       "      <td>Hotel Arena</td>\n",
       "      <td>Netherlands</td>\n",
       "      <td>There was a girl working in the restaurant an...</td>\n",
       "      <td>78</td>\n",
       "      <td>1403</td>\n",
       "      <td>The bed was amazing Actually our whole room l...</td>\n",
       "      <td>...</td>\n",
       "      <td>4.915968</td>\n",
       "      <td>1</td>\n",
       "      <td>0</td>\n",
       "      <td>1</td>\n",
       "      <td>0</td>\n",
       "      <td>0</td>\n",
       "      <td>0</td>\n",
       "      <td>0</td>\n",
       "      <td>0</td>\n",
       "      <td>0</td>\n",
       "    </tr>\n",
       "    <tr>\n",
       "      <th>103</th>\n",
       "      <td>s Gravesandestraat 55 Oost 1092 AA Amsterdam ...</td>\n",
       "      <td>194</td>\n",
       "      <td>8/31/2016</td>\n",
       "      <td>7.7</td>\n",
       "      <td>Hotel Arena</td>\n",
       "      <td>Australia</td>\n",
       "      <td>it s a shame about all the construction going...</td>\n",
       "      <td>27</td>\n",
       "      <td>1403</td>\n",
       "      <td>super comfy beds cozy rooms lovely staff pret...</td>\n",
       "      <td>...</td>\n",
       "      <td>4.915968</td>\n",
       "      <td>1</td>\n",
       "      <td>0</td>\n",
       "      <td>0</td>\n",
       "      <td>0</td>\n",
       "      <td>0</td>\n",
       "      <td>1</td>\n",
       "      <td>0</td>\n",
       "      <td>0</td>\n",
       "      <td>0</td>\n",
       "    </tr>\n",
       "    <tr>\n",
       "      <th>104</th>\n",
       "      <td>s Gravesandestraat 55 Oost 1092 AA Amsterdam ...</td>\n",
       "      <td>194</td>\n",
       "      <td>8/13/2016</td>\n",
       "      <td>7.7</td>\n",
       "      <td>Hotel Arena</td>\n",
       "      <td>United Kingdom</td>\n",
       "      <td>Building work is being done but it doesn t ca...</td>\n",
       "      <td>14</td>\n",
       "      <td>1403</td>\n",
       "      <td>Staff were brilliant Really helpful attentive...</td>\n",
       "      <td>...</td>\n",
       "      <td>4.915968</td>\n",
       "      <td>1</td>\n",
       "      <td>0</td>\n",
       "      <td>0</td>\n",
       "      <td>0</td>\n",
       "      <td>0</td>\n",
       "      <td>1</td>\n",
       "      <td>0</td>\n",
       "      <td>0</td>\n",
       "      <td>0</td>\n",
       "    </tr>\n",
       "  </tbody>\n",
       "</table>\n",
       "<p>5 rows × 26 columns</p>\n",
       "</div>"
      ]
     },
     "metadata": {},
     "execution_count": 9
    }
   ],
   "metadata": {}
  },
  {
   "cell_type": "markdown",
   "source": [
    "Let's visualise the distributions of trip type and traveller type."
   ],
   "metadata": {}
  },
  {
   "cell_type": "code",
   "execution_count": 10,
   "source": [
    "# Plot traveller type distribution\r\n",
    "plt.figure(figsize=(6,6))\r\n",
    "chart = sns.barplot(['Leisure', 'Business'],\r\n",
    "            [df['triptype_Leisure'].sum(), df['triptype_Business'].sum()])\r\n",
    "plt.title('Trip type distribution', fontsize=14)\r\n",
    "plt.xlabel('Trip type', fontsize=14)\r\n",
    "plt.ylabel('Number of reviews', fontsize=14)\r\n",
    "labels = [f'{round(v.get_height()/len(df)*100,1)}%' for v in chart.containers[0]]\r\n",
    "chart.bar_label(chart.containers[0], labels=labels)\r\n",
    "plt.show()"
   ],
   "outputs": [
    {
     "output_type": "display_data",
     "data": {
      "text/plain": [
       "<Figure size 432x432 with 1 Axes>"
      ],
      "image/png": "[encoded data removed]"
     },
     "metadata": {
      "needs_background": "light"
     }
    }
   ],
   "metadata": {}
  },
  {
   "cell_type": "markdown",
   "source": [
    "Most of the trips are for leisure compared to for business."
   ],
   "metadata": {}
  },
  {
   "cell_type": "code",
   "execution_count": 11,
   "source": [
    "# Plot trip type distribution\r\n",
    "travellertype_list = ['travellertype_Couple','travellertype_With_a_pet','travellertype_Solo_traveler','travellertype_Group','travellertype_Family_with_young_children','travellertype_Family_with_older_children','travellertype_Travelers_with_friends']\r\n",
    "plt.figure(figsize=(8,6))\r\n",
    "chart = sns.barplot(['Couple', 'With a pet', 'Solo traveler', 'Group', 'Family with young children', 'Family with older children', 'Travelers with friends'],\r\n",
    "            df[travellertype_list].sum())\r\n",
    "plt.title('Traveller type distribution', fontsize=14)\r\n",
    "plt.xlabel('Traveller type', fontsize=14)\r\n",
    "plt.ylabel('Number of reviews', fontsize=14)\r\n",
    "chart.set_xticklabels(chart.get_xticklabels(), rotation=45, horizontalalignment='right')\r\n",
    "labels = [f'{round(v.get_height()/len(df)*100,1)}%' for v in chart.containers[0]]\r\n",
    "chart.bar_label(chart.containers[0], labels=labels)\r\n",
    "plt.show()"
   ],
   "outputs": [
    {
     "output_type": "display_data",
     "data": {
      "text/plain": [
       "<Figure size 576x432 with 1 Axes>"
      ],
      "image/png": "[encoded data removed]"
     },
     "metadata": {
      "needs_background": "light"
     }
    }
   ],
   "metadata": {}
  },
  {
   "cell_type": "markdown",
   "source": [
    "We see that couples make up the highest proportion of all reviews and there are only very few traveller(s) who bring pet, likely because hotels do not permit pets into rooms or it might be the inconvenience of bringing pets around when travelling."
   ],
   "metadata": {}
  },
  {
   "cell_type": "markdown",
   "source": [
    "**Hotel country distribution and Reviewers' Nationality**"
   ],
   "metadata": {}
  },
  {
   "cell_type": "markdown",
   "source": [
    "Assign country to each row in both the reviews dataset and hotels dataset. We will investigate trends according to country of hotels."
   ],
   "metadata": {}
  },
  {
   "cell_type": "code",
   "execution_count": 12,
   "source": [
    "country = df['Hotel_Address'].map(lambda x: x.split()[-1])\r\n",
    "country = country.map(lambda x: 'United Kingdom' if x == 'Kingdom' else x)\r\n",
    "df['hotel_country'] = country\r\n",
    "\r\n",
    "country = df_hotels['Hotel_Address'].map(lambda x: x.split()[-1])\r\n",
    "country = country.map(lambda x: 'United Kingdom' if x == 'Kingdom' else x)\r\n",
    "df_hotels['hotel_country'] = country"
   ],
   "outputs": [],
   "metadata": {}
  },
  {
   "cell_type": "code",
   "execution_count": 13,
   "source": [
    "df['hotel_country'].value_counts()"
   ],
   "outputs": [
    {
     "output_type": "execute_result",
     "data": {
      "text/plain": [
       "United Kingdom    262301\n",
       "Spain              60149\n",
       "France             59928\n",
       "Netherlands        57214\n",
       "Austria            38939\n",
       "Italy              37207\n",
       "Name: hotel_country, dtype: int64"
      ]
     },
     "metadata": {},
     "execution_count": 13
    }
   ],
   "metadata": {}
  },
  {
   "cell_type": "code",
   "execution_count": 14,
   "source": [
    "# Plot hotels distribution according to country\r\n",
    "def image_plot(heights, images, spacing=0):\r\n",
    "    # Iterate through images and data\r\n",
    "    plt.figure(figsize=(12,6))\r\n",
    "    xticks_pos = []\r\n",
    "    for i, (height, img) in enumerate(zip(heights, images)):\r\n",
    "        width = img.shape[0] *20\r\n",
    "        left = width*i + spacing*i\r\n",
    "        right = left + width\r\n",
    "        plt.imshow(img, extent=[left, right, 0, height], aspect='auto')\r\n",
    "        xticks_pos.append(left+10000) # for xticks position for country labels\r\n",
    "        # Show percentage on top of bars\r\n",
    "        percentage = height / len(df) * 100\r\n",
    "        plt.text(left+7500, height+750, f\"{round(percentage,1)}%\")\r\n",
    "    # Set x,y limits on plot window\r\n",
    "    plt.xlim(0, right)\r\n",
    "    plt.ylim(0, max(heights)*1.1)\r\n",
    "    # Set xticks to country names, and set x, y labels and title\r\n",
    "    plt.xticks(xticks_pos, df['hotel_country'].value_counts().index)\r\n",
    "    plt.xlabel('Country')\r\n",
    "    plt.ylabel('Number of reviews')\r\n",
    "    plt.title('Reviews distribution according to country')\r\n",
    "\r\n",
    "# Read in flag images\r\n",
    "austria_flag = imread('austria-flag-medium.png').swapaxes(0, 1)\r\n",
    "france_flag = imread('france-flag-medium.png').swapaxes(0, 1)\r\n",
    "italy_flag = imread('italy-flag-medium.png').swapaxes(0, 1)\r\n",
    "netherlands_flag = imread('netherlands-flag-medium.png').swapaxes(0, 1)\r\n",
    "spain_flag = imread('spain-flag-medium.png').swapaxes(0, 1)\r\n",
    "uk_flag = imread('united-kingdom-flag-medium.png').swapaxes(0, 1)\r\n",
    "\r\n",
    "# Plot using image_plot\r\n",
    "data = df['hotel_country'].value_counts()\r\n",
    "flags = [uk_flag, spain_flag, france_flag, netherlands_flag, austria_flag, italy_flag]\r\n",
    "\r\n",
    "image_plot(data, flags, spacing=10000)"
   ],
   "outputs": [
    {
     "output_type": "display_data",
     "data": {
      "text/plain": [
       "<Figure size 864x432 with 1 Axes>"
      ],
      "image/png": "[encoded data removed]"
     },
     "metadata": {
      "needs_background": "light"
     }
    }
   ],
   "metadata": {}
  },
  {
   "cell_type": "markdown",
   "source": [
    "The most number of reviews is from the United Kingdom, and the least number of reviews is from Italy. However, the next cell shows that most hotels in the dataset are located in France despite having low percentage of reviews."
   ],
   "metadata": {}
  },
  {
   "cell_type": "code",
   "execution_count": 15,
   "source": [
    "unique_hotels_country_count = df_hotels['hotel_country'].value_counts()\r\n",
    "unique_hotels_country_count"
   ],
   "outputs": [
    {
     "output_type": "execute_result",
     "data": {
      "text/plain": [
       "France            458\n",
       "United Kingdom    400\n",
       "Spain             211\n",
       "Italy             162\n",
       "Austria           158\n",
       "Netherlands       105\n",
       "Name: hotel_country, dtype: int64"
      ]
     },
     "metadata": {},
     "execution_count": 15
    }
   ],
   "metadata": {}
  },
  {
   "cell_type": "code",
   "execution_count": 16,
   "source": [
    "# Mean of individual reviewer scores by country of hotels\r\n",
    "df_mean = df.groupby(['hotel_country']).mean()\r\n",
    "df_mean['Reviewer_Score'].sort_values(ascending=False)"
   ],
   "outputs": [
    {
     "output_type": "execute_result",
     "data": {
      "text/plain": [
       "hotel_country\n",
       "Spain             8.554092\n",
       "Austria           8.545047\n",
       "Netherlands       8.456311\n",
       "France            8.420081\n",
       "Italy             8.346722\n",
       "United Kingdom    8.324138\n",
       "Name: Reviewer_Score, dtype: float64"
      ]
     },
     "metadata": {},
     "execution_count": 16
    }
   ],
   "metadata": {}
  },
  {
   "cell_type": "code",
   "execution_count": 17,
   "source": [
    "# Mean of hotels average scores by country of hotels\r\n",
    "df_hotels_mean = df_hotels.groupby(['hotel_country']).mean()\r\n",
    "df_hotels_mean['Average_Score'].sort_values(ascending=False)"
   ],
   "outputs": [
    {
     "output_type": "execute_result",
     "data": {
      "text/plain": [
       "hotel_country\n",
       "Austria           8.550000\n",
       "Spain             8.496209\n",
       "France            8.493668\n",
       "United Kingdom    8.464000\n",
       "Netherlands       8.409524\n",
       "Italy             8.318519\n",
       "Name: Average_Score, dtype: float64"
      ]
     },
     "metadata": {},
     "execution_count": 17
    }
   ],
   "metadata": {}
  },
  {
   "cell_type": "markdown",
   "source": [
    "The mean of scores for each country is slight different using whether the individual reviewer scores or the hotels' average scores, nevertheless there is not a strong link between country and score."
   ],
   "metadata": {}
  },
  {
   "cell_type": "markdown",
   "source": [
    "Let's look at trends according to the nationality of reviewers."
   ],
   "metadata": {}
  },
  {
   "cell_type": "code",
   "execution_count": 18,
   "source": [
    "# Reviewers' nationality\r\n",
    "nationality_count = df['Reviewer_Nationality'].value_counts()\r\n",
    "nationality_count"
   ],
   "outputs": [
    {
     "output_type": "execute_result",
     "data": {
      "text/plain": [
       " United Kingdom               245246\n",
       " United States of America      35437\n",
       " Australia                     21686\n",
       " Ireland                       14827\n",
       " United Arab Emirates          10235\n",
       "                               ...  \n",
       " Cape Verde                        1\n",
       " Anguilla                          1\n",
       " Vatican City                      1\n",
       " Northern Mariana Islands          1\n",
       " Guinea                            1\n",
       "Name: Reviewer_Nationality, Length: 227, dtype: int64"
      ]
     },
     "metadata": {},
     "execution_count": 18
    }
   ],
   "metadata": {}
  },
  {
   "cell_type": "code",
   "execution_count": 19,
   "source": [
    "# Plot bar plots of top 10 nationalities and bottom 10 nationalities in the number of reviewers\r\n",
    "fig, ax = plt.subplots(nrows=1, ncols=2, figsize=(14,4))\r\n",
    "rects1 = ax[0].bar(nationality_count.index[:10], nationality_count[:10])\r\n",
    "ax[0].set_title('Top 10 nationalities of reviewers')\r\n",
    "ax[0].set_xlabel('Nationality')\r\n",
    "ax[0].set_ylabel('Number of reviewers')\r\n",
    "_ = ax[0].set_xticklabels(nationality_count.index[:10], rotation=45, ha='right')\r\n",
    "\r\n",
    "rects2 = ax[1].bar(nationality_count.index[-10:], nationality_count[-10:])\r\n",
    "ax[1].set_title('Bottom 10 nationalities of reviewers')\r\n",
    "ax[1].set_xlabel('Nationality')\r\n",
    "ax[1].set_ylabel('Number of reviewers')\r\n",
    "_ = ax[1].set_xticklabels(nationality_count.index[-10:], rotation=45, ha='right')\r\n",
    "\r\n",
    "def autolabel(rects, ax_i):\r\n",
    "    \"\"\"Attach a text label above each bar in *rects*, displaying its height.\"\"\"\r\n",
    "    for rect in rects:\r\n",
    "        # print(rect)\r\n",
    "        height = rect.get_height()\r\n",
    "        ax[ax_i].annotate(f\"{round(height/len(df)*100, 1)}%\",\r\n",
    "                    xy=(rect.get_x() + rect.get_width() / 2, height),\r\n",
    "                    xytext=(0, 3),  # 3 points vertical offset\r\n",
    "                    textcoords=\"offset points\",\r\n",
    "                    ha='center', va='bottom')\r\n",
    "\r\n",
    "autolabel(rects1, 0)\r\n",
    "autolabel(rects2, 1)"
   ],
   "outputs": [
    {
     "output_type": "stream",
     "name": "stderr",
     "text": [
      "<ipython-input-19-c1488a952e27>:7: UserWarning: FixedFormatter should only be used together with FixedLocator\n",
      "  _ = ax[0].set_xticklabels(nationality_count.index[:10], rotation=45, ha='right')\n",
      "<ipython-input-19-c1488a952e27>:13: UserWarning: FixedFormatter should only be used together with FixedLocator\n",
      "  _ = ax[1].set_xticklabels(nationality_count.index[-10:], rotation=45, ha='right')\n"
     ]
    },
    {
     "output_type": "display_data",
     "data": {
      "text/plain": [
       "<Figure size 1008x288 with 2 Axes>"
      ],
      "image/png": "[encoded data removed]"
     },
     "metadata": {
      "needs_background": "light"
     }
    }
   ],
   "metadata": {}
  },
  {
   "cell_type": "code",
   "execution_count": 20,
   "source": [
    "# Average scores according to reviewers' nationalities\r\n",
    "nationality_score = df.groupby(['Reviewer_Nationality']).mean()\r\n",
    "nationality_score = nationality_score['Reviewer_Score'].sort_values(ascending=False)\r\n",
    "nationality_score"
   ],
   "outputs": [
    {
     "output_type": "execute_result",
     "data": {
      "text/plain": [
       "Reviewer_Nationality\n",
       " Equatorial Guinea            10.00\n",
       " Crimea                       10.00\n",
       " Svalbard Jan Mayen           10.00\n",
       " Comoros                      10.00\n",
       " Cape Verde                    9.60\n",
       "                              ...  \n",
       " Nepal                         6.84\n",
       " Mali                          6.44\n",
       " Northern Mariana Islands      5.80\n",
       " American Samoa                5.65\n",
       " Montserrat                    5.40\n",
       "Name: Reviewer_Score, Length: 227, dtype: float64"
      ]
     },
     "metadata": {},
     "execution_count": 20
    }
   ],
   "metadata": {}
  },
  {
   "cell_type": "code",
   "execution_count": 21,
   "source": [
    "score_top_10_nationalities_in_no_reviewers = nationality_score[nationality_count.index[:10]]\r\n",
    "score_top_10_nationalities_in_no_reviewers"
   ],
   "outputs": [
    {
     "output_type": "execute_result",
     "data": {
      "text/plain": [
       " United Kingdom               8.486352\n",
       " United States of America     8.786999\n",
       " Australia                    8.591718\n",
       " Ireland                      8.464052\n",
       " United Arab Emirates         7.878828\n",
       " Saudi Arabia                 7.881767\n",
       " Netherlands                  8.125148\n",
       " Switzerland                  8.161593\n",
       " Germany                      8.132477\n",
       " Canada                       8.547783\n",
       "Name: Reviewer_Score, dtype: float64"
      ]
     },
     "metadata": {},
     "execution_count": 21
    }
   ],
   "metadata": {}
  },
  {
   "cell_type": "code",
   "execution_count": 22,
   "source": [
    "# Plot bar plots of top 10 nationalities and bottom 10 nationalities in the average reviewers score\r\n",
    "fig, ax = plt.subplots(nrows=1, ncols=3, figsize=(14,4), sharey=True)\r\n",
    "rects1 = ax[0].bar(nationality_score.index[:10], nationality_score[:10])\r\n",
    "ax[0].set_title('Top 10 scoring nationalities')\r\n",
    "ax[0].set_xlabel('Nationality')\r\n",
    "ax[0].set_ylabel('Average Score')\r\n",
    "_ = ax[0].set_xticklabels(nationality_score.index[:10], rotation=45, ha='right')\r\n",
    "\r\n",
    "rects2 = ax[1].bar(nationality_score.index[-10:], nationality_score[-10:])\r\n",
    "ax[1].set_title('Bottom 10 scoring nationalities')\r\n",
    "ax[1].set_xlabel('Nationality')\r\n",
    "ax[1].set_ylabel('Average Score')\r\n",
    "_ = ax[1].set_xticklabels(nationality_score.index[-10:], rotation=45, ha='right')\r\n",
    "\r\n",
    "rects3 = ax[2].bar(nationality_count.index[:10], score_top_10_nationalities_in_no_reviewers)\r\n",
    "ax[2].set_title('Score from top 10 nationalities in most reviewers')\r\n",
    "ax[2].set_xlabel('Nationality')\r\n",
    "ax[2].set_ylabel('Average Score')\r\n",
    "_ = ax[2].set_xticklabels(nationality_count.index[:10], rotation=45, ha='right')"
   ],
   "outputs": [
    {
     "output_type": "stream",
     "name": "stderr",
     "text": [
      "<ipython-input-22-4c41aac657aa>:7: UserWarning: FixedFormatter should only be used together with FixedLocator\n",
      "  _ = ax[0].set_xticklabels(nationality_score.index[:10], rotation=45, ha='right')\n",
      "<ipython-input-22-4c41aac657aa>:13: UserWarning: FixedFormatter should only be used together with FixedLocator\n",
      "  _ = ax[1].set_xticklabels(nationality_score.index[-10:], rotation=45, ha='right')\n",
      "<ipython-input-22-4c41aac657aa>:19: UserWarning: FixedFormatter should only be used together with FixedLocator\n",
      "  _ = ax[2].set_xticklabels(nationality_count.index[:10], rotation=45, ha='right')\n"
     ]
    },
    {
     "output_type": "display_data",
     "data": {
      "text/plain": [
       "<Figure size 1008x288 with 3 Axes>"
      ],
      "image/png": "[encoded data removed]"
     },
     "metadata": {
      "needs_background": "light"
     }
    }
   ],
   "metadata": {}
  },
  {
   "cell_type": "markdown",
   "source": [
    "Bear in mind the nationalities in the top 10 and bottom 10 scoring bar charts are only one or two reviewers per nationality as they aren't major nationalities."
   ],
   "metadata": {}
  },
  {
   "cell_type": "markdown",
   "source": [
    "**Trends according to Month and Year**"
   ],
   "metadata": {}
  },
  {
   "cell_type": "markdown",
   "source": [
    "Let's look at trends according to month when reviews were given."
   ],
   "metadata": {}
  },
  {
   "cell_type": "code",
   "execution_count": 23,
   "source": [
    "# Average values by months\r\n",
    "df['Month'] = df['Review_Date'].map(lambda x: x.split('/')[0])\r\n",
    "df_month_mean = df.groupby(['Month']).mean()\r\n",
    "df_month_mean"
   ],
   "outputs": [
    {
     "output_type": "execute_result",
     "data": {
      "text/plain": [
       "       Additional_Number_of_Scoring  Average_Score  \\\n",
       "Month                                                \n",
       "1                        517.400014       8.413705   \n",
       "10                       486.546609       8.384458   \n",
       "11                       518.467000       8.382091   \n",
       "12                       524.050597       8.399048   \n",
       "2                        531.504092       8.399588   \n",
       "3                        519.662467       8.393320   \n",
       "4                        505.945480       8.408453   \n",
       "5                        491.524844       8.398608   \n",
       "6                        483.758626       8.398077   \n",
       "7                        458.499696       8.395359   \n",
       "8                        486.979949       8.406234   \n",
       "9                        471.136443       8.387687   \n",
       "\n",
       "       Review_Total_Negative_Word_Counts  Total_Number_of_Reviews  \\\n",
       "Month                                                               \n",
       "1                              17.940737              2781.594956   \n",
       "10                             18.074197              2703.293661   \n",
       "11                             17.665999              2774.376619   \n",
       "12                             17.324236              2777.136920   \n",
       "2                              18.139041              2783.424681   \n",
       "3                              18.258672              2781.925517   \n",
       "4                              19.273815              2751.031434   \n",
       "5                              19.525081              2718.667649   \n",
       "6                              19.698900              2715.588260   \n",
       "7                              19.887201              2697.616732   \n",
       "8                              18.219549              2748.454768   \n",
       "9                              17.945083              2714.485081   \n",
       "\n",
       "       Review_Total_Positive_Word_Counts  \\\n",
       "Month                                      \n",
       "1                              17.946834   \n",
       "10                             16.359943   \n",
       "11                             16.248957   \n",
       "12                             16.418638   \n",
       "2                              17.385171   \n",
       "3                              17.752615   \n",
       "4                              18.901243   \n",
       "5                              18.923962   \n",
       "6                              19.271214   \n",
       "7                              18.826412   \n",
       "8                              17.913838   \n",
       "9                              16.720468   \n",
       "\n",
       "       Total_Number_of_Reviews_Reviewer_Has_Given  Reviewer_Score        lat  \\\n",
       "Month                                                                          \n",
       "1                                        7.259614        8.485011  49.785925   \n",
       "10                                       7.338914        8.261577  49.348938   \n",
       "11                                       7.641674        8.338843  49.600102   \n",
       "12                                       7.657157        8.427132  49.842952   \n",
       "2                                        7.030545        8.528058  49.878712   \n",
       "3                                        7.080637        8.479832  49.674212   \n",
       "4                                        7.003754        8.431530  49.413573   \n",
       "5                                        7.109421        8.381041  49.363975   \n",
       "6                                        6.854415        8.391419  49.238394   \n",
       "7                                        6.746198        8.335486  49.080307   \n",
       "8                                        7.085057        8.411738  49.222912   \n",
       "9                                        7.363416        8.290648  49.074582   \n",
       "\n",
       "            lng  triptype_Leisure  triptype_Business  travellertype_Couple  \\\n",
       "Month                                                                        \n",
       "1      2.703625          0.822472           0.147921              0.528173   \n",
       "10     2.882521          0.777342           0.194877              0.498050   \n",
       "11     2.653221          0.760217           0.212427              0.497137   \n",
       "12     2.811204          0.810589           0.160754              0.507991   \n",
       "2      2.346899          0.771228           0.195726              0.469533   \n",
       "3      2.523488          0.767575           0.201776              0.483362   \n",
       "4      2.758832          0.805284           0.165823              0.458480   \n",
       "5      2.827431          0.811615           0.159561              0.494730   \n",
       "6      2.894210          0.817442           0.154910              0.497366   \n",
       "7      3.210053          0.841843           0.126810              0.467841   \n",
       "8      3.042214          0.886644           0.086853              0.470477   \n",
       "9      3.043726          0.816819           0.153625              0.504313   \n",
       "\n",
       "       travellertype_With_a_pet  travellertype_Solo_traveler  \\\n",
       "Month                                                          \n",
       "1                      0.004033                     0.193068   \n",
       "10                     0.002691                     0.231804   \n",
       "11                     0.003447                     0.243453   \n",
       "12                     0.003711                     0.210089   \n",
       "2                      0.002007                     0.288715   \n",
       "3                      0.001605                     0.227317   \n",
       "4                      0.002309                     0.202015   \n",
       "5                      0.002194                     0.202409   \n",
       "6                      0.002051                     0.203119   \n",
       "7                      0.002616                     0.180360   \n",
       "8                      0.003256                     0.159654   \n",
       "9                      0.002828                     0.211464   \n",
       "\n",
       "       travellertype_Group  travellertype_Family_with_young_children  \\\n",
       "Month                                                                  \n",
       "1                 0.106047                                  0.129012   \n",
       "10                0.126063                                  0.104646   \n",
       "11                0.127023                                  0.098554   \n",
       "12                0.114828                                  0.127982   \n",
       "2                 0.107480                                  0.097733   \n",
       "3                 0.137825                                  0.110071   \n",
       "4                 0.129189                                  0.163072   \n",
       "5                 0.144870                                  0.118176   \n",
       "6                 0.154513                                  0.095533   \n",
       "7                 0.141693                                  0.136421   \n",
       "8                 0.115014                                  0.122000   \n",
       "9                 0.112402                                  0.108537   \n",
       "\n",
       "       travellertype_Family_with_older_children  \\\n",
       "Month                                             \n",
       "1                                      0.040829   \n",
       "10                                     0.037132   \n",
       "11                                     0.031332   \n",
       "12                                     0.036812   \n",
       "2                                      0.033881   \n",
       "3                                      0.037606   \n",
       "4                                      0.043094   \n",
       "5                                      0.033362   \n",
       "6                                      0.041449   \n",
       "7                                      0.066385   \n",
       "8                                      0.129559   \n",
       "9                                      0.060173   \n",
       "\n",
       "       travellertype_Travelers_with_friends  \n",
       "Month                                        \n",
       "1                                  0.002871  \n",
       "10                                 0.002304  \n",
       "11                                 0.002502  \n",
       "12                                 0.002298  \n",
       "2                                  0.002658  \n",
       "3                                  0.003819  \n",
       "4                                  0.004151  \n",
       "5                                  0.006453  \n",
       "6                                  0.008019  \n",
       "7                                  0.007300  \n",
       "8                                  0.003296  \n",
       "9                                  0.003111  "
      ],
      "text/html": [
       "<div>\n",
       "<style scoped>\n",
       "    .dataframe tbody tr th:only-of-type {\n",
       "        vertical-align: middle;\n",
       "    }\n",
       "\n",
       "    .dataframe tbody tr th {\n",
       "        vertical-align: top;\n",
       "    }\n",
       "\n",
       "    .dataframe thead th {\n",
       "        text-align: right;\n",
       "    }\n",
       "</style>\n",
       "<table border=\"1\" class=\"dataframe\">\n",
       "  <thead>\n",
       "    <tr style=\"text-align: right;\">\n",
       "      <th></th>\n",
       "      <th>Additional_Number_of_Scoring</th>\n",
       "      <th>Average_Score</th>\n",
       "      <th>Review_Total_Negative_Word_Counts</th>\n",
       "      <th>Total_Number_of_Reviews</th>\n",
       "      <th>Review_Total_Positive_Word_Counts</th>\n",
       "      <th>Total_Number_of_Reviews_Reviewer_Has_Given</th>\n",
       "      <th>Reviewer_Score</th>\n",
       "      <th>lat</th>\n",
       "      <th>lng</th>\n",
       "      <th>triptype_Leisure</th>\n",
       "      <th>triptype_Business</th>\n",
       "      <th>travellertype_Couple</th>\n",
       "      <th>travellertype_With_a_pet</th>\n",
       "      <th>travellertype_Solo_traveler</th>\n",
       "      <th>travellertype_Group</th>\n",
       "      <th>travellertype_Family_with_young_children</th>\n",
       "      <th>travellertype_Family_with_older_children</th>\n",
       "      <th>travellertype_Travelers_with_friends</th>\n",
       "    </tr>\n",
       "    <tr>\n",
       "      <th>Month</th>\n",
       "      <th></th>\n",
       "      <th></th>\n",
       "      <th></th>\n",
       "      <th></th>\n",
       "      <th></th>\n",
       "      <th></th>\n",
       "      <th></th>\n",
       "      <th></th>\n",
       "      <th></th>\n",
       "      <th></th>\n",
       "      <th></th>\n",
       "      <th></th>\n",
       "      <th></th>\n",
       "      <th></th>\n",
       "      <th></th>\n",
       "      <th></th>\n",
       "      <th></th>\n",
       "      <th></th>\n",
       "    </tr>\n",
       "  </thead>\n",
       "  <tbody>\n",
       "    <tr>\n",
       "      <th>1</th>\n",
       "      <td>517.400014</td>\n",
       "      <td>8.413705</td>\n",
       "      <td>17.940737</td>\n",
       "      <td>2781.594956</td>\n",
       "      <td>17.946834</td>\n",
       "      <td>7.259614</td>\n",
       "      <td>8.485011</td>\n",
       "      <td>49.785925</td>\n",
       "      <td>2.703625</td>\n",
       "      <td>0.822472</td>\n",
       "      <td>0.147921</td>\n",
       "      <td>0.528173</td>\n",
       "      <td>0.004033</td>\n",
       "      <td>0.193068</td>\n",
       "      <td>0.106047</td>\n",
       "      <td>0.129012</td>\n",
       "      <td>0.040829</td>\n",
       "      <td>0.002871</td>\n",
       "    </tr>\n",
       "    <tr>\n",
       "      <th>10</th>\n",
       "      <td>486.546609</td>\n",
       "      <td>8.384458</td>\n",
       "      <td>18.074197</td>\n",
       "      <td>2703.293661</td>\n",
       "      <td>16.359943</td>\n",
       "      <td>7.338914</td>\n",
       "      <td>8.261577</td>\n",
       "      <td>49.348938</td>\n",
       "      <td>2.882521</td>\n",
       "      <td>0.777342</td>\n",
       "      <td>0.194877</td>\n",
       "      <td>0.498050</td>\n",
       "      <td>0.002691</td>\n",
       "      <td>0.231804</td>\n",
       "      <td>0.126063</td>\n",
       "      <td>0.104646</td>\n",
       "      <td>0.037132</td>\n",
       "      <td>0.002304</td>\n",
       "    </tr>\n",
       "    <tr>\n",
       "      <th>11</th>\n",
       "      <td>518.467000</td>\n",
       "      <td>8.382091</td>\n",
       "      <td>17.665999</td>\n",
       "      <td>2774.376619</td>\n",
       "      <td>16.248957</td>\n",
       "      <td>7.641674</td>\n",
       "      <td>8.338843</td>\n",
       "      <td>49.600102</td>\n",
       "      <td>2.653221</td>\n",
       "      <td>0.760217</td>\n",
       "      <td>0.212427</td>\n",
       "      <td>0.497137</td>\n",
       "      <td>0.003447</td>\n",
       "      <td>0.243453</td>\n",
       "      <td>0.127023</td>\n",
       "      <td>0.098554</td>\n",
       "      <td>0.031332</td>\n",
       "      <td>0.002502</td>\n",
       "    </tr>\n",
       "    <tr>\n",
       "      <th>12</th>\n",
       "      <td>524.050597</td>\n",
       "      <td>8.399048</td>\n",
       "      <td>17.324236</td>\n",
       "      <td>2777.136920</td>\n",
       "      <td>16.418638</td>\n",
       "      <td>7.657157</td>\n",
       "      <td>8.427132</td>\n",
       "      <td>49.842952</td>\n",
       "      <td>2.811204</td>\n",
       "      <td>0.810589</td>\n",
       "      <td>0.160754</td>\n",
       "      <td>0.507991</td>\n",
       "      <td>0.003711</td>\n",
       "      <td>0.210089</td>\n",
       "      <td>0.114828</td>\n",
       "      <td>0.127982</td>\n",
       "      <td>0.036812</td>\n",
       "      <td>0.002298</td>\n",
       "    </tr>\n",
       "    <tr>\n",
       "      <th>2</th>\n",
       "      <td>531.504092</td>\n",
       "      <td>8.399588</td>\n",
       "      <td>18.139041</td>\n",
       "      <td>2783.424681</td>\n",
       "      <td>17.385171</td>\n",
       "      <td>7.030545</td>\n",
       "      <td>8.528058</td>\n",
       "      <td>49.878712</td>\n",
       "      <td>2.346899</td>\n",
       "      <td>0.771228</td>\n",
       "      <td>0.195726</td>\n",
       "      <td>0.469533</td>\n",
       "      <td>0.002007</td>\n",
       "      <td>0.288715</td>\n",
       "      <td>0.107480</td>\n",
       "      <td>0.097733</td>\n",
       "      <td>0.033881</td>\n",
       "      <td>0.002658</td>\n",
       "    </tr>\n",
       "    <tr>\n",
       "      <th>3</th>\n",
       "      <td>519.662467</td>\n",
       "      <td>8.393320</td>\n",
       "      <td>18.258672</td>\n",
       "      <td>2781.925517</td>\n",
       "      <td>17.752615</td>\n",
       "      <td>7.080637</td>\n",
       "      <td>8.479832</td>\n",
       "      <td>49.674212</td>\n",
       "      <td>2.523488</td>\n",
       "      <td>0.767575</td>\n",
       "      <td>0.201776</td>\n",
       "      <td>0.483362</td>\n",
       "      <td>0.001605</td>\n",
       "      <td>0.227317</td>\n",
       "      <td>0.137825</td>\n",
       "      <td>0.110071</td>\n",
       "      <td>0.037606</td>\n",
       "      <td>0.003819</td>\n",
       "    </tr>\n",
       "    <tr>\n",
       "      <th>4</th>\n",
       "      <td>505.945480</td>\n",
       "      <td>8.408453</td>\n",
       "      <td>19.273815</td>\n",
       "      <td>2751.031434</td>\n",
       "      <td>18.901243</td>\n",
       "      <td>7.003754</td>\n",
       "      <td>8.431530</td>\n",
       "      <td>49.413573</td>\n",
       "      <td>2.758832</td>\n",
       "      <td>0.805284</td>\n",
       "      <td>0.165823</td>\n",
       "      <td>0.458480</td>\n",
       "      <td>0.002309</td>\n",
       "      <td>0.202015</td>\n",
       "      <td>0.129189</td>\n",
       "      <td>0.163072</td>\n",
       "      <td>0.043094</td>\n",
       "      <td>0.004151</td>\n",
       "    </tr>\n",
       "    <tr>\n",
       "      <th>5</th>\n",
       "      <td>491.524844</td>\n",
       "      <td>8.398608</td>\n",
       "      <td>19.525081</td>\n",
       "      <td>2718.667649</td>\n",
       "      <td>18.923962</td>\n",
       "      <td>7.109421</td>\n",
       "      <td>8.381041</td>\n",
       "      <td>49.363975</td>\n",
       "      <td>2.827431</td>\n",
       "      <td>0.811615</td>\n",
       "      <td>0.159561</td>\n",
       "      <td>0.494730</td>\n",
       "      <td>0.002194</td>\n",
       "      <td>0.202409</td>\n",
       "      <td>0.144870</td>\n",
       "      <td>0.118176</td>\n",
       "      <td>0.033362</td>\n",
       "      <td>0.006453</td>\n",
       "    </tr>\n",
       "    <tr>\n",
       "      <th>6</th>\n",
       "      <td>483.758626</td>\n",
       "      <td>8.398077</td>\n",
       "      <td>19.698900</td>\n",
       "      <td>2715.588260</td>\n",
       "      <td>19.271214</td>\n",
       "      <td>6.854415</td>\n",
       "      <td>8.391419</td>\n",
       "      <td>49.238394</td>\n",
       "      <td>2.894210</td>\n",
       "      <td>0.817442</td>\n",
       "      <td>0.154910</td>\n",
       "      <td>0.497366</td>\n",
       "      <td>0.002051</td>\n",
       "      <td>0.203119</td>\n",
       "      <td>0.154513</td>\n",
       "      <td>0.095533</td>\n",
       "      <td>0.041449</td>\n",
       "      <td>0.008019</td>\n",
       "    </tr>\n",
       "    <tr>\n",
       "      <th>7</th>\n",
       "      <td>458.499696</td>\n",
       "      <td>8.395359</td>\n",
       "      <td>19.887201</td>\n",
       "      <td>2697.616732</td>\n",
       "      <td>18.826412</td>\n",
       "      <td>6.746198</td>\n",
       "      <td>8.335486</td>\n",
       "      <td>49.080307</td>\n",
       "      <td>3.210053</td>\n",
       "      <td>0.841843</td>\n",
       "      <td>0.126810</td>\n",
       "      <td>0.467841</td>\n",
       "      <td>0.002616</td>\n",
       "      <td>0.180360</td>\n",
       "      <td>0.141693</td>\n",
       "      <td>0.136421</td>\n",
       "      <td>0.066385</td>\n",
       "      <td>0.007300</td>\n",
       "    </tr>\n",
       "    <tr>\n",
       "      <th>8</th>\n",
       "      <td>486.979949</td>\n",
       "      <td>8.406234</td>\n",
       "      <td>18.219549</td>\n",
       "      <td>2748.454768</td>\n",
       "      <td>17.913838</td>\n",
       "      <td>7.085057</td>\n",
       "      <td>8.411738</td>\n",
       "      <td>49.222912</td>\n",
       "      <td>3.042214</td>\n",
       "      <td>0.886644</td>\n",
       "      <td>0.086853</td>\n",
       "      <td>0.470477</td>\n",
       "      <td>0.003256</td>\n",
       "      <td>0.159654</td>\n",
       "      <td>0.115014</td>\n",
       "      <td>0.122000</td>\n",
       "      <td>0.129559</td>\n",
       "      <td>0.003296</td>\n",
       "    </tr>\n",
       "    <tr>\n",
       "      <th>9</th>\n",
       "      <td>471.136443</td>\n",
       "      <td>8.387687</td>\n",
       "      <td>17.945083</td>\n",
       "      <td>2714.485081</td>\n",
       "      <td>16.720468</td>\n",
       "      <td>7.363416</td>\n",
       "      <td>8.290648</td>\n",
       "      <td>49.074582</td>\n",
       "      <td>3.043726</td>\n",
       "      <td>0.816819</td>\n",
       "      <td>0.153625</td>\n",
       "      <td>0.504313</td>\n",
       "      <td>0.002828</td>\n",
       "      <td>0.211464</td>\n",
       "      <td>0.112402</td>\n",
       "      <td>0.108537</td>\n",
       "      <td>0.060173</td>\n",
       "      <td>0.003111</td>\n",
       "    </tr>\n",
       "  </tbody>\n",
       "</table>\n",
       "</div>"
      ]
     },
     "metadata": {},
     "execution_count": 23
    }
   ],
   "metadata": {}
  },
  {
   "cell_type": "code",
   "execution_count": 24,
   "source": [
    "# Plot average score by month\r\n",
    "plt.bar(df_month_mean.index, df_month_mean['Reviewer_Score'])\r\n",
    "plt.xlabel('Month')\r\n",
    "plt.ylabel('Average score of reviews')\r\n",
    "plt.title('Average score by month')"
   ],
   "outputs": [
    {
     "output_type": "execute_result",
     "data": {
      "text/plain": [
       "Text(0.5, 1.0, 'Average score by month')"
      ]
     },
     "metadata": {},
     "execution_count": 24
    },
    {
     "output_type": "display_data",
     "data": {
      "text/plain": [
       "<Figure size 432x288 with 1 Axes>"
      ],
      "image/png": "[encoded data removed]"
     },
     "metadata": {
      "needs_background": "light"
     }
    }
   ],
   "metadata": {}
  },
  {
   "cell_type": "markdown",
   "source": [
    "And look at trends according to year."
   ],
   "metadata": {}
  },
  {
   "cell_type": "code",
   "execution_count": 25,
   "source": [
    "# Average values by year\r\n",
    "df['Year'] = df['Review_Date'].map(lambda x: x.split('/')[-1])\r\n",
    "df_year_mean = df.groupby(['Year']).mean()\r\n",
    "df_year_mean"
   ],
   "outputs": [
    {
     "output_type": "execute_result",
     "data": {
      "text/plain": [
       "      Additional_Number_of_Scoring  Average_Score  \\\n",
       "Year                                                \n",
       "2015                    491.271489       8.375398   \n",
       "2016                    506.008566       8.401862   \n",
       "2017                    488.821533       8.403426   \n",
       "\n",
       "      Review_Total_Negative_Word_Counts  Total_Number_of_Reviews  \\\n",
       "Year                                                               \n",
       "2015                          16.686037              2713.769769   \n",
       "2016                          18.282005              2778.004043   \n",
       "2017                          20.090818              2704.045049   \n",
       "\n",
       "      Review_Total_Positive_Word_Counts  \\\n",
       "Year                                      \n",
       "2015                          15.939044   \n",
       "2016                          17.668831   \n",
       "2017                          19.065564   \n",
       "\n",
       "      Total_Number_of_Reviews_Reviewer_Has_Given  Reviewer_Score        lat  \\\n",
       "Year                                                                          \n",
       "2015                                    7.867435        8.319843  49.338725   \n",
       "2016                                    7.175845        8.424700  49.470125   \n",
       "2017                                    6.726564        8.390479  49.458226   \n",
       "\n",
       "           lng  triptype_Leisure  triptype_Business  travellertype_Couple  \\\n",
       "Year                                                                        \n",
       "2015  2.932284          0.802744           0.169920              0.505284   \n",
       "2016  2.801208          0.813924           0.158081              0.504661   \n",
       "2017  2.796566          0.807950           0.159941              0.453402   \n",
       "\n",
       "      travellertype_With_a_pet  travellertype_Solo_traveler  \\\n",
       "Year                                                          \n",
       "2015                  0.003057                     0.218308   \n",
       "2016                  0.002969                     0.207138   \n",
       "2017                  0.002111                     0.211348   \n",
       "\n",
       "      travellertype_Group  travellertype_Family_with_young_children  \\\n",
       "Year                                                                  \n",
       "2015             0.118834                                  0.068076   \n",
       "2016             0.120014                                  0.097382   \n",
       "2017             0.143022                                  0.183868   \n",
       "\n",
       "      travellertype_Family_with_older_children  \\\n",
       "Year                                             \n",
       "2015                                  0.089498   \n",
       "2016                                  0.067042   \n",
       "2017                                  0.001039   \n",
       "\n",
       "      travellertype_Travelers_with_friends  \n",
       "Year                                        \n",
       "2015                              0.000000  \n",
       "2016                              0.003763  \n",
       "2017                              0.007321  "
      ],
      "text/html": [
       "<div>\n",
       "<style scoped>\n",
       "    .dataframe tbody tr th:only-of-type {\n",
       "        vertical-align: middle;\n",
       "    }\n",
       "\n",
       "    .dataframe tbody tr th {\n",
       "        vertical-align: top;\n",
       "    }\n",
       "\n",
       "    .dataframe thead th {\n",
       "        text-align: right;\n",
       "    }\n",
       "</style>\n",
       "<table border=\"1\" class=\"dataframe\">\n",
       "  <thead>\n",
       "    <tr style=\"text-align: right;\">\n",
       "      <th></th>\n",
       "      <th>Additional_Number_of_Scoring</th>\n",
       "      <th>Average_Score</th>\n",
       "      <th>Review_Total_Negative_Word_Counts</th>\n",
       "      <th>Total_Number_of_Reviews</th>\n",
       "      <th>Review_Total_Positive_Word_Counts</th>\n",
       "      <th>Total_Number_of_Reviews_Reviewer_Has_Given</th>\n",
       "      <th>Reviewer_Score</th>\n",
       "      <th>lat</th>\n",
       "      <th>lng</th>\n",
       "      <th>triptype_Leisure</th>\n",
       "      <th>triptype_Business</th>\n",
       "      <th>travellertype_Couple</th>\n",
       "      <th>travellertype_With_a_pet</th>\n",
       "      <th>travellertype_Solo_traveler</th>\n",
       "      <th>travellertype_Group</th>\n",
       "      <th>travellertype_Family_with_young_children</th>\n",
       "      <th>travellertype_Family_with_older_children</th>\n",
       "      <th>travellertype_Travelers_with_friends</th>\n",
       "    </tr>\n",
       "    <tr>\n",
       "      <th>Year</th>\n",
       "      <th></th>\n",
       "      <th></th>\n",
       "      <th></th>\n",
       "      <th></th>\n",
       "      <th></th>\n",
       "      <th></th>\n",
       "      <th></th>\n",
       "      <th></th>\n",
       "      <th></th>\n",
       "      <th></th>\n",
       "      <th></th>\n",
       "      <th></th>\n",
       "      <th></th>\n",
       "      <th></th>\n",
       "      <th></th>\n",
       "      <th></th>\n",
       "      <th></th>\n",
       "      <th></th>\n",
       "    </tr>\n",
       "  </thead>\n",
       "  <tbody>\n",
       "    <tr>\n",
       "      <th>2015</th>\n",
       "      <td>491.271489</td>\n",
       "      <td>8.375398</td>\n",
       "      <td>16.686037</td>\n",
       "      <td>2713.769769</td>\n",
       "      <td>15.939044</td>\n",
       "      <td>7.867435</td>\n",
       "      <td>8.319843</td>\n",
       "      <td>49.338725</td>\n",
       "      <td>2.932284</td>\n",
       "      <td>0.802744</td>\n",
       "      <td>0.169920</td>\n",
       "      <td>0.505284</td>\n",
       "      <td>0.003057</td>\n",
       "      <td>0.218308</td>\n",
       "      <td>0.118834</td>\n",
       "      <td>0.068076</td>\n",
       "      <td>0.089498</td>\n",
       "      <td>0.000000</td>\n",
       "    </tr>\n",
       "    <tr>\n",
       "      <th>2016</th>\n",
       "      <td>506.008566</td>\n",
       "      <td>8.401862</td>\n",
       "      <td>18.282005</td>\n",
       "      <td>2778.004043</td>\n",
       "      <td>17.668831</td>\n",
       "      <td>7.175845</td>\n",
       "      <td>8.424700</td>\n",
       "      <td>49.470125</td>\n",
       "      <td>2.801208</td>\n",
       "      <td>0.813924</td>\n",
       "      <td>0.158081</td>\n",
       "      <td>0.504661</td>\n",
       "      <td>0.002969</td>\n",
       "      <td>0.207138</td>\n",
       "      <td>0.120014</td>\n",
       "      <td>0.097382</td>\n",
       "      <td>0.067042</td>\n",
       "      <td>0.003763</td>\n",
       "    </tr>\n",
       "    <tr>\n",
       "      <th>2017</th>\n",
       "      <td>488.821533</td>\n",
       "      <td>8.403426</td>\n",
       "      <td>20.090818</td>\n",
       "      <td>2704.045049</td>\n",
       "      <td>19.065564</td>\n",
       "      <td>6.726564</td>\n",
       "      <td>8.390479</td>\n",
       "      <td>49.458226</td>\n",
       "      <td>2.796566</td>\n",
       "      <td>0.807950</td>\n",
       "      <td>0.159941</td>\n",
       "      <td>0.453402</td>\n",
       "      <td>0.002111</td>\n",
       "      <td>0.211348</td>\n",
       "      <td>0.143022</td>\n",
       "      <td>0.183868</td>\n",
       "      <td>0.001039</td>\n",
       "      <td>0.007321</td>\n",
       "    </tr>\n",
       "  </tbody>\n",
       "</table>\n",
       "</div>"
      ]
     },
     "metadata": {},
     "execution_count": 25
    }
   ],
   "metadata": {}
  },
  {
   "cell_type": "code",
   "execution_count": 26,
   "source": [
    "df_year_mean.index"
   ],
   "outputs": [
    {
     "output_type": "execute_result",
     "data": {
      "text/plain": [
       "Index(['2015', '2016', '2017'], dtype='object', name='Year')"
      ]
     },
     "metadata": {},
     "execution_count": 26
    }
   ],
   "metadata": {}
  },
  {
   "cell_type": "code",
   "execution_count": 27,
   "source": [
    "# Plot noticeable trends in terms of year\r\n",
    "fig, ax = plt.subplots(nrows=1, ncols=3, figsize=(14, 4))\r\n",
    "ax[0].bar(df_year_mean.index, df_year_mean['Review_Total_Negative_Word_Counts'])\r\n",
    "ax[0].set_xlabel('Year')\r\n",
    "ax[0].set_ylabel('Word Count')\r\n",
    "ax[0].set_title('Average Word Count of Negative Reviews')\r\n",
    "ax[1].bar(df_year_mean.index, df_year_mean['Review_Total_Positive_Word_Counts'])\r\n",
    "ax[1].set_xlabel('Year')\r\n",
    "ax[1].set_ylabel('Word Count')\r\n",
    "ax[1].set_title('Average Word Count of Positive Reviews')\r\n",
    "ax[2].bar(df_year_mean.index, df_year_mean['Total_Number_of_Reviews_Reviewer_Has_Given'])\r\n",
    "ax[2].set_xlabel('Year')\r\n",
    "ax[2].set_ylabel('Number of Reviews')\r\n",
    "ax[2].set_title('Average Number of Reviews Reviewer Has Given')\r\n",
    "fig.tight_layout()"
   ],
   "outputs": [
    {
     "output_type": "display_data",
     "data": {
      "text/plain": [
       "<Figure size 1008x288 with 3 Axes>"
      ],
      "image/png": "[encoded data removed]"
     },
     "metadata": {
      "needs_background": "light"
     }
    }
   ],
   "metadata": {}
  },
  {
   "cell_type": "markdown",
   "source": [
    "After looking at months and years, only noticeable difference in review score with respect to date is from year 2015 to 2017:\r\n",
    "- both negative word counts and positive word counts are increasing\r\n",
    "- total number of reviews reviewer has given is decreasing"
   ],
   "metadata": {}
  },
  {
   "cell_type": "markdown",
   "source": [
    "# Sampling the Data"
   ],
   "metadata": {}
  },
  {
   "cell_type": "markdown",
   "source": [
    "To speed up computation, we will sample a fraction of the original dataset."
   ],
   "metadata": {}
  },
  {
   "cell_type": "code",
   "execution_count": 28,
   "source": [
    "df = df.sample(frac=0.2, replace = False, random_state=14)\r\n",
    "df.head()"
   ],
   "outputs": [
    {
     "output_type": "execute_result",
     "data": {
      "text/plain": [
       "                                            Hotel_Address  \\\n",
       "250306         8 rue Chambiges 8th arr 75008 Paris France   \n",
       "358387     Kirchberggasse 6 07 Neubau 1070 Vienna Austria   \n",
       "351102  Josefsgasse 4 6 08 Josefstadt 1080 Vienna Austria   \n",
       "286546           Bergara 8 Eixample 08002 Barcelona Spain   \n",
       "485631  Via Pietro Gaggia 3 Ripamonti Corvetto 20139 M...   \n",
       "\n",
       "        Additional_Number_of_Scoring Review_Date  Average_Score  \\\n",
       "250306                           122   8/11/2015            8.9   \n",
       "358387                           285   2/25/2017            8.7   \n",
       "351102                           227   2/18/2017            8.3   \n",
       "286546                           256   9/27/2016            8.8   \n",
       "485631                           269   7/17/2016            8.1   \n",
       "\n",
       "                        Hotel_Name    Reviewer_Nationality  \\\n",
       "250306           Chambiges Elys es         United Kingdom    \n",
       "358387    K K Hotel Maria Theresia         United Kingdom    \n",
       "351102      Mercure Josefshof Wien            Switzerland    \n",
       "286546              Hotel Pulitzer                 Kuwait    \n",
       "485631  Starhotels Business Palace   United Arab Emirates    \n",
       "\n",
       "                                          Negative_Review  \\\n",
       "250306                         There were bed bugs Nasty    \n",
       "358387   Walls are pretty thin so could hear folk in t...   \n",
       "351102   Room on the attic with window in the roof fel...   \n",
       "286546   not much entertainment in room we were only s...   \n",
       "485631                                  No swimming pool    \n",
       "\n",
       "        Review_Total_Negative_Word_Counts  Total_Number_of_Reviews  \\\n",
       "250306                                  7                      858   \n",
       "358387                                 17                     3181   \n",
       "351102                                 31                     2526   \n",
       "286546                                 31                     1746   \n",
       "485631                                  5                     5265   \n",
       "\n",
       "                                          Positive_Review  ...  \\\n",
       "250306                                        No Positive  ...   \n",
       "358387   Room was very clean and the bed was extremely...  ...   \n",
       "351102   Accessible to the metro and therefore easy ac...  ...   \n",
       "286546   location was excellent staff were very helpfu...  ...   \n",
       "485631                      Location Room size Cleaneanse  ...   \n",
       "\n",
       "        travellertype_Couple  travellertype_With_a_pet  \\\n",
       "250306                     1                         0   \n",
       "358387                     1                         0   \n",
       "351102                     0                         0   \n",
       "286546                     1                         0   \n",
       "485631                     0                         0   \n",
       "\n",
       "        travellertype_Solo_traveler travellertype_Group  \\\n",
       "250306                            0                   0   \n",
       "358387                            0                   0   \n",
       "351102                            1                   0   \n",
       "286546                            0                   0   \n",
       "485631                            0                   0   \n",
       "\n",
       "       travellertype_Family_with_young_children  \\\n",
       "250306                                        0   \n",
       "358387                                        0   \n",
       "351102                                        0   \n",
       "286546                                        0   \n",
       "485631                                        1   \n",
       "\n",
       "        travellertype_Family_with_older_children  \\\n",
       "250306                                         0   \n",
       "358387                                         0   \n",
       "351102                                         0   \n",
       "286546                                         0   \n",
       "485631                                         0   \n",
       "\n",
       "        travellertype_Travelers_with_friends  hotel_country  Month  Year  \n",
       "250306                                     0         France      8  2015  \n",
       "358387                                     0        Austria      2  2017  \n",
       "351102                                     0        Austria      2  2017  \n",
       "286546                                     0          Spain      9  2016  \n",
       "485631                                     0          Italy      7  2016  \n",
       "\n",
       "[5 rows x 29 columns]"
      ],
      "text/html": [
       "<div>\n",
       "<style scoped>\n",
       "    .dataframe tbody tr th:only-of-type {\n",
       "        vertical-align: middle;\n",
       "    }\n",
       "\n",
       "    .dataframe tbody tr th {\n",
       "        vertical-align: top;\n",
       "    }\n",
       "\n",
       "    .dataframe thead th {\n",
       "        text-align: right;\n",
       "    }\n",
       "</style>\n",
       "<table border=\"1\" class=\"dataframe\">\n",
       "  <thead>\n",
       "    <tr style=\"text-align: right;\">\n",
       "      <th></th>\n",
       "      <th>Hotel_Address</th>\n",
       "      <th>Additional_Number_of_Scoring</th>\n",
       "      <th>Review_Date</th>\n",
       "      <th>Average_Score</th>\n",
       "      <th>Hotel_Name</th>\n",
       "      <th>Reviewer_Nationality</th>\n",
       "      <th>Negative_Review</th>\n",
       "      <th>Review_Total_Negative_Word_Counts</th>\n",
       "      <th>Total_Number_of_Reviews</th>\n",
       "      <th>Positive_Review</th>\n",
       "      <th>...</th>\n",
       "      <th>travellertype_Couple</th>\n",
       "      <th>travellertype_With_a_pet</th>\n",
       "      <th>travellertype_Solo_traveler</th>\n",
       "      <th>travellertype_Group</th>\n",
       "      <th>travellertype_Family_with_young_children</th>\n",
       "      <th>travellertype_Family_with_older_children</th>\n",
       "      <th>travellertype_Travelers_with_friends</th>\n",
       "      <th>hotel_country</th>\n",
       "      <th>Month</th>\n",
       "      <th>Year</th>\n",
       "    </tr>\n",
       "  </thead>\n",
       "  <tbody>\n",
       "    <tr>\n",
       "      <th>250306</th>\n",
       "      <td>8 rue Chambiges 8th arr 75008 Paris France</td>\n",
       "      <td>122</td>\n",
       "      <td>8/11/2015</td>\n",
       "      <td>8.9</td>\n",
       "      <td>Chambiges Elys es</td>\n",
       "      <td>United Kingdom</td>\n",
       "      <td>There were bed bugs Nasty</td>\n",
       "      <td>7</td>\n",
       "      <td>858</td>\n",
       "      <td>No Positive</td>\n",
       "      <td>...</td>\n",
       "      <td>1</td>\n",
       "      <td>0</td>\n",
       "      <td>0</td>\n",
       "      <td>0</td>\n",
       "      <td>0</td>\n",
       "      <td>0</td>\n",
       "      <td>0</td>\n",
       "      <td>France</td>\n",
       "      <td>8</td>\n",
       "      <td>2015</td>\n",
       "    </tr>\n",
       "    <tr>\n",
       "      <th>358387</th>\n",
       "      <td>Kirchberggasse 6 07 Neubau 1070 Vienna Austria</td>\n",
       "      <td>285</td>\n",
       "      <td>2/25/2017</td>\n",
       "      <td>8.7</td>\n",
       "      <td>K K Hotel Maria Theresia</td>\n",
       "      <td>United Kingdom</td>\n",
       "      <td>Walls are pretty thin so could hear folk in t...</td>\n",
       "      <td>17</td>\n",
       "      <td>3181</td>\n",
       "      <td>Room was very clean and the bed was extremely...</td>\n",
       "      <td>...</td>\n",
       "      <td>1</td>\n",
       "      <td>0</td>\n",
       "      <td>0</td>\n",
       "      <td>0</td>\n",
       "      <td>0</td>\n",
       "      <td>0</td>\n",
       "      <td>0</td>\n",
       "      <td>Austria</td>\n",
       "      <td>2</td>\n",
       "      <td>2017</td>\n",
       "    </tr>\n",
       "    <tr>\n",
       "      <th>351102</th>\n",
       "      <td>Josefsgasse 4 6 08 Josefstadt 1080 Vienna Austria</td>\n",
       "      <td>227</td>\n",
       "      <td>2/18/2017</td>\n",
       "      <td>8.3</td>\n",
       "      <td>Mercure Josefshof Wien</td>\n",
       "      <td>Switzerland</td>\n",
       "      <td>Room on the attic with window in the roof fel...</td>\n",
       "      <td>31</td>\n",
       "      <td>2526</td>\n",
       "      <td>Accessible to the metro and therefore easy ac...</td>\n",
       "      <td>...</td>\n",
       "      <td>0</td>\n",
       "      <td>0</td>\n",
       "      <td>1</td>\n",
       "      <td>0</td>\n",
       "      <td>0</td>\n",
       "      <td>0</td>\n",
       "      <td>0</td>\n",
       "      <td>Austria</td>\n",
       "      <td>2</td>\n",
       "      <td>2017</td>\n",
       "    </tr>\n",
       "    <tr>\n",
       "      <th>286546</th>\n",
       "      <td>Bergara 8 Eixample 08002 Barcelona Spain</td>\n",
       "      <td>256</td>\n",
       "      <td>9/27/2016</td>\n",
       "      <td>8.8</td>\n",
       "      <td>Hotel Pulitzer</td>\n",
       "      <td>Kuwait</td>\n",
       "      <td>not much entertainment in room we were only s...</td>\n",
       "      <td>31</td>\n",
       "      <td>1746</td>\n",
       "      <td>location was excellent staff were very helpfu...</td>\n",
       "      <td>...</td>\n",
       "      <td>1</td>\n",
       "      <td>0</td>\n",
       "      <td>0</td>\n",
       "      <td>0</td>\n",
       "      <td>0</td>\n",
       "      <td>0</td>\n",
       "      <td>0</td>\n",
       "      <td>Spain</td>\n",
       "      <td>9</td>\n",
       "      <td>2016</td>\n",
       "    </tr>\n",
       "    <tr>\n",
       "      <th>485631</th>\n",
       "      <td>Via Pietro Gaggia 3 Ripamonti Corvetto 20139 M...</td>\n",
       "      <td>269</td>\n",
       "      <td>7/17/2016</td>\n",
       "      <td>8.1</td>\n",
       "      <td>Starhotels Business Palace</td>\n",
       "      <td>United Arab Emirates</td>\n",
       "      <td>No swimming pool</td>\n",
       "      <td>5</td>\n",
       "      <td>5265</td>\n",
       "      <td>Location Room size Cleaneanse</td>\n",
       "      <td>...</td>\n",
       "      <td>0</td>\n",
       "      <td>0</td>\n",
       "      <td>0</td>\n",
       "      <td>0</td>\n",
       "      <td>1</td>\n",
       "      <td>0</td>\n",
       "      <td>0</td>\n",
       "      <td>Italy</td>\n",
       "      <td>7</td>\n",
       "      <td>2016</td>\n",
       "    </tr>\n",
       "  </tbody>\n",
       "</table>\n",
       "<p>5 rows × 29 columns</p>\n",
       "</div>"
      ]
     },
     "metadata": {},
     "execution_count": 28
    }
   ],
   "metadata": {}
  },
  {
   "cell_type": "code",
   "execution_count": 29,
   "source": [
    "df.shape"
   ],
   "outputs": [
    {
     "output_type": "execute_result",
     "data": {
      "text/plain": [
       "(103148, 29)"
      ]
     },
     "metadata": {},
     "execution_count": 29
    }
   ],
   "metadata": {}
  },
  {
   "cell_type": "markdown",
   "source": [
    "# Natural Language Processing"
   ],
   "metadata": {}
  },
  {
   "cell_type": "markdown",
   "source": [
    "We remove stop words and perform lemmatisation as well as replacing certain redundant comment on each negative review and positive review."
   ],
   "metadata": {}
  },
  {
   "cell_type": "code",
   "execution_count": 30,
   "source": [
    "stop_words = set(stopwords.words('english'))\r\n",
    "lemmatizer = WordNetLemmatizer()\r\n",
    "neg_reviews = []\r\n",
    "\r\n",
    "# Function for lemmatization wrapped in lru_cache decorator for storing duplicate result in cache for faster computation\r\n",
    "@lru_cache(maxsize=None) # Need to set maxsize=None otherwise it will default to 128\r\n",
    "def perform_lemmatization(token):\r\n",
    "    return lemmatizer.lemmatize(token)\r\n",
    "\r\n",
    "# Perform NLP on all the negative reviews \r\n",
    "for review in df['Negative_Review']:\r\n",
    "    review = review.lower()\r\n",
    "    review = review.strip()\r\n",
    "    if review in ['no negative', 'n a', 'nothing']:\r\n",
    "        neg_reviews.append('')\r\n",
    "        continue\r\n",
    "    \r\n",
    "    only_alphabets = re.sub(\"[^a-z]\", \" \", review)\r\n",
    "    tokens = nltk.word_tokenize(only_alphabets)\r\n",
    "    filtered_result = list(filter(lambda l: l not in stop_words, tokens))\r\n",
    "    lemmas = [perform_lemmatization(t) for t in filtered_result]\r\n",
    "    neg_reviews.append(' '.join(lemmas))"
   ],
   "outputs": [],
   "metadata": {}
  },
  {
   "cell_type": "code",
   "execution_count": 31,
   "source": [
    "perform_lemmatization.cache_info()"
   ],
   "outputs": [
    {
     "output_type": "execute_result",
     "data": {
      "text/plain": [
       "CacheInfo(hits=866000, misses=23303, maxsize=None, currsize=23303)"
      ]
     },
     "metadata": {},
     "execution_count": 31
    }
   ],
   "metadata": {}
  },
  {
   "cell_type": "code",
   "execution_count": 32,
   "source": [
    "neg_reviews[:5]"
   ],
   "outputs": [
    {
     "output_type": "execute_result",
     "data": {
      "text/plain": [
       "['bed bug nasty',\n",
       " 'wall pretty thin could hear folk bathroom corridor',\n",
       " 'room attic window roof felt closed coffee tea room restaurant hotel felt cold isolated',\n",
       " 'much entertainment room served complementary water queen size bed bit big room perhaps use softer pillow',\n",
       " 'swimming pool']"
      ]
     },
     "metadata": {},
     "execution_count": 32
    }
   ],
   "metadata": {}
  },
  {
   "cell_type": "code",
   "execution_count": 33,
   "source": [
    "pos_reviews = []\r\n",
    "\r\n",
    "# Perform NLP on all the positive reviews \r\n",
    "for review in df['Positive_Review']:\r\n",
    "    review = review.lower()\r\n",
    "    review = review.strip()\r\n",
    "    if review in ['no positive', 'n a', 'nothing']:\r\n",
    "        pos_reviews.append('')\r\n",
    "        continue\r\n",
    "    \r\n",
    "    only_alphabets = re.sub(\"[^a-z]\", \" \", review)\r\n",
    "    tokens = nltk.word_tokenize(only_alphabets)\r\n",
    "    filtered_result = list(filter(lambda l: l not in stop_words, tokens))\r\n",
    "    lemmas = [perform_lemmatization(t) for t in filtered_result]\r\n",
    "    pos_reviews.append(' '.join(lemmas))"
   ],
   "outputs": [],
   "metadata": {}
  },
  {
   "cell_type": "code",
   "execution_count": 34,
   "source": [
    "perform_lemmatization.cache_info()"
   ],
   "outputs": [
    {
     "output_type": "execute_result",
     "data": {
      "text/plain": [
       "CacheInfo(hits=1837230, misses=33370, maxsize=None, currsize=33370)"
      ]
     },
     "metadata": {},
     "execution_count": 34
    }
   ],
   "metadata": {}
  },
  {
   "cell_type": "code",
   "execution_count": 35,
   "source": [
    "pos_reviews[:5]"
   ],
   "outputs": [
    {
     "output_type": "execute_result",
     "data": {
      "text/plain": [
       "['',\n",
       " 'room clean bed extremely comfortable breakfast excellent restaurant option around min walk huge amount option would definitely stay',\n",
       " 'accessible metro therefore easy access place interest',\n",
       " 'location excellent staff helpful shower good effective room lighting loved lounge',\n",
       " 'location room size cleaneanse']"
      ]
     },
     "metadata": {},
     "execution_count": 35
    }
   ],
   "metadata": {}
  },
  {
   "cell_type": "markdown",
   "source": [
    "# Feature engineering"
   ],
   "metadata": {}
  },
  {
   "cell_type": "markdown",
   "source": [
    "We can combine the positive review and negative review into one review for each row."
   ],
   "metadata": {}
  },
  {
   "cell_type": "code",
   "execution_count": 36,
   "source": [
    "pos_reviews_column = df['Positive_Review'].apply(lambda x: '' if x.lower().strip() in ['no positive', 'n a', 'nothing'] else x)\r\n",
    "neg_reviews_column = df['Negative_Review'].apply(lambda x: '' if x.lower().strip() in ['no negative', 'n a', 'nothing'] else x)\r\n",
    "df['Review'] = neg_reviews_column + '.' + pos_reviews_column\r\n",
    "df['Review']"
   ],
   "outputs": [
    {
     "output_type": "execute_result",
     "data": {
      "text/plain": [
       "250306                          There were bed bugs Nasty .\n",
       "358387     Walls are pretty thin so could hear folk in t...\n",
       "351102     Room on the attic with window in the roof fel...\n",
       "286546     not much entertainment in room we were only s...\n",
       "485631     No swimming pool . Location Room size Cleaneanse\n",
       "                                ...                        \n",
       "216091     Even though the room had all the needed facil...\n",
       "493977     The hot water was not consistent . Hotel and ...\n",
       "76495      Access to the closet was limited and made it ...\n",
       "226958     Private parking was advertised when I got the...\n",
       "131352     Tiny tiny room But did all I needed as was on...\n",
       "Name: Review, Length: 103148, dtype: object"
      ]
     },
     "metadata": {},
     "execution_count": 36
    }
   ],
   "metadata": {}
  },
  {
   "cell_type": "code",
   "execution_count": 72,
   "source": [
    "df[\"Review\"][351102]"
   ],
   "outputs": [
    {
     "output_type": "execute_result",
     "data": {
      "text/plain": [
       "' Room on the attic with window in the roof felt closed in No coffee tea in the room No restaurant in the hotel and it felt cold and isolated . Accessible to the metro and therefore easy access to places of interest '"
      ]
     },
     "metadata": {},
     "execution_count": 72
    }
   ],
   "metadata": {}
  },
  {
   "cell_type": "code",
   "execution_count": 37,
   "source": [
    "sid = SentimentIntensityAnalyzer()\r\n",
    "df[\"sentiments\"] = df[\"Review\"].apply(lambda x: sid.polarity_scores(x))\r\n",
    "df = pd.concat([df.drop(['sentiments'], axis=1), df['sentiments'].apply(pd.Series)], axis=1)\r\n",
    "df.head()"
   ],
   "outputs": [
    {
     "output_type": "execute_result",
     "data": {
      "text/plain": [
       "                                            Hotel_Address  \\\n",
       "250306         8 rue Chambiges 8th arr 75008 Paris France   \n",
       "358387     Kirchberggasse 6 07 Neubau 1070 Vienna Austria   \n",
       "351102  Josefsgasse 4 6 08 Josefstadt 1080 Vienna Austria   \n",
       "286546           Bergara 8 Eixample 08002 Barcelona Spain   \n",
       "485631  Via Pietro Gaggia 3 Ripamonti Corvetto 20139 M...   \n",
       "\n",
       "        Additional_Number_of_Scoring Review_Date  Average_Score  \\\n",
       "250306                           122   8/11/2015            8.9   \n",
       "358387                           285   2/25/2017            8.7   \n",
       "351102                           227   2/18/2017            8.3   \n",
       "286546                           256   9/27/2016            8.8   \n",
       "485631                           269   7/17/2016            8.1   \n",
       "\n",
       "                        Hotel_Name    Reviewer_Nationality  \\\n",
       "250306           Chambiges Elys es         United Kingdom    \n",
       "358387    K K Hotel Maria Theresia         United Kingdom    \n",
       "351102      Mercure Josefshof Wien            Switzerland    \n",
       "286546              Hotel Pulitzer                 Kuwait    \n",
       "485631  Starhotels Business Palace   United Arab Emirates    \n",
       "\n",
       "                                          Negative_Review  \\\n",
       "250306                         There were bed bugs Nasty    \n",
       "358387   Walls are pretty thin so could hear folk in t...   \n",
       "351102   Room on the attic with window in the roof fel...   \n",
       "286546   not much entertainment in room we were only s...   \n",
       "485631                                  No swimming pool    \n",
       "\n",
       "        Review_Total_Negative_Word_Counts  Total_Number_of_Reviews  \\\n",
       "250306                                  7                      858   \n",
       "358387                                 17                     3181   \n",
       "351102                                 31                     2526   \n",
       "286546                                 31                     1746   \n",
       "485631                                  5                     5265   \n",
       "\n",
       "                                          Positive_Review  ...  \\\n",
       "250306                                        No Positive  ...   \n",
       "358387   Room was very clean and the bed was extremely...  ...   \n",
       "351102   Accessible to the metro and therefore easy ac...  ...   \n",
       "286546   location was excellent staff were very helpfu...  ...   \n",
       "485631                      Location Room size Cleaneanse  ...   \n",
       "\n",
       "        travellertype_Family_with_older_children  \\\n",
       "250306                                         0   \n",
       "358387                                         0   \n",
       "351102                                         0   \n",
       "286546                                         0   \n",
       "485631                                         0   \n",
       "\n",
       "        travellertype_Travelers_with_friends  hotel_country Month  Year  \\\n",
       "250306                                     0         France     8  2015   \n",
       "358387                                     0        Austria     2  2017   \n",
       "351102                                     0        Austria     2  2017   \n",
       "286546                                     0          Spain     9  2016   \n",
       "485631                                     0          Italy     7  2016   \n",
       "\n",
       "                                                   Review    neg    neu  \\\n",
       "250306                        There were bed bugs Nasty .  0.474  0.526   \n",
       "358387   Walls are pretty thin so could hear folk in t...  0.000  0.729   \n",
       "351102   Room on the attic with window in the roof fel...  0.138  0.741   \n",
       "286546   not much entertainment in room we were only s...  0.038  0.674   \n",
       "485631   No swimming pool . Location Room size Cleaneanse  0.268  0.732   \n",
       "\n",
       "          pos  compound  \n",
       "250306  0.000   -0.5574  \n",
       "358387  0.271    0.9223  \n",
       "351102  0.121    0.0516  \n",
       "286546  0.288    0.9452  \n",
       "485631  0.000   -0.2960  \n",
       "\n",
       "[5 rows x 34 columns]"
      ],
      "text/html": [
       "<div>\n",
       "<style scoped>\n",
       "    .dataframe tbody tr th:only-of-type {\n",
       "        vertical-align: middle;\n",
       "    }\n",
       "\n",
       "    .dataframe tbody tr th {\n",
       "        vertical-align: top;\n",
       "    }\n",
       "\n",
       "    .dataframe thead th {\n",
       "        text-align: right;\n",
       "    }\n",
       "</style>\n",
       "<table border=\"1\" class=\"dataframe\">\n",
       "  <thead>\n",
       "    <tr style=\"text-align: right;\">\n",
       "      <th></th>\n",
       "      <th>Hotel_Address</th>\n",
       "      <th>Additional_Number_of_Scoring</th>\n",
       "      <th>Review_Date</th>\n",
       "      <th>Average_Score</th>\n",
       "      <th>Hotel_Name</th>\n",
       "      <th>Reviewer_Nationality</th>\n",
       "      <th>Negative_Review</th>\n",
       "      <th>Review_Total_Negative_Word_Counts</th>\n",
       "      <th>Total_Number_of_Reviews</th>\n",
       "      <th>Positive_Review</th>\n",
       "      <th>...</th>\n",
       "      <th>travellertype_Family_with_older_children</th>\n",
       "      <th>travellertype_Travelers_with_friends</th>\n",
       "      <th>hotel_country</th>\n",
       "      <th>Month</th>\n",
       "      <th>Year</th>\n",
       "      <th>Review</th>\n",
       "      <th>neg</th>\n",
       "      <th>neu</th>\n",
       "      <th>pos</th>\n",
       "      <th>compound</th>\n",
       "    </tr>\n",
       "  </thead>\n",
       "  <tbody>\n",
       "    <tr>\n",
       "      <th>250306</th>\n",
       "      <td>8 rue Chambiges 8th arr 75008 Paris France</td>\n",
       "      <td>122</td>\n",
       "      <td>8/11/2015</td>\n",
       "      <td>8.9</td>\n",
       "      <td>Chambiges Elys es</td>\n",
       "      <td>United Kingdom</td>\n",
       "      <td>There were bed bugs Nasty</td>\n",
       "      <td>7</td>\n",
       "      <td>858</td>\n",
       "      <td>No Positive</td>\n",
       "      <td>...</td>\n",
       "      <td>0</td>\n",
       "      <td>0</td>\n",
       "      <td>France</td>\n",
       "      <td>8</td>\n",
       "      <td>2015</td>\n",
       "      <td>There were bed bugs Nasty .</td>\n",
       "      <td>0.474</td>\n",
       "      <td>0.526</td>\n",
       "      <td>0.000</td>\n",
       "      <td>-0.5574</td>\n",
       "    </tr>\n",
       "    <tr>\n",
       "      <th>358387</th>\n",
       "      <td>Kirchberggasse 6 07 Neubau 1070 Vienna Austria</td>\n",
       "      <td>285</td>\n",
       "      <td>2/25/2017</td>\n",
       "      <td>8.7</td>\n",
       "      <td>K K Hotel Maria Theresia</td>\n",
       "      <td>United Kingdom</td>\n",
       "      <td>Walls are pretty thin so could hear folk in t...</td>\n",
       "      <td>17</td>\n",
       "      <td>3181</td>\n",
       "      <td>Room was very clean and the bed was extremely...</td>\n",
       "      <td>...</td>\n",
       "      <td>0</td>\n",
       "      <td>0</td>\n",
       "      <td>Austria</td>\n",
       "      <td>2</td>\n",
       "      <td>2017</td>\n",
       "      <td>Walls are pretty thin so could hear folk in t...</td>\n",
       "      <td>0.000</td>\n",
       "      <td>0.729</td>\n",
       "      <td>0.271</td>\n",
       "      <td>0.9223</td>\n",
       "    </tr>\n",
       "    <tr>\n",
       "      <th>351102</th>\n",
       "      <td>Josefsgasse 4 6 08 Josefstadt 1080 Vienna Austria</td>\n",
       "      <td>227</td>\n",
       "      <td>2/18/2017</td>\n",
       "      <td>8.3</td>\n",
       "      <td>Mercure Josefshof Wien</td>\n",
       "      <td>Switzerland</td>\n",
       "      <td>Room on the attic with window in the roof fel...</td>\n",
       "      <td>31</td>\n",
       "      <td>2526</td>\n",
       "      <td>Accessible to the metro and therefore easy ac...</td>\n",
       "      <td>...</td>\n",
       "      <td>0</td>\n",
       "      <td>0</td>\n",
       "      <td>Austria</td>\n",
       "      <td>2</td>\n",
       "      <td>2017</td>\n",
       "      <td>Room on the attic with window in the roof fel...</td>\n",
       "      <td>0.138</td>\n",
       "      <td>0.741</td>\n",
       "      <td>0.121</td>\n",
       "      <td>0.0516</td>\n",
       "    </tr>\n",
       "    <tr>\n",
       "      <th>286546</th>\n",
       "      <td>Bergara 8 Eixample 08002 Barcelona Spain</td>\n",
       "      <td>256</td>\n",
       "      <td>9/27/2016</td>\n",
       "      <td>8.8</td>\n",
       "      <td>Hotel Pulitzer</td>\n",
       "      <td>Kuwait</td>\n",
       "      <td>not much entertainment in room we were only s...</td>\n",
       "      <td>31</td>\n",
       "      <td>1746</td>\n",
       "      <td>location was excellent staff were very helpfu...</td>\n",
       "      <td>...</td>\n",
       "      <td>0</td>\n",
       "      <td>0</td>\n",
       "      <td>Spain</td>\n",
       "      <td>9</td>\n",
       "      <td>2016</td>\n",
       "      <td>not much entertainment in room we were only s...</td>\n",
       "      <td>0.038</td>\n",
       "      <td>0.674</td>\n",
       "      <td>0.288</td>\n",
       "      <td>0.9452</td>\n",
       "    </tr>\n",
       "    <tr>\n",
       "      <th>485631</th>\n",
       "      <td>Via Pietro Gaggia 3 Ripamonti Corvetto 20139 M...</td>\n",
       "      <td>269</td>\n",
       "      <td>7/17/2016</td>\n",
       "      <td>8.1</td>\n",
       "      <td>Starhotels Business Palace</td>\n",
       "      <td>United Arab Emirates</td>\n",
       "      <td>No swimming pool</td>\n",
       "      <td>5</td>\n",
       "      <td>5265</td>\n",
       "      <td>Location Room size Cleaneanse</td>\n",
       "      <td>...</td>\n",
       "      <td>0</td>\n",
       "      <td>0</td>\n",
       "      <td>Italy</td>\n",
       "      <td>7</td>\n",
       "      <td>2016</td>\n",
       "      <td>No swimming pool . Location Room size Cleaneanse</td>\n",
       "      <td>0.268</td>\n",
       "      <td>0.732</td>\n",
       "      <td>0.000</td>\n",
       "      <td>-0.2960</td>\n",
       "    </tr>\n",
       "  </tbody>\n",
       "</table>\n",
       "<p>5 rows × 34 columns</p>\n",
       "</div>"
      ]
     },
     "metadata": {},
     "execution_count": 37
    }
   ],
   "metadata": {}
  },
  {
   "cell_type": "markdown",
   "source": [
    "Scale continuous columns using RobustScaler."
   ],
   "metadata": {}
  },
  {
   "cell_type": "code",
   "execution_count": 38,
   "source": [
    "scaler = RobustScaler()\r\n",
    "columns_to_scale = ['Additional_Number_of_Scoring', 'Average_Score', 'Review_Total_Negative_Word_Counts', 'Total_Number_of_Reviews', 'Review_Total_Positive_Word_Counts', 'Total_Number_of_Reviews_Reviewer_Has_Given', 'neg', 'neu', 'pos', 'compound']\r\n",
    "scaled_columns = scaler.fit_transform(df[columns_to_scale])\r\n",
    "scaled_columns = pd.DataFrame(scaled_columns, columns=columns_to_scale)"
   ],
   "outputs": [],
   "metadata": {}
  },
  {
   "cell_type": "markdown",
   "source": [
    "Perform one hot encoding on categorical columns."
   ],
   "metadata": {}
  },
  {
   "cell_type": "code",
   "execution_count": 39,
   "source": [
    "ohe = OneHotEncoder(sparse=False)\r\n",
    "columns_to_encode = ['hotel_country', 'Month', 'Year']\r\n",
    "encoded_columns = ohe.fit_transform(df[columns_to_encode])\r\n",
    "encoded_columns = pd.DataFrame(encoded_columns, columns=ohe.get_feature_names(['hotelcountry', 'month', 'year']))"
   ],
   "outputs": [],
   "metadata": {}
  },
  {
   "cell_type": "markdown",
   "source": [
    "We join both the transformed columns into one DataFrame."
   ],
   "metadata": {}
  },
  {
   "cell_type": "code",
   "execution_count": 40,
   "source": [
    "df_transformed = pd.concat([scaled_columns, encoded_columns], axis=1)\r\n",
    "\r\n",
    "extra_columns = df[['triptype_Leisure',\r\n",
    "'triptype_Business',\r\n",
    "'travellertype_Couple',\r\n",
    "'travellertype_With_a_pet',\r\n",
    "'travellertype_Solo_traveler',\r\n",
    "'travellertype_Group',\r\n",
    "'travellertype_Family_with_young_children',\r\n",
    "'travellertype_Family_with_older_children',\r\n",
    "'travellertype_Travelers_with_friends',\r\n",
    "'Reviewer_Score']]\r\n",
    "\r\n",
    "df_transformed = pd.concat([df_transformed, extra_columns.reset_index(drop=True)], axis=1)\r\n",
    "df_transformed"
   ],
   "outputs": [
    {
     "output_type": "execute_result",
     "data": {
      "text/plain": [
       "        Additional_Number_of_Scoring  Average_Score  \\\n",
       "0                          -0.445122       0.714286   \n",
       "1                          -0.113821       0.428571   \n",
       "2                          -0.231707      -0.142857   \n",
       "3                          -0.172764       0.571429   \n",
       "4                          -0.146341      -0.428571   \n",
       "...                              ...            ...   \n",
       "103143                      0.709350       0.285714   \n",
       "103144                      0.077236       0.714286   \n",
       "103145                      0.176829       0.285714   \n",
       "103146                      0.264228      -0.714286   \n",
       "103147                      0.235772      -2.285714   \n",
       "\n",
       "        Review_Total_Negative_Word_Counts  Total_Number_of_Reviews  \\\n",
       "0                               -0.090909                -0.518126   \n",
       "1                                0.363636                 0.428106   \n",
       "2                                1.000000                 0.161303   \n",
       "3                                1.000000                -0.156415   \n",
       "4                               -0.181818                 1.276986   \n",
       "...                                   ...                      ...   \n",
       "103143                           1.818182                 0.309572   \n",
       "103144                          -0.045455                 0.669654   \n",
       "103145                           0.454545                 0.258248   \n",
       "103146                          11.454545                -0.037882   \n",
       "103147                           0.545455                 0.252953   \n",
       "\n",
       "        Review_Total_Positive_Word_Counts  \\\n",
       "0                               -0.647059   \n",
       "1                                1.470588   \n",
       "2                                0.176471   \n",
       "3                                0.588235   \n",
       "4                               -0.352941   \n",
       "...                                   ...   \n",
       "103143                           1.529412   \n",
       "103144                          -0.117647   \n",
       "103145                           0.294118   \n",
       "103146                           0.058824   \n",
       "103147                           0.117647   \n",
       "\n",
       "        Total_Number_of_Reviews_Reviewer_Has_Given       neg       neu  \\\n",
       "0                                         0.428571  6.076923 -0.725000   \n",
       "1                                        -0.142857  0.000000  0.120833   \n",
       "2                                         2.000000  1.769231  0.170833   \n",
       "3                                        -0.285714  0.487179 -0.108333   \n",
       "4                                         4.000000  3.435897  0.133333   \n",
       "...                                            ...       ...       ...   \n",
       "103143                                    0.571429  0.307692  0.470833   \n",
       "103144                                   -0.142857  0.000000  0.350000   \n",
       "103145                                   -0.285714  1.423077 -0.395833   \n",
       "103146                                    0.000000  0.846154  0.808333   \n",
       "103147                                   -0.285714  0.705128  0.183333   \n",
       "\n",
       "             pos  compound  ...  triptype_Leisure  triptype_Business  \\\n",
       "0      -0.866426 -1.694847  ...                 1                  0   \n",
       "1       0.111913  0.290794  ...                 1                  0   \n",
       "2      -0.429603 -0.877617  ...                 0                  1   \n",
       "3       0.173285  0.321524  ...                 1                  0   \n",
       "4      -0.866426 -1.344069  ...                 1                  0   \n",
       "...          ...       ...  ...               ...                ...   \n",
       "103143 -0.277978  0.283145  ...                 1                  0   \n",
       "103144 -0.086643 -0.261675  ...                 1                  0   \n",
       "103145  0.162455  0.105878  ...                 1                  0   \n",
       "103146 -0.722022 -1.236849  ...                 0                  1   \n",
       "103147 -0.140794  0.048712  ...                 0                  1   \n",
       "\n",
       "        travellertype_Couple  travellertype_With_a_pet  \\\n",
       "0                          1                         0   \n",
       "1                          1                         0   \n",
       "2                          0                         0   \n",
       "3                          1                         0   \n",
       "4                          0                         0   \n",
       "...                      ...                       ...   \n",
       "103143                     1                         0   \n",
       "103144                     1                         0   \n",
       "103145                     1                         0   \n",
       "103146                     0                         0   \n",
       "103147                     0                         0   \n",
       "\n",
       "        travellertype_Solo_traveler  travellertype_Group  \\\n",
       "0                                 0                    0   \n",
       "1                                 0                    0   \n",
       "2                                 1                    0   \n",
       "3                                 0                    0   \n",
       "4                                 0                    0   \n",
       "...                             ...                  ...   \n",
       "103143                            0                    0   \n",
       "103144                            0                    0   \n",
       "103145                            0                    0   \n",
       "103146                            1                    0   \n",
       "103147                            0                    1   \n",
       "\n",
       "        travellertype_Family_with_young_children  \\\n",
       "0                                              0   \n",
       "1                                              0   \n",
       "2                                              0   \n",
       "3                                              0   \n",
       "4                                              1   \n",
       "...                                          ...   \n",
       "103143                                         0   \n",
       "103144                                         0   \n",
       "103145                                         0   \n",
       "103146                                         0   \n",
       "103147                                         0   \n",
       "\n",
       "        travellertype_Family_with_older_children  \\\n",
       "0                                              0   \n",
       "1                                              0   \n",
       "2                                              0   \n",
       "3                                              0   \n",
       "4                                              0   \n",
       "...                                          ...   \n",
       "103143                                         0   \n",
       "103144                                         0   \n",
       "103145                                         0   \n",
       "103146                                         0   \n",
       "103147                                         0   \n",
       "\n",
       "        travellertype_Travelers_with_friends  Reviewer_Score  \n",
       "0                                          0             3.8  \n",
       "1                                          0             9.6  \n",
       "2                                          0             6.3  \n",
       "3                                          0             7.9  \n",
       "4                                          0             9.6  \n",
       "...                                      ...             ...  \n",
       "103143                                     0             8.8  \n",
       "103144                                     0            10.0  \n",
       "103145                                     0            10.0  \n",
       "103146                                     0             5.0  \n",
       "103147                                     0             6.7  \n",
       "\n",
       "[103148 rows x 41 columns]"
      ],
      "text/html": [
       "<div>\n",
       "<style scoped>\n",
       "    .dataframe tbody tr th:only-of-type {\n",
       "        vertical-align: middle;\n",
       "    }\n",
       "\n",
       "    .dataframe tbody tr th {\n",
       "        vertical-align: top;\n",
       "    }\n",
       "\n",
       "    .dataframe thead th {\n",
       "        text-align: right;\n",
       "    }\n",
       "</style>\n",
       "<table border=\"1\" class=\"dataframe\">\n",
       "  <thead>\n",
       "    <tr style=\"text-align: right;\">\n",
       "      <th></th>\n",
       "      <th>Additional_Number_of_Scoring</th>\n",
       "      <th>Average_Score</th>\n",
       "      <th>Review_Total_Negative_Word_Counts</th>\n",
       "      <th>Total_Number_of_Reviews</th>\n",
       "      <th>Review_Total_Positive_Word_Counts</th>\n",
       "      <th>Total_Number_of_Reviews_Reviewer_Has_Given</th>\n",
       "      <th>neg</th>\n",
       "      <th>neu</th>\n",
       "      <th>pos</th>\n",
       "      <th>compound</th>\n",
       "      <th>...</th>\n",
       "      <th>triptype_Leisure</th>\n",
       "      <th>triptype_Business</th>\n",
       "      <th>travellertype_Couple</th>\n",
       "      <th>travellertype_With_a_pet</th>\n",
       "      <th>travellertype_Solo_traveler</th>\n",
       "      <th>travellertype_Group</th>\n",
       "      <th>travellertype_Family_with_young_children</th>\n",
       "      <th>travellertype_Family_with_older_children</th>\n",
       "      <th>travellertype_Travelers_with_friends</th>\n",
       "      <th>Reviewer_Score</th>\n",
       "    </tr>\n",
       "  </thead>\n",
       "  <tbody>\n",
       "    <tr>\n",
       "      <th>0</th>\n",
       "      <td>-0.445122</td>\n",
       "      <td>0.714286</td>\n",
       "      <td>-0.090909</td>\n",
       "      <td>-0.518126</td>\n",
       "      <td>-0.647059</td>\n",
       "      <td>0.428571</td>\n",
       "      <td>6.076923</td>\n",
       "      <td>-0.725000</td>\n",
       "      <td>-0.866426</td>\n",
       "      <td>-1.694847</td>\n",
       "      <td>...</td>\n",
       "      <td>1</td>\n",
       "      <td>0</td>\n",
       "      <td>1</td>\n",
       "      <td>0</td>\n",
       "      <td>0</td>\n",
       "      <td>0</td>\n",
       "      <td>0</td>\n",
       "      <td>0</td>\n",
       "      <td>0</td>\n",
       "      <td>3.8</td>\n",
       "    </tr>\n",
       "    <tr>\n",
       "      <th>1</th>\n",
       "      <td>-0.113821</td>\n",
       "      <td>0.428571</td>\n",
       "      <td>0.363636</td>\n",
       "      <td>0.428106</td>\n",
       "      <td>1.470588</td>\n",
       "      <td>-0.142857</td>\n",
       "      <td>0.000000</td>\n",
       "      <td>0.120833</td>\n",
       "      <td>0.111913</td>\n",
       "      <td>0.290794</td>\n",
       "      <td>...</td>\n",
       "      <td>1</td>\n",
       "      <td>0</td>\n",
       "      <td>1</td>\n",
       "      <td>0</td>\n",
       "      <td>0</td>\n",
       "      <td>0</td>\n",
       "      <td>0</td>\n",
       "      <td>0</td>\n",
       "      <td>0</td>\n",
       "      <td>9.6</td>\n",
       "    </tr>\n",
       "    <tr>\n",
       "      <th>2</th>\n",
       "      <td>-0.231707</td>\n",
       "      <td>-0.142857</td>\n",
       "      <td>1.000000</td>\n",
       "      <td>0.161303</td>\n",
       "      <td>0.176471</td>\n",
       "      <td>2.000000</td>\n",
       "      <td>1.769231</td>\n",
       "      <td>0.170833</td>\n",
       "      <td>-0.429603</td>\n",
       "      <td>-0.877617</td>\n",
       "      <td>...</td>\n",
       "      <td>0</td>\n",
       "      <td>1</td>\n",
       "      <td>0</td>\n",
       "      <td>0</td>\n",
       "      <td>1</td>\n",
       "      <td>0</td>\n",
       "      <td>0</td>\n",
       "      <td>0</td>\n",
       "      <td>0</td>\n",
       "      <td>6.3</td>\n",
       "    </tr>\n",
       "    <tr>\n",
       "      <th>3</th>\n",
       "      <td>-0.172764</td>\n",
       "      <td>0.571429</td>\n",
       "      <td>1.000000</td>\n",
       "      <td>-0.156415</td>\n",
       "      <td>0.588235</td>\n",
       "      <td>-0.285714</td>\n",
       "      <td>0.487179</td>\n",
       "      <td>-0.108333</td>\n",
       "      <td>0.173285</td>\n",
       "      <td>0.321524</td>\n",
       "      <td>...</td>\n",
       "      <td>1</td>\n",
       "      <td>0</td>\n",
       "      <td>1</td>\n",
       "      <td>0</td>\n",
       "      <td>0</td>\n",
       "      <td>0</td>\n",
       "      <td>0</td>\n",
       "      <td>0</td>\n",
       "      <td>0</td>\n",
       "      <td>7.9</td>\n",
       "    </tr>\n",
       "    <tr>\n",
       "      <th>4</th>\n",
       "      <td>-0.146341</td>\n",
       "      <td>-0.428571</td>\n",
       "      <td>-0.181818</td>\n",
       "      <td>1.276986</td>\n",
       "      <td>-0.352941</td>\n",
       "      <td>4.000000</td>\n",
       "      <td>3.435897</td>\n",
       "      <td>0.133333</td>\n",
       "      <td>-0.866426</td>\n",
       "      <td>-1.344069</td>\n",
       "      <td>...</td>\n",
       "      <td>1</td>\n",
       "      <td>0</td>\n",
       "      <td>0</td>\n",
       "      <td>0</td>\n",
       "      <td>0</td>\n",
       "      <td>0</td>\n",
       "      <td>1</td>\n",
       "      <td>0</td>\n",
       "      <td>0</td>\n",
       "      <td>9.6</td>\n",
       "    </tr>\n",
       "    <tr>\n",
       "      <th>...</th>\n",
       "      <td>...</td>\n",
       "      <td>...</td>\n",
       "      <td>...</td>\n",
       "      <td>...</td>\n",
       "      <td>...</td>\n",
       "      <td>...</td>\n",
       "      <td>...</td>\n",
       "      <td>...</td>\n",
       "      <td>...</td>\n",
       "      <td>...</td>\n",
       "      <td>...</td>\n",
       "      <td>...</td>\n",
       "      <td>...</td>\n",
       "      <td>...</td>\n",
       "      <td>...</td>\n",
       "      <td>...</td>\n",
       "      <td>...</td>\n",
       "      <td>...</td>\n",
       "      <td>...</td>\n",
       "      <td>...</td>\n",
       "      <td>...</td>\n",
       "    </tr>\n",
       "    <tr>\n",
       "      <th>103143</th>\n",
       "      <td>0.709350</td>\n",
       "      <td>0.285714</td>\n",
       "      <td>1.818182</td>\n",
       "      <td>0.309572</td>\n",
       "      <td>1.529412</td>\n",
       "      <td>0.571429</td>\n",
       "      <td>0.307692</td>\n",
       "      <td>0.470833</td>\n",
       "      <td>-0.277978</td>\n",
       "      <td>0.283145</td>\n",
       "      <td>...</td>\n",
       "      <td>1</td>\n",
       "      <td>0</td>\n",
       "      <td>1</td>\n",
       "      <td>0</td>\n",
       "      <td>0</td>\n",
       "      <td>0</td>\n",
       "      <td>0</td>\n",
       "      <td>0</td>\n",
       "      <td>0</td>\n",
       "      <td>8.8</td>\n",
       "    </tr>\n",
       "    <tr>\n",
       "      <th>103144</th>\n",
       "      <td>0.077236</td>\n",
       "      <td>0.714286</td>\n",
       "      <td>-0.045455</td>\n",
       "      <td>0.669654</td>\n",
       "      <td>-0.117647</td>\n",
       "      <td>-0.142857</td>\n",
       "      <td>0.000000</td>\n",
       "      <td>0.350000</td>\n",
       "      <td>-0.086643</td>\n",
       "      <td>-0.261675</td>\n",
       "      <td>...</td>\n",
       "      <td>1</td>\n",
       "      <td>0</td>\n",
       "      <td>1</td>\n",
       "      <td>0</td>\n",
       "      <td>0</td>\n",
       "      <td>0</td>\n",
       "      <td>0</td>\n",
       "      <td>0</td>\n",
       "      <td>0</td>\n",
       "      <td>10.0</td>\n",
       "    </tr>\n",
       "    <tr>\n",
       "      <th>103145</th>\n",
       "      <td>0.176829</td>\n",
       "      <td>0.285714</td>\n",
       "      <td>0.454545</td>\n",
       "      <td>0.258248</td>\n",
       "      <td>0.294118</td>\n",
       "      <td>-0.285714</td>\n",
       "      <td>1.423077</td>\n",
       "      <td>-0.395833</td>\n",
       "      <td>0.162455</td>\n",
       "      <td>0.105878</td>\n",
       "      <td>...</td>\n",
       "      <td>1</td>\n",
       "      <td>0</td>\n",
       "      <td>1</td>\n",
       "      <td>0</td>\n",
       "      <td>0</td>\n",
       "      <td>0</td>\n",
       "      <td>0</td>\n",
       "      <td>0</td>\n",
       "      <td>0</td>\n",
       "      <td>10.0</td>\n",
       "    </tr>\n",
       "    <tr>\n",
       "      <th>103146</th>\n",
       "      <td>0.264228</td>\n",
       "      <td>-0.714286</td>\n",
       "      <td>11.454545</td>\n",
       "      <td>-0.037882</td>\n",
       "      <td>0.058824</td>\n",
       "      <td>0.000000</td>\n",
       "      <td>0.846154</td>\n",
       "      <td>0.808333</td>\n",
       "      <td>-0.722022</td>\n",
       "      <td>-1.236849</td>\n",
       "      <td>...</td>\n",
       "      <td>0</td>\n",
       "      <td>1</td>\n",
       "      <td>0</td>\n",
       "      <td>0</td>\n",
       "      <td>1</td>\n",
       "      <td>0</td>\n",
       "      <td>0</td>\n",
       "      <td>0</td>\n",
       "      <td>0</td>\n",
       "      <td>5.0</td>\n",
       "    </tr>\n",
       "    <tr>\n",
       "      <th>103147</th>\n",
       "      <td>0.235772</td>\n",
       "      <td>-2.285714</td>\n",
       "      <td>0.545455</td>\n",
       "      <td>0.252953</td>\n",
       "      <td>0.117647</td>\n",
       "      <td>-0.285714</td>\n",
       "      <td>0.705128</td>\n",
       "      <td>0.183333</td>\n",
       "      <td>-0.140794</td>\n",
       "      <td>0.048712</td>\n",
       "      <td>...</td>\n",
       "      <td>0</td>\n",
       "      <td>1</td>\n",
       "      <td>0</td>\n",
       "      <td>0</td>\n",
       "      <td>0</td>\n",
       "      <td>1</td>\n",
       "      <td>0</td>\n",
       "      <td>0</td>\n",
       "      <td>0</td>\n",
       "      <td>6.7</td>\n",
       "    </tr>\n",
       "  </tbody>\n",
       "</table>\n",
       "<p>103148 rows × 41 columns</p>\n",
       "</div>"
      ]
     },
     "metadata": {},
     "execution_count": 40
    }
   ],
   "metadata": {}
  },
  {
   "cell_type": "markdown",
   "source": [
    "Add in the results from sentiment analysis and we will use this transformed dataframe for training our model later."
   ],
   "metadata": {}
  },
  {
   "cell_type": "code",
   "execution_count": 41,
   "source": [
    "# Check if there are any null values\r\n",
    "(df_transformed.isna().sum()).sum()"
   ],
   "outputs": [
    {
     "output_type": "execute_result",
     "data": {
      "text/plain": [
       "0"
      ]
     },
     "metadata": {},
     "execution_count": 41
    }
   ],
   "metadata": {}
  },
  {
   "cell_type": "markdown",
   "source": [
    "Our next step will utilise the transformed df to help us identify the features that will be used to train our model, by constructing a plot of correlations of each column to the Reviewer_Score."
   ],
   "metadata": {}
  },
  {
   "cell_type": "code",
   "execution_count": 42,
   "source": [
    "df_corr = df_transformed.corr()\r\n",
    "\r\n",
    "# Get the colors for the graphic\r\n",
    "colors = []\r\n",
    "dim = df_corr.shape[0]\r\n",
    "for i in range(dim):\r\n",
    "    r = i * 1/dim\r\n",
    "    colors.append((0.3,r,0.3))\r\n",
    "\r\n",
    "# Transform each value in a positive value, because what interests us isn't the direction of the correlation but the absolute correlation\r\n",
    "plt.figure(figsize=(10,10))\r\n",
    "df_corr[\"Reviewer_Score\"].apply(lambda x: abs(x)).sort_values().plot.barh(color = colors)\r\n",
    "\r\n",
    "plt.title(\"Correlation with Reviewer_Score\", fontsize = 16)\r\n",
    "plt.show()"
   ],
   "outputs": [
    {
     "output_type": "display_data",
     "data": {
      "text/plain": [
       "<Figure size 720x720 with 1 Axes>"
      ],
      "image/png": "[encoded data removed]"
     },
     "metadata": {
      "needs_background": "light"
     }
    }
   ],
   "metadata": {}
  },
  {
   "cell_type": "markdown",
   "source": [
    "From this plot, we find that the top correlating columns are:\r\n",
    "- Review_Total_Negative_Word_Counts\r\n",
    "- Average_Score\r\n",
    "- neu\r\n",
    "- neg\r\n",
    "- Review_Total_Positive_Word_Counts"
   ],
   "metadata": {}
  },
  {
   "cell_type": "markdown",
   "source": [
    "# Comparing different ML models"
   ],
   "metadata": {}
  },
  {
   "cell_type": "markdown",
   "source": [
    "Now we turn these columns into our features for training our model. For our regression models, we use three base models:\r\n",
    "- LinearRegression\r\n",
    "- GradientBoostingRegressor\r\n",
    "- RandomForestRegressor\r\n",
    "\r\n",
    "We construct violin plots for the prediction of reviewer score distribution from these models and compare against the actual score distribution to see which model gives the closest prediction. We also print out the mean squared error (MRSE) of each model on the title."
   ],
   "metadata": {}
  },
  {
   "cell_type": "code",
   "execution_count": 52,
   "source": [
    "# Columns to use to train the models\r\n",
    "# Only the columns with the highest correlation were chosen\r\n",
    "cols = ['Review_Total_Negative_Word_Counts',\r\n",
    "        'Average_Score',\r\n",
    "        'compound',\r\n",
    "        'Review_Total_Positive_Word_Counts']\r\n",
    "        \r\n",
    "X = df_transformed[cols].values\r\n",
    "y = df_transformed[\"Reviewer_Score\"].values\r\n",
    "X_train, X_test, y_train, y_test = train_test_split(X, y, test_size=0.2, random_state=0)\r\n",
    "\r\n",
    "def plot_res(y_test,pred, model = \"LinearRegression\"):\r\n",
    "# Violinplots with the distribution of real scores and predicted scores\r\n",
    "    MSRE = round((mean_squared_error(y_test,pred))**0.5,3)\r\n",
    "    fig, axes = plt.subplots(nrows=1, ncols=2, figsize = (16,6))\r\n",
    "    \r\n",
    "    sns.violinplot(y=y_test, ax = axes[0])\r\n",
    "    axes[0].set_title(\"Distribution of\\n scores\")\r\n",
    "    axes[0].set_ylim(0,11)\r\n",
    "    \r\n",
    "    sns.violinplot(y=pred, ax = axes[1])\r\n",
    "    title = f\"Predictions of scores using {model}\\nMSRE:{MSRE}\"\r\n",
    "    axes[1].set_title(title)\r\n",
    "    axes[1].set_ylim(0,11)\r\n",
    "    plt.show()\r\n",
    "\r\n",
    "# LinearRegression\r\n",
    "model = LinearRegression()\r\n",
    "model.fit(X_train, y_train)\r\n",
    "pred = model.predict(X_test)\r\n",
    "plot_res(y_test,pred, model = \"LinearRegression\")\r\n",
    "\r\n",
    "# GradientBoostingRegressor\r\n",
    "model = GradientBoostingRegressor()\r\n",
    "model.fit(X_train, y_train)\r\n",
    "pred = model.predict(X_test)\r\n",
    "plot_res(y_test,pred, model = \"GradientBoostingRegressor\")\r\n",
    "\r\n",
    "# RandomForestRegressor\r\n",
    "model = RandomForestRegressor()\r\n",
    "model.fit(X_train, y_train)\r\n",
    "pred = model.predict(X_test)\r\n",
    "plot_res(y_test,pred, model = \"RandomForestRegressor\")"
   ],
   "outputs": [
    {
     "output_type": "display_data",
     "data": {
      "text/plain": [
       "<Figure size 1152x432 with 2 Axes>"
      ],
      "image/png": "[encoded data removed]"
     },
     "metadata": {
      "needs_background": "light"
     }
    },
    {
     "output_type": "display_data",
     "data": {
      "text/plain": [
       "<Figure size 1152x432 with 2 Axes>"
      ],
      "image/png": "[encoded data removed]"
     },
     "metadata": {
      "needs_background": "light"
     }
    },
    {
     "output_type": "display_data",
     "data": {
      "text/plain": [
       "<Figure size 1152x432 with 2 Axes>"
      ],
      "image/png": "[encoded data removed]"
     },
     "metadata": {
      "needs_background": "light"
     }
    }
   ],
   "metadata": {}
  },
  {
   "cell_type": "markdown",
   "source": [
    "The best base model is the GradientBoostingRegressor since it closely approximates the shape of the actual distribution of scores and has the lowest RMSE. Let's try a more complicated model called XGBoost."
   ],
   "metadata": {}
  },
  {
   "cell_type": "code",
   "execution_count": 53,
   "source": [
    "# Splitting the data into training, validation and test sets\r\n",
    "X_train, X_test, y_train, y_test = train_test_split(X, y, test_size=0.2, random_state=0)\r\n",
    "X_train, X_val, y_train, y_val = train_test_split(X_train, y_train, test_size=0.2, random_state=0)\r\n",
    "\r\n",
    "print(X_train.shape)\r\n",
    "print(X_val.shape)\r\n",
    "print(X_test.shape)"
   ],
   "outputs": [
    {
     "output_type": "stream",
     "name": "stdout",
     "text": [
      "(66014, 4)\n",
      "(16504, 4)\n",
      "(20630, 4)\n"
     ]
    }
   ],
   "metadata": {}
  },
  {
   "cell_type": "code",
   "execution_count": 54,
   "source": [
    "dtrain = xgb.DMatrix(X_train, label=y_train)\r\n",
    "dval = xgb.DMatrix(X_val, label=y_val)\r\n",
    "dtest = xgb.DMatrix(X_test, label=y_test)"
   ],
   "outputs": [],
   "metadata": {}
  },
  {
   "cell_type": "markdown",
   "source": [
    "**Create a scoring function with the help of XGBOOST train inbuilt early stopping**"
   ],
   "metadata": {}
  },
  {
   "cell_type": "code",
   "execution_count": 55,
   "source": [
    "# defing a function for scoring and calculation for the rmse (default for regression )\r\n",
    "# in classification problem auc will be the default \r\n",
    "def return_rmse(params):\r\n",
    "    model = xgb.train(params , dtrain, num_boost_round = 10000, evals = [(dval, 'eval')],\r\n",
    "          early_stopping_rounds=20,verbose_eval = 0)\r\n",
    "    result = model.eval(dval)\r\n",
    "    result = np.float(re.search(r'[\\d.]+$',result).group(0))\r\n",
    "    return(result)"
   ],
   "outputs": [],
   "metadata": {}
  },
  {
   "cell_type": "code",
   "execution_count": 56,
   "source": [
    "return_rmse(params = {}) # This is the score of rmse for the default xgboost regressor without tuning"
   ],
   "outputs": [
    {
     "output_type": "execute_result",
     "data": {
      "text/plain": [
       "1.178003"
      ]
     },
     "metadata": {},
     "execution_count": 56
    }
   ],
   "metadata": {}
  },
  {
   "cell_type": "markdown",
   "source": [
    "# Hyperparameter tuning"
   ],
   "metadata": {}
  },
  {
   "cell_type": "markdown",
   "source": [
    "XGBoost is best used when we tune the hyperparameters, but doing so manually is a lot of work. We will use Optuna to help try out a range of combinations of hyperparameters to determine the combination that outputs the best result."
   ],
   "metadata": {}
  },
  {
   "cell_type": "code",
   "execution_count": 58,
   "source": [
    "# Defining objective function for use in Optuna study\r\n",
    "def objective(trial):\r\n",
    "    param = {\r\n",
    "                # \"n_estimators\" : trial.suggest_int('n_estimators', 0, 500), # commented as n_estimators is tuned with early stopping inside return_rmse function\r\n",
    "                'max_depth':trial.suggest_int('max_depth', 3, 6),\r\n",
    "                'reg_alpha':trial.suggest_uniform('reg_alpha',0,6),\r\n",
    "                'reg_lambda':trial.suggest_uniform('reg_lambda',0,2),\r\n",
    "                'min_child_weight':trial.suggest_int('min_child_weight',0,5),\r\n",
    "                'gamma':trial.suggest_uniform('gamma', 0, 4),\r\n",
    "                'learning_rate':trial.suggest_loguniform('learning_rate',0.05,0.5),\r\n",
    "                'colsample_bytree':trial.suggest_uniform('colsample_bytree',0.4,0.9),\r\n",
    "                'subsample':trial.suggest_uniform('subsample',0.4,0.9),\r\n",
    "                'nthread' : -1 # uses all of the cores in your system.\r\n",
    "            }\r\n",
    "    return(return_rmse(param)) # this will return the rmse score "
   ],
   "outputs": [],
   "metadata": {}
  },
  {
   "cell_type": "code",
   "execution_count": 59,
   "source": [
    "# Calling the optuna study\r\n",
    "study1 = optuna.create_study(direction='minimize', sampler=TPESampler())\r\n",
    "study1.optimize(objective, n_trials=100, show_progress_bar=True)"
   ],
   "outputs": [
    {
     "output_type": "stream",
     "name": "stderr",
     "text": [
      "\u001b[32m[I 2021-08-25 16:38:04,512]\u001b[0m A new study created in memory with name: no-name-8e5ce840-f981-4e73-ab36-fb314fecf00b\u001b[0m\n",
      "C:\\Users\\yapcm\\AppData\\Local\\Programs\\Python\\Python39\\lib\\site-packages\\optuna\\progress_bar.py:47: ExperimentalWarning: Progress bar is experimental (supported from v1.2.0). The interface can change in the future.\n",
      "  self._init_valid()\n",
      "  1%|          | 1/100 [00:05<09:34,  5.80s/it]"
     ]
    },
    {
     "output_type": "stream",
     "name": "stdout",
     "text": [
      "\u001b[32m[I 2021-08-25 16:38:10,311]\u001b[0m Trial 0 finished with value: 1.169124 and parameters: {'max_depth': 4, 'reg_alpha': 5.897998304394359, 'reg_lambda': 0.9691652139453142, 'min_child_weight': 2, 'gamma': 3.730894742858003, 'learning_rate': 0.057061903085096836, 'colsample_bytree': 0.7027260048675648, 'subsample': 0.623775131396743}. Best is trial 0 with value: 1.169124.\u001b[0m\n"
     ]
    },
    {
     "output_type": "stream",
     "name": "stderr",
     "text": [
      "  2%|▏         | 2/100 [00:08<06:39,  4.08s/it]"
     ]
    },
    {
     "output_type": "stream",
     "name": "stdout",
     "text": [
      "\u001b[32m[I 2021-08-25 16:38:13,178]\u001b[0m Trial 1 finished with value: 1.170131 and parameters: {'max_depth': 3, 'reg_alpha': 1.1481224556408436, 'reg_lambda': 1.7998819852987356, 'min_child_weight': 3, 'gamma': 3.7682213332021393, 'learning_rate': 0.13920635811137455, 'colsample_bytree': 0.7584428594415553, 'subsample': 0.5675959022133674}. Best is trial 0 with value: 1.169124.\u001b[0m\n"
     ]
    },
    {
     "output_type": "stream",
     "name": "stderr",
     "text": [
      "  3%|▎         | 3/100 [00:10<04:42,  2.91s/it]"
     ]
    },
    {
     "output_type": "stream",
     "name": "stdout",
     "text": [
      "\u001b[32m[I 2021-08-25 16:38:14,696]\u001b[0m Trial 2 finished with value: 1.176456 and parameters: {'max_depth': 5, 'reg_alpha': 5.534047255835797, 'reg_lambda': 0.48909744189178883, 'min_child_weight': 3, 'gamma': 3.346300589116454, 'learning_rate': 0.46738097735625245, 'colsample_bytree': 0.7277615104307558, 'subsample': 0.6399214468291933}. Best is trial 0 with value: 1.169124.\u001b[0m\n"
     ]
    },
    {
     "output_type": "stream",
     "name": "stderr",
     "text": [
      "  4%|▍         | 4/100 [00:12<04:00,  2.51s/it]"
     ]
    },
    {
     "output_type": "stream",
     "name": "stdout",
     "text": [
      "\u001b[32m[I 2021-08-25 16:38:16,597]\u001b[0m Trial 3 finished with value: 1.174881 and parameters: {'max_depth': 3, 'reg_alpha': 0.007234660597071008, 'reg_lambda': 1.6211478206126062, 'min_child_weight': 1, 'gamma': 2.2810103692970594, 'learning_rate': 0.2583357860043198, 'colsample_bytree': 0.5706201817721546, 'subsample': 0.7044447563596246}. Best is trial 0 with value: 1.169124.\u001b[0m\n"
     ]
    },
    {
     "output_type": "stream",
     "name": "stderr",
     "text": [
      "  5%|▌         | 5/100 [00:17<05:41,  3.59s/it]"
     ]
    },
    {
     "output_type": "stream",
     "name": "stdout",
     "text": [
      "\u001b[32m[I 2021-08-25 16:38:22,111]\u001b[0m Trial 4 finished with value: 1.168077 and parameters: {'max_depth': 3, 'reg_alpha': 3.6111954789388765, 'reg_lambda': 1.5742963179358627, 'min_child_weight': 4, 'gamma': 1.74331516691564, 'learning_rate': 0.059221011968537844, 'colsample_bytree': 0.8101932510765444, 'subsample': 0.5321239898191554}. Best is trial 4 with value: 1.168077.\u001b[0m\n"
     ]
    },
    {
     "output_type": "stream",
     "name": "stderr",
     "text": [
      "  6%|▌         | 6/100 [00:19<04:34,  2.92s/it]"
     ]
    },
    {
     "output_type": "stream",
     "name": "stdout",
     "text": [
      "\u001b[32m[I 2021-08-25 16:38:23,715]\u001b[0m Trial 5 finished with value: 1.171684 and parameters: {'max_depth': 5, 'reg_alpha': 3.391159979297723, 'reg_lambda': 0.08859692899356242, 'min_child_weight': 5, 'gamma': 1.1270447264180485, 'learning_rate': 0.1803637151436011, 'colsample_bytree': 0.647288439655413, 'subsample': 0.5023196747441715}. Best is trial 4 with value: 1.168077.\u001b[0m\n"
     ]
    },
    {
     "output_type": "stream",
     "name": "stderr",
     "text": [
      "  7%|▋         | 7/100 [00:20<03:48,  2.46s/it]"
     ]
    },
    {
     "output_type": "stream",
     "name": "stdout",
     "text": [
      "\u001b[32m[I 2021-08-25 16:38:25,220]\u001b[0m Trial 6 finished with value: 1.171847 and parameters: {'max_depth': 4, 'reg_alpha': 0.33835482701360586, 'reg_lambda': 1.5096848676381953, 'min_child_weight': 2, 'gamma': 1.0857524532351537, 'learning_rate': 0.29494538047417096, 'colsample_bytree': 0.8854627005224307, 'subsample': 0.8455048954775288}. Best is trial 4 with value: 1.168077.\u001b[0m\n"
     ]
    },
    {
     "output_type": "stream",
     "name": "stderr",
     "text": [
      "  8%|▊         | 8/100 [00:22<03:38,  2.38s/it]"
     ]
    },
    {
     "output_type": "stream",
     "name": "stdout",
     "text": [
      "\u001b[32m[I 2021-08-25 16:38:27,426]\u001b[0m Trial 7 finished with value: 1.172396 and parameters: {'max_depth': 3, 'reg_alpha': 2.93670549627313, 'reg_lambda': 0.7826800841778856, 'min_child_weight': 5, 'gamma': 3.2596299625197416, 'learning_rate': 0.2174632248363869, 'colsample_bytree': 0.5652091803419258, 'subsample': 0.4902702218530576}. Best is trial 4 with value: 1.168077.\u001b[0m\n"
     ]
    },
    {
     "output_type": "stream",
     "name": "stderr",
     "text": [
      "  9%|▉         | 9/100 [00:24<03:03,  2.01s/it]"
     ]
    },
    {
     "output_type": "stream",
     "name": "stdout",
     "text": [
      "\u001b[32m[I 2021-08-25 16:38:28,636]\u001b[0m Trial 8 finished with value: 1.173391 and parameters: {'max_depth': 4, 'reg_alpha': 0.9016037697554817, 'reg_lambda': 0.852775292040735, 'min_child_weight': 4, 'gamma': 0.9453805612493125, 'learning_rate': 0.30671854869167986, 'colsample_bytree': 0.5549893450973666, 'subsample': 0.5903939045630664}. Best is trial 4 with value: 1.168077.\u001b[0m\n"
     ]
    },
    {
     "output_type": "stream",
     "name": "stderr",
     "text": [
      " 10%|█         | 10/100 [00:26<03:04,  2.06s/it]"
     ]
    },
    {
     "output_type": "stream",
     "name": "stdout",
     "text": [
      "\u001b[32m[I 2021-08-25 16:38:30,789]\u001b[0m Trial 9 finished with value: 1.168012 and parameters: {'max_depth': 4, 'reg_alpha': 2.195632755132247, 'reg_lambda': 0.7794389697533286, 'min_child_weight': 4, 'gamma': 1.3585206089650188, 'learning_rate': 0.10848369008054143, 'colsample_bytree': 0.8107354086432317, 'subsample': 0.4725491968939464}. Best is trial 9 with value: 1.168012.\u001b[0m\n"
     ]
    },
    {
     "output_type": "stream",
     "name": "stderr",
     "text": [
      " 11%|█         | 11/100 [00:29<03:47,  2.55s/it]"
     ]
    },
    {
     "output_type": "stream",
     "name": "stdout",
     "text": [
      "\u001b[32m[I 2021-08-25 16:38:34,463]\u001b[0m Trial 10 finished with value: 1.192569 and parameters: {'max_depth': 6, 'reg_alpha': 2.2888178330129545, 'reg_lambda': 0.3436968212562621, 'min_child_weight': 0, 'gamma': 0.10910759496523914, 'learning_rate': 0.09864969134420076, 'colsample_bytree': 0.4333304444136993, 'subsample': 0.4058835082989888}. Best is trial 9 with value: 1.168012.\u001b[0m\n"
     ]
    },
    {
     "output_type": "stream",
     "name": "stderr",
     "text": [
      " 12%|█▏        | 12/100 [00:36<05:38,  3.85s/it]"
     ]
    },
    {
     "output_type": "stream",
     "name": "stdout",
     "text": [
      "\u001b[32m[I 2021-08-25 16:38:41,279]\u001b[0m Trial 11 finished with value: 1.167731 and parameters: {'max_depth': 3, 'reg_alpha': 4.21419107629152, 'reg_lambda': 1.3009157541492822, 'min_child_weight': 4, 'gamma': 2.0928698660361436, 'learning_rate': 0.05310274057494433, 'colsample_bytree': 0.8601029895147166, 'subsample': 0.43231388847579005}. Best is trial 11 with value: 1.167731.\u001b[0m\n"
     ]
    },
    {
     "output_type": "stream",
     "name": "stderr",
     "text": [
      " 13%|█▎        | 13/100 [00:39<04:56,  3.41s/it]"
     ]
    },
    {
     "output_type": "stream",
     "name": "stdout",
     "text": [
      "\u001b[32m[I 2021-08-25 16:38:43,681]\u001b[0m Trial 12 finished with value: 1.167228 and parameters: {'max_depth': 4, 'reg_alpha': 4.41037406693576, 'reg_lambda': 1.1504618594654923, 'min_child_weight': 4, 'gamma': 2.449507201788241, 'learning_rate': 0.09169786630856987, 'colsample_bytree': 0.8897500583605384, 'subsample': 0.4169193508661654}. Best is trial 12 with value: 1.167228.\u001b[0m\n"
     ]
    },
    {
     "output_type": "stream",
     "name": "stderr",
     "text": [
      " 14%|█▍        | 14/100 [00:41<04:36,  3.22s/it]"
     ]
    },
    {
     "output_type": "stream",
     "name": "stdout",
     "text": [
      "\u001b[32m[I 2021-08-25 16:38:46,465]\u001b[0m Trial 13 finished with value: 1.168077 and parameters: {'max_depth': 5, 'reg_alpha': 4.446070758647944, 'reg_lambda': 1.166249868957978, 'min_child_weight': 4, 'gamma': 2.6269124806129445, 'learning_rate': 0.07954683350316673, 'colsample_bytree': 0.8880350007950608, 'subsample': 0.40377000480390124}. Best is trial 12 with value: 1.167228.\u001b[0m\n"
     ]
    },
    {
     "output_type": "stream",
     "name": "stderr",
     "text": [
      " 15%|█▌        | 15/100 [00:49<06:23,  4.51s/it]"
     ]
    },
    {
     "output_type": "stream",
     "name": "stdout",
     "text": [
      "\u001b[32m[I 2021-08-25 16:38:53,962]\u001b[0m Trial 14 finished with value: 1.167235 and parameters: {'max_depth': 3, 'reg_alpha': 4.675329230111383, 'reg_lambda': 1.2822348798265384, 'min_child_weight': 5, 'gamma': 2.7002202526601327, 'learning_rate': 0.05075219835136839, 'colsample_bytree': 0.8274186175822421, 'subsample': 0.7595860824898456}. Best is trial 12 with value: 1.167228.\u001b[0m\n"
     ]
    },
    {
     "output_type": "stream",
     "name": "stderr",
     "text": [
      " 16%|█▌        | 16/100 [00:53<06:15,  4.47s/it]"
     ]
    },
    {
     "output_type": "stream",
     "name": "stdout",
     "text": [
      "\u001b[32m[I 2021-08-25 16:38:58,336]\u001b[0m Trial 15 finished with value: 1.167747 and parameters: {'max_depth': 4, 'reg_alpha': 4.975969261836428, 'reg_lambda': 1.9470830769513574, 'min_child_weight': 5, 'gamma': 2.77154365078227, 'learning_rate': 0.07781629183884517, 'colsample_bytree': 0.8128943681058801, 'subsample': 0.7431786901992433}. Best is trial 12 with value: 1.167228.\u001b[0m\n"
     ]
    },
    {
     "output_type": "stream",
     "name": "stderr",
     "text": [
      " 17%|█▋        | 17/100 [00:59<06:44,  4.87s/it]"
     ]
    },
    {
     "output_type": "stream",
     "name": "stdout",
     "text": [
      "\u001b[32m[I 2021-08-25 16:39:04,134]\u001b[0m Trial 16 finished with value: 1.169139 and parameters: {'max_depth': 3, 'reg_alpha': 4.878696600174903, 'reg_lambda': 1.2788173930736122, 'min_child_weight': 5, 'gamma': 2.6933439862215467, 'learning_rate': 0.0752586580131932, 'colsample_bytree': 0.6496918117966701, 'subsample': 0.8454464019019405}. Best is trial 12 with value: 1.167228.\u001b[0m\n"
     ]
    },
    {
     "output_type": "stream",
     "name": "stderr",
     "text": [
      " 18%|█▊        | 18/100 [01:01<05:32,  4.05s/it]"
     ]
    },
    {
     "output_type": "stream",
     "name": "stdout",
     "text": [
      "\u001b[32m[I 2021-08-25 16:39:06,277]\u001b[0m Trial 17 finished with value: 1.168322 and parameters: {'max_depth': 6, 'reg_alpha': 4.060262073859773, 'reg_lambda': 1.1146113355442884, 'min_child_weight': 3, 'gamma': 1.8085490243854214, 'learning_rate': 0.11836960969853591, 'colsample_bytree': 0.7753539142240568, 'subsample': 0.7811777543407536}. Best is trial 12 with value: 1.167228.\u001b[0m\n"
     ]
    },
    {
     "output_type": "stream",
     "name": "stderr",
     "text": [
      " 19%|█▉        | 19/100 [01:05<05:27,  4.04s/it]"
     ]
    },
    {
     "output_type": "stream",
     "name": "stdout",
     "text": [
      "\u001b[32m[I 2021-08-25 16:39:10,301]\u001b[0m Trial 18 finished with value: 1.167298 and parameters: {'max_depth': 4, 'reg_alpha': 5.045024372541754, 'reg_lambda': 1.4136537132667915, 'min_child_weight': 5, 'gamma': 3.117125510169986, 'learning_rate': 0.0673365829321163, 'colsample_bytree': 0.8987546444565485, 'subsample': 0.6809999347422127}. Best is trial 12 with value: 1.167228.\u001b[0m\n"
     ]
    },
    {
     "output_type": "stream",
     "name": "stderr",
     "text": [
      " 20%|██        | 20/100 [01:09<05:23,  4.05s/it]"
     ]
    },
    {
     "output_type": "stream",
     "name": "stdout",
     "text": [
      "\u001b[32m[I 2021-08-25 16:39:14,359]\u001b[0m Trial 19 finished with value: 1.191882 and parameters: {'max_depth': 5, 'reg_alpha': 2.886170506565799, 'reg_lambda': 1.006870367190731, 'min_child_weight': 3, 'gamma': 2.4149677239791125, 'learning_rate': 0.09003118750967332, 'colsample_bytree': 0.4045316842230608, 'subsample': 0.8988736648423099}. Best is trial 12 with value: 1.167228.\u001b[0m\n"
     ]
    },
    {
     "output_type": "stream",
     "name": "stderr",
     "text": [
      " 21%|██        | 21/100 [01:14<05:30,  4.18s/it]"
     ]
    },
    {
     "output_type": "stream",
     "name": "stdout",
     "text": [
      "\u001b[32m[I 2021-08-25 16:39:18,854]\u001b[0m Trial 20 finished with value: 1.167703 and parameters: {'max_depth': 3, 'reg_alpha': 5.980859415762227, 'reg_lambda': 0.5742054575749578, 'min_child_weight': 4, 'gamma': 0.3439621795814771, 'learning_rate': 0.14861994480323276, 'colsample_bytree': 0.8421288568429425, 'subsample': 0.7776017648428293}. Best is trial 12 with value: 1.167228.\u001b[0m\n"
     ]
    },
    {
     "output_type": "stream",
     "name": "stderr",
     "text": [
      " 22%|██▏       | 22/100 [01:18<05:34,  4.29s/it]"
     ]
    },
    {
     "output_type": "stream",
     "name": "stdout",
     "text": [
      "\u001b[32m[I 2021-08-25 16:39:23,411]\u001b[0m Trial 21 finished with value: 1.167755 and parameters: {'max_depth': 4, 'reg_alpha': 5.141481421414755, 'reg_lambda': 1.3894900995293296, 'min_child_weight': 5, 'gamma': 3.0883086417069157, 'learning_rate': 0.06970208134743279, 'colsample_bytree': 0.8999715456997734, 'subsample': 0.6932602078560733}. Best is trial 12 with value: 1.167228.\u001b[0m\n"
     ]
    },
    {
     "output_type": "stream",
     "name": "stderr",
     "text": [
      " 23%|██▎       | 23/100 [01:23<05:27,  4.25s/it]"
     ]
    },
    {
     "output_type": "stream",
     "name": "stdout",
     "text": [
      "\u001b[32m[I 2021-08-25 16:39:27,565]\u001b[0m Trial 22 finished with value: 1.16749 and parameters: {'max_depth': 4, 'reg_alpha': 4.583585916210922, 'reg_lambda': 1.7269434653051379, 'min_child_weight': 5, 'gamma': 2.9838551370859645, 'learning_rate': 0.060748965412698135, 'colsample_bytree': 0.8403021288144161, 'subsample': 0.6833794575497828}. Best is trial 12 with value: 1.167228.\u001b[0m\n"
     ]
    },
    {
     "output_type": "stream",
     "name": "stderr",
     "text": [
      " 24%|██▍       | 24/100 [01:27<05:31,  4.36s/it]"
     ]
    },
    {
     "output_type": "stream",
     "name": "stdout",
     "text": [
      "\u001b[32m[I 2021-08-25 16:39:32,190]\u001b[0m Trial 23 finished with value: 1.166865 and parameters: {'max_depth': 4, 'reg_alpha': 3.888807001969395, 'reg_lambda': 1.3983852222557198, 'min_child_weight': 5, 'gamma': 2.3156232337107863, 'learning_rate': 0.06691216592952787, 'colsample_bytree': 0.7841540792730265, 'subsample': 0.7451146771109146}. Best is trial 23 with value: 1.166865.\u001b[0m\n"
     ]
    },
    {
     "output_type": "stream",
     "name": "stderr",
     "text": [
      " 25%|██▌       | 25/100 [01:33<06:05,  4.87s/it]"
     ]
    },
    {
     "output_type": "stream",
     "name": "stdout",
     "text": [
      "\u001b[32m[I 2021-08-25 16:39:38,246]\u001b[0m Trial 24 finished with value: 1.168633 and parameters: {'max_depth': 5, 'reg_alpha': 3.82470966006119, 'reg_lambda': 1.1958921387536003, 'min_child_weight': 4, 'gamma': 1.5761276345467357, 'learning_rate': 0.051465314278616205, 'colsample_bytree': 0.6966882399761307, 'subsample': 0.7464880747269046}. Best is trial 23 with value: 1.166865.\u001b[0m\n"
     ]
    },
    {
     "output_type": "stream",
     "name": "stderr",
     "text": [
      " 26%|██▌       | 26/100 [01:38<06:02,  4.90s/it]"
     ]
    },
    {
     "output_type": "stream",
     "name": "stdout",
     "text": [
      "\u001b[32m[I 2021-08-25 16:39:43,230]\u001b[0m Trial 25 finished with value: 1.167258 and parameters: {'max_depth': 4, 'reg_alpha': 3.4044506625808215, 'reg_lambda': 1.0302158923374902, 'min_child_weight': 5, 'gamma': 2.1298948326206206, 'learning_rate': 0.08476616101713767, 'colsample_bytree': 0.7666955598841703, 'subsample': 0.818439134832625}. Best is trial 23 with value: 1.166865.\u001b[0m\n"
     ]
    },
    {
     "output_type": "stream",
     "name": "stderr",
     "text": [
      " 27%|██▋       | 27/100 [01:42<05:39,  4.65s/it]"
     ]
    },
    {
     "output_type": "stream",
     "name": "stdout",
     "text": [
      "\u001b[32m[I 2021-08-25 16:39:47,284]\u001b[0m Trial 26 finished with value: 1.167759 and parameters: {'max_depth': 3, 'reg_alpha': 2.424083077344391, 'reg_lambda': 1.4360777101740283, 'min_child_weight': 4, 'gamma': 2.497340805765275, 'learning_rate': 0.11206628165563232, 'colsample_bytree': 0.7927637264820986, 'subsample': 0.7329161322697237}. Best is trial 23 with value: 1.166865.\u001b[0m\n"
     ]
    },
    {
     "output_type": "stream",
     "name": "stderr",
     "text": [
      " 28%|██▊       | 28/100 [01:47<05:31,  4.61s/it]"
     ]
    },
    {
     "output_type": "stream",
     "name": "stdout",
     "text": [
      "\u001b[32m[I 2021-08-25 16:39:51,799]\u001b[0m Trial 27 finished with value: 1.167294 and parameters: {'max_depth': 4, 'reg_alpha': 4.526284173078638, 'reg_lambda': 1.9888915204741644, 'min_child_weight': 5, 'gamma': 1.9301452480251076, 'learning_rate': 0.12826777707176326, 'colsample_bytree': 0.8512458381974067, 'subsample': 0.7958036223372827}. Best is trial 23 with value: 1.166865.\u001b[0m\n"
     ]
    },
    {
     "output_type": "stream",
     "name": "stderr",
     "text": [
      " 29%|██▉       | 29/100 [01:51<05:08,  4.35s/it]"
     ]
    },
    {
     "output_type": "stream",
     "name": "stdout",
     "text": [
      "\u001b[32m[I 2021-08-25 16:39:55,541]\u001b[0m Trial 28 finished with value: 1.169799 and parameters: {'max_depth': 5, 'reg_alpha': 5.453581376751228, 'reg_lambda': 1.7160137058638318, 'min_child_weight': 2, 'gamma': 3.485609274303938, 'learning_rate': 0.09765258930602304, 'colsample_bytree': 0.7453439944216819, 'subsample': 0.8963619492232562}. Best is trial 23 with value: 1.166865.\u001b[0m\n"
     ]
    },
    {
     "output_type": "stream",
     "name": "stderr",
     "text": [
      " 30%|███       | 30/100 [01:57<05:39,  4.85s/it]"
     ]
    },
    {
     "output_type": "stream",
     "name": "stdout",
     "text": [
      "\u001b[32m[I 2021-08-25 16:40:01,575]\u001b[0m Trial 29 finished with value: 1.169653 and parameters: {'max_depth': 3, 'reg_alpha': 3.907314715910922, 'reg_lambda': 1.3018633838600162, 'min_child_weight': 1, 'gamma': 2.9170317451847914, 'learning_rate': 0.06607955797269843, 'colsample_bytree': 0.6867108727888339, 'subsample': 0.6148581016881114}. Best is trial 23 with value: 1.166865.\u001b[0m\n"
     ]
    },
    {
     "output_type": "stream",
     "name": "stderr",
     "text": [
      " 31%|███       | 31/100 [01:59<04:37,  4.02s/it]"
     ]
    },
    {
     "output_type": "stream",
     "name": "stdout",
     "text": [
      "\u001b[32m[I 2021-08-25 16:40:03,651]\u001b[0m Trial 30 finished with value: 1.170562 and parameters: {'max_depth': 6, 'reg_alpha': 5.681082598641817, 'reg_lambda': 0.8862592551324848, 'min_child_weight': 3, 'gamma': 2.360313221815684, 'learning_rate': 0.1741674315196356, 'colsample_bytree': 0.617806229515497, 'subsample': 0.6616443009717567}. Best is trial 23 with value: 1.166865.\u001b[0m\n"
     ]
    },
    {
     "output_type": "stream",
     "name": "stderr",
     "text": [
      " 32%|███▏      | 32/100 [02:04<04:59,  4.40s/it]"
     ]
    },
    {
     "output_type": "stream",
     "name": "stdout",
     "text": [
      "\u001b[32m[I 2021-08-25 16:40:08,938]\u001b[0m Trial 31 finished with value: 1.167826 and parameters: {'max_depth': 4, 'reg_alpha': 3.266817431484575, 'reg_lambda': 1.0320562060623284, 'min_child_weight': 5, 'gamma': 2.1158687217048033, 'learning_rate': 0.08649143561654277, 'colsample_bytree': 0.7810384714986858, 'subsample': 0.8402437084704943}. Best is trial 23 with value: 1.166865.\u001b[0m\n"
     ]
    },
    {
     "output_type": "stream",
     "name": "stderr",
     "text": [
      " 33%|███▎      | 33/100 [02:09<05:06,  4.57s/it]"
     ]
    },
    {
     "output_type": "stream",
     "name": "stdout",
     "text": [
      "\u001b[32m[I 2021-08-25 16:40:13,914]\u001b[0m Trial 32 finished with value: 1.169836 and parameters: {'max_depth': 4, 'reg_alpha': 3.3109493780140964, 'reg_lambda': 1.1122061866028148, 'min_child_weight': 5, 'gamma': 2.1598458142649277, 'learning_rate': 0.05928213428848355, 'colsample_bytree': 0.7342901308547294, 'subsample': 0.8091400064985383}. Best is trial 23 with value: 1.166865.\u001b[0m\n"
     ]
    },
    {
     "output_type": "stream",
     "name": "stderr",
     "text": [
      " 34%|███▍      | 34/100 [02:13<04:56,  4.50s/it]"
     ]
    },
    {
     "output_type": "stream",
     "name": "stdout",
     "text": [
      "\u001b[32m[I 2021-08-25 16:40:18,239]\u001b[0m Trial 33 finished with value: 1.169825 and parameters: {'max_depth': 4, 'reg_alpha': 4.283391047075925, 'reg_lambda': 0.643896967358554, 'min_child_weight': 5, 'gamma': 3.8562442439751137, 'learning_rate': 0.0869140128278331, 'colsample_bytree': 0.7149123834560785, 'subsample': 0.7223544478513363}. Best is trial 23 with value: 1.166865.\u001b[0m\n"
     ]
    },
    {
     "output_type": "stream",
     "name": "stderr",
     "text": [
      " 35%|███▌      | 35/100 [02:19<05:21,  4.95s/it]"
     ]
    },
    {
     "output_type": "stream",
     "name": "stdout",
     "text": [
      "\u001b[32m[I 2021-08-25 16:40:24,231]\u001b[0m Trial 34 finished with value: 1.167917 and parameters: {'max_depth': 4, 'reg_alpha': 2.6379254281393587, 'reg_lambda': 0.9574133777810251, 'min_child_weight': 4, 'gamma': 1.5619457190771935, 'learning_rate': 0.053624293391429274, 'colsample_bytree': 0.7599537179695494, 'subsample': 0.8097632137743762}. Best is trial 23 with value: 1.166865.\u001b[0m\n"
     ]
    },
    {
     "output_type": "stream",
     "name": "stderr",
     "text": [
      " 36%|███▌      | 36/100 [02:20<04:04,  3.82s/it]"
     ]
    },
    {
     "output_type": "stream",
     "name": "stdout",
     "text": [
      "\u001b[32m[I 2021-08-25 16:40:25,421]\u001b[0m Trial 35 finished with value: 1.173842 and parameters: {'max_depth': 3, 'reg_alpha': 3.692200593049229, 'reg_lambda': 1.2485443156981177, 'min_child_weight': 5, 'gamma': 3.6318904011157223, 'learning_rate': 0.49342708267149454, 'colsample_bytree': 0.8298911902417175, 'subsample': 0.7576547273149001}. Best is trial 23 with value: 1.166865.\u001b[0m\n"
     ]
    },
    {
     "output_type": "stream",
     "name": "stderr",
     "text": [
      " 37%|███▋      | 37/100 [02:25<04:10,  3.98s/it]"
     ]
    },
    {
     "output_type": "stream",
     "name": "stdout",
     "text": [
      "\u001b[32m[I 2021-08-25 16:40:29,776]\u001b[0m Trial 36 finished with value: 1.167508 and parameters: {'max_depth': 5, 'reg_alpha': 2.0301238132296886, 'reg_lambda': 1.5026885115929591, 'min_child_weight': 4, 'gamma': 2.5115527815733083, 'learning_rate': 0.05026736051932621, 'colsample_bytree': 0.8684527766188375, 'subsample': 0.5405753352418677}. Best is trial 23 with value: 1.166865.\u001b[0m\n"
     ]
    },
    {
     "output_type": "stream",
     "name": "stderr",
     "text": [
      " 38%|███▊      | 38/100 [02:30<04:33,  4.41s/it]"
     ]
    },
    {
     "output_type": "stream",
     "name": "stdout",
     "text": [
      "\u001b[32m[I 2021-08-25 16:40:35,198]\u001b[0m Trial 37 finished with value: 1.168016 and parameters: {'max_depth': 3, 'reg_alpha': 4.695307050747136, 'reg_lambda': 1.630986564955809, 'min_child_weight': 3, 'gamma': 2.8312620561509942, 'learning_rate': 0.06354212537228357, 'colsample_bytree': 0.8078044388814986, 'subsample': 0.6324019821643241}. Best is trial 23 with value: 1.166865.\u001b[0m\n"
     ]
    },
    {
     "output_type": "stream",
     "name": "stderr",
     "text": [
      " 39%|███▉      | 39/100 [02:31<03:28,  3.42s/it]"
     ]
    },
    {
     "output_type": "stream",
     "name": "stdout",
     "text": [
      "\u001b[32m[I 2021-08-25 16:40:36,315]\u001b[0m Trial 38 finished with value: 1.174501 and parameters: {'max_depth': 4, 'reg_alpha': 5.372603045002372, 'reg_lambda': 1.0144611887260047, 'min_child_weight': 5, 'gamma': 2.270398732947879, 'learning_rate': 0.408751280331657, 'colsample_bytree': 0.7723343399363857, 'subsample': 0.872855029556032}. Best is trial 23 with value: 1.166865.\u001b[0m\n"
     ]
    },
    {
     "output_type": "stream",
     "name": "stderr",
     "text": [
      " 40%|████      | 40/100 [02:35<03:32,  3.55s/it]"
     ]
    },
    {
     "output_type": "stream",
     "name": "stdout",
     "text": [
      "\u001b[32m[I 2021-08-25 16:40:40,149]\u001b[0m Trial 39 finished with value: 1.168882 and parameters: {'max_depth': 5, 'reg_alpha': 1.685922092236052, 'reg_lambda': 1.3568277461299971, 'min_child_weight': 4, 'gamma': 1.9153402012167757, 'learning_rate': 0.07422113765741364, 'colsample_bytree': 0.6799558552240332, 'subsample': 0.7093365067102916}. Best is trial 23 with value: 1.166865.\u001b[0m\n"
     ]
    },
    {
     "output_type": "stream",
     "name": "stderr",
     "text": [
      " 41%|████      | 41/100 [02:39<03:35,  3.65s/it]"
     ]
    },
    {
     "output_type": "stream",
     "name": "stdout",
     "text": [
      "\u001b[32m[I 2021-08-25 16:40:44,043]\u001b[0m Trial 40 finished with value: 1.191867 and parameters: {'max_depth': 4, 'reg_alpha': 3.53739730061869, 'reg_lambda': 0.6995539849068981, 'min_child_weight': 1, 'gamma': 1.5933339071423818, 'learning_rate': 0.10144878763665521, 'colsample_bytree': 0.4919269324160087, 'subsample': 0.8220150006303515}. Best is trial 23 with value: 1.166865.\u001b[0m\n"
     ]
    },
    {
     "output_type": "stream",
     "name": "stderr",
     "text": [
      " 42%|████▏     | 42/100 [02:42<03:21,  3.47s/it]"
     ]
    },
    {
     "output_type": "stream",
     "name": "stdout",
     "text": [
      "\u001b[32m[I 2021-08-25 16:40:47,101]\u001b[0m Trial 41 finished with value: 1.168007 and parameters: {'max_depth': 4, 'reg_alpha': 4.4299919160768235, 'reg_lambda': 1.9898399859520444, 'min_child_weight': 5, 'gamma': 1.8899031480731343, 'learning_rate': 0.1320799254042026, 'colsample_bytree': 0.8624395452432672, 'subsample': 0.7823274505857528}. Best is trial 23 with value: 1.166865.\u001b[0m\n"
     ]
    },
    {
     "output_type": "stream",
     "name": "stderr",
     "text": [
      " 43%|████▎     | 43/100 [02:44<02:54,  3.06s/it]"
     ]
    },
    {
     "output_type": "stream",
     "name": "stdout",
     "text": [
      "\u001b[32m[I 2021-08-25 16:40:49,193]\u001b[0m Trial 42 finished with value: 1.16884 and parameters: {'max_depth': 4, 'reg_alpha': 4.038269477668211, 'reg_lambda': 1.7892283084225298, 'min_child_weight': 5, 'gamma': 1.9851746816453897, 'learning_rate': 0.13539522687960356, 'colsample_bytree': 0.835537247117435, 'subsample': 0.7658370564696333}. Best is trial 23 with value: 1.166865.\u001b[0m\n"
     ]
    },
    {
     "output_type": "stream",
     "name": "stderr",
     "text": [
      " 44%|████▍     | 44/100 [02:46<02:31,  2.71s/it]"
     ]
    },
    {
     "output_type": "stream",
     "name": "stdout",
     "text": [
      "\u001b[32m[I 2021-08-25 16:40:51,100]\u001b[0m Trial 43 finished with value: 1.168238 and parameters: {'max_depth': 4, 'reg_alpha': 3.1160566972543844, 'reg_lambda': 1.5385502397723807, 'min_child_weight': 5, 'gamma': 1.294232993085227, 'learning_rate': 0.16300008000631258, 'colsample_bytree': 0.8673034802393758, 'subsample': 0.7992641335922557}. Best is trial 23 with value: 1.166865.\u001b[0m\n"
     ]
    },
    {
     "output_type": "stream",
     "name": "stderr",
     "text": [
      " 45%|████▌     | 45/100 [02:47<02:06,  2.29s/it]"
     ]
    },
    {
     "output_type": "stream",
     "name": "stdout",
     "text": [
      "\u001b[32m[I 2021-08-25 16:40:52,409]\u001b[0m Trial 44 finished with value: 1.170485 and parameters: {'max_depth': 4, 'reg_alpha': 4.686857438131088, 'reg_lambda': 1.8960539042809597, 'min_child_weight': 5, 'gamma': 2.282508905844379, 'learning_rate': 0.21975876097802494, 'colsample_bytree': 0.80056967351505, 'subsample': 0.8707439635641457}. Best is trial 23 with value: 1.166865.\u001b[0m\n"
     ]
    },
    {
     "output_type": "stream",
     "name": "stderr",
     "text": [
      " 46%|████▌     | 46/100 [02:52<02:44,  3.05s/it]"
     ]
    },
    {
     "output_type": "stream",
     "name": "stdout",
     "text": [
      "\u001b[32m[I 2021-08-25 16:40:57,231]\u001b[0m Trial 45 finished with value: 1.167721 and parameters: {'max_depth': 3, 'reg_alpha': 3.5945051222451894, 'reg_lambda': 0.31075652689479916, 'min_child_weight': 4, 'gamma': 2.6060054479661114, 'learning_rate': 0.11767123489358321, 'colsample_bytree': 0.8248154257185497, 'subsample': 0.5946959021913263}. Best is trial 23 with value: 1.166865.\u001b[0m\n"
     ]
    },
    {
     "output_type": "stream",
     "name": "stderr",
     "text": [
      " 47%|████▋     | 47/100 [02:56<02:51,  3.24s/it]"
     ]
    },
    {
     "output_type": "stream",
     "name": "stdout",
     "text": [
      "\u001b[32m[I 2021-08-25 16:41:00,926]\u001b[0m Trial 46 finished with value: 1.168344 and parameters: {'max_depth': 4, 'reg_alpha': 4.26697994910938, 'reg_lambda': 1.1188512555748205, 'min_child_weight': 4, 'gamma': 3.239071680482228, 'learning_rate': 0.09377114769058305, 'colsample_bytree': 0.8498982166467028, 'subsample': 0.6597437122340558}. Best is trial 23 with value: 1.166865.\u001b[0m\n"
     ]
    },
    {
     "output_type": "stream",
     "name": "stderr",
     "text": [
      " 48%|████▊     | 48/100 [03:01<03:22,  3.90s/it]"
     ]
    },
    {
     "output_type": "stream",
     "name": "stdout",
     "text": [
      "\u001b[32m[I 2021-08-25 16:41:06,343]\u001b[0m Trial 47 finished with value: 1.167432 and parameters: {'max_depth': 3, 'reg_alpha': 5.274703743833905, 'reg_lambda': 0.8456877534393022, 'min_child_weight': 5, 'gamma': 0.7704784595987086, 'learning_rate': 0.08282725194752938, 'colsample_bytree': 0.7513953553658875, 'subsample': 0.7188081068565468}. Best is trial 23 with value: 1.166865.\u001b[0m\n"
     ]
    },
    {
     "output_type": "stream",
     "name": "stderr",
     "text": [
      " 49%|████▉     | 49/100 [03:06<03:24,  4.01s/it]"
     ]
    },
    {
     "output_type": "stream",
     "name": "stdout",
     "text": [
      "\u001b[32m[I 2021-08-25 16:41:10,623]\u001b[0m Trial 48 finished with value: 1.168175 and parameters: {'max_depth': 5, 'reg_alpha': 4.7963050880213975, 'reg_lambda': 1.6602166072991635, 'min_child_weight': 0, 'gamma': 1.6860101575610416, 'learning_rate': 0.0697950842552271, 'colsample_bytree': 0.8777892983857933, 'subsample': 0.44944343724771413}. Best is trial 23 with value: 1.166865.\u001b[0m\n"
     ]
    },
    {
     "output_type": "stream",
     "name": "stderr",
     "text": [
      " 50%|█████     | 50/100 [03:11<03:41,  4.43s/it]"
     ]
    },
    {
     "output_type": "stream",
     "name": "stdout",
     "text": [
      "\u001b[32m[I 2021-08-25 16:41:16,019]\u001b[0m Trial 49 finished with value: 1.167087 and parameters: {'max_depth': 4, 'reg_alpha': 5.703681073062799, 'reg_lambda': 1.878069613449383, 'min_child_weight': 5, 'gamma': 2.146783704587814, 'learning_rate': 0.05838825024897697, 'colsample_bytree': 0.7864199745573534, 'subsample': 0.8347964258522461}. Best is trial 23 with value: 1.166865.\u001b[0m\n"
     ]
    },
    {
     "output_type": "stream",
     "name": "stderr",
     "text": [
      " 51%|█████     | 51/100 [03:17<04:00,  4.90s/it]"
     ]
    },
    {
     "output_type": "stream",
     "name": "stdout",
     "text": [
      "\u001b[32m[I 2021-08-25 16:41:22,021]\u001b[0m Trial 50 finished with value: 1.170007 and parameters: {'max_depth': 3, 'reg_alpha': 5.6669139377881415, 'reg_lambda': 1.829315204608219, 'min_child_weight': 4, 'gamma': 2.771692494914155, 'learning_rate': 0.05598267158748173, 'colsample_bytree': 0.7275419227304194, 'subsample': 0.8250512348908278}. Best is trial 23 with value: 1.166865.\u001b[0m\n"
     ]
    },
    {
     "output_type": "stream",
     "name": "stderr",
     "text": [
      " 52%|█████▏    | 52/100 [03:22<04:00,  5.01s/it]"
     ]
    },
    {
     "output_type": "stream",
     "name": "stdout",
     "text": [
      "\u001b[32m[I 2021-08-25 16:41:27,270]\u001b[0m Trial 51 finished with value: 1.167659 and parameters: {'max_depth': 4, 'reg_alpha': 4.181505971338213, 'reg_lambda': 1.8432269691434615, 'min_child_weight': 5, 'gamma': 2.227958214823236, 'learning_rate': 0.05875755534704782, 'colsample_bytree': 0.8182045114342139, 'subsample': 0.8698473945091584}. Best is trial 23 with value: 1.166865.\u001b[0m\n"
     ]
    },
    {
     "output_type": "stream",
     "name": "stderr",
     "text": [
      " 53%|█████▎    | 53/100 [03:27<03:57,  5.05s/it]"
     ]
    },
    {
     "output_type": "stream",
     "name": "stdout",
     "text": [
      "\u001b[32m[I 2021-08-25 16:41:32,430]\u001b[0m Trial 52 finished with value: 1.167332 and parameters: {'max_depth': 4, 'reg_alpha': 3.857391807559214, 'reg_lambda': 1.8924455764380115, 'min_child_weight': 5, 'gamma': 1.976028810802584, 'learning_rate': 0.07452202372379954, 'colsample_bytree': 0.7874647745166556, 'subsample': 0.7873322910789814}. Best is trial 23 with value: 1.166865.\u001b[0m\n"
     ]
    },
    {
     "output_type": "stream",
     "name": "stderr",
     "text": [
      " 54%|█████▍    | 54/100 [03:30<03:16,  4.27s/it]"
     ]
    },
    {
     "output_type": "stream",
     "name": "stdout",
     "text": [
      "\u001b[32m[I 2021-08-25 16:41:34,884]\u001b[0m Trial 53 finished with value: 1.167883 and parameters: {'max_depth': 4, 'reg_alpha': 4.506628110079843, 'reg_lambda': 1.2126393875261081, 'min_child_weight': 5, 'gamma': 2.0522033704415343, 'learning_rate': 0.12332901752749482, 'colsample_bytree': 0.7664179426403575, 'subsample': 0.8332690096151948}. Best is trial 23 with value: 1.166865.\u001b[0m\n"
     ]
    },
    {
     "output_type": "stream",
     "name": "stderr",
     "text": [
      " 55%|█████▌    | 55/100 [03:34<03:07,  4.16s/it]"
     ]
    },
    {
     "output_type": "stream",
     "name": "stdout",
     "text": [
      "\u001b[32m[I 2021-08-25 16:41:38,794]\u001b[0m Trial 54 finished with value: 1.169593 and parameters: {'max_depth': 4, 'reg_alpha': 4.892194089157947, 'reg_lambda': 0.9372438809320132, 'min_child_weight': 5, 'gamma': 2.4315115528259335, 'learning_rate': 0.10665808514206832, 'colsample_bytree': 0.6198612531678034, 'subsample': 0.5169206284117892}. Best is trial 23 with value: 1.166865.\u001b[0m\n"
     ]
    },
    {
     "output_type": "stream",
     "name": "stderr",
     "text": [
      " 56%|█████▌    | 56/100 [03:39<03:18,  4.52s/it]"
     ]
    },
    {
     "output_type": "stream",
     "name": "stdout",
     "text": [
      "\u001b[32m[I 2021-08-25 16:41:44,147]\u001b[0m Trial 55 finished with value: 1.166912 and parameters: {'max_depth': 4, 'reg_alpha': 5.757830187074195, 'reg_lambda': 1.486226212805986, 'min_child_weight': 2, 'gamma': 1.3865282886419896, 'learning_rate': 0.06370041719897865, 'colsample_bytree': 0.8537322365786042, 'subsample': 0.8581816541492147}. Best is trial 23 with value: 1.166865.\u001b[0m\n"
     ]
    },
    {
     "output_type": "stream",
     "name": "stderr",
     "text": [
      " 57%|█████▋    | 57/100 [03:44<03:14,  4.53s/it]"
     ]
    },
    {
     "output_type": "stream",
     "name": "stdout",
     "text": [
      "\u001b[32m[I 2021-08-25 16:41:48,708]\u001b[0m Trial 56 finished with value: 1.167021 and parameters: {'max_depth': 4, 'reg_alpha': 5.794134386038714, 'reg_lambda': 1.486523133463511, 'min_child_weight': 2, 'gamma': 0.7308246591201157, 'learning_rate': 0.06322842370175116, 'colsample_bytree': 0.8838631291619632, 'subsample': 0.763141243245085}. Best is trial 23 with value: 1.166865.\u001b[0m\n"
     ]
    },
    {
     "output_type": "stream",
     "name": "stderr",
     "text": [
      " 58%|█████▊    | 58/100 [03:48<03:06,  4.44s/it]"
     ]
    },
    {
     "output_type": "stream",
     "name": "stdout",
     "text": [
      "\u001b[32m[I 2021-08-25 16:41:52,922]\u001b[0m Trial 57 finished with value: 1.168269 and parameters: {'max_depth': 5, 'reg_alpha': 5.775369360549697, 'reg_lambda': 1.515136941532243, 'min_child_weight': 2, 'gamma': 0.557867617613377, 'learning_rate': 0.06348624849458795, 'colsample_bytree': 0.8838856469254617, 'subsample': 0.8591152357718217}. Best is trial 23 with value: 1.166865.\u001b[0m\n"
     ]
    },
    {
     "output_type": "stream",
     "name": "stderr",
     "text": [
      " 59%|█████▉    | 59/100 [03:54<03:23,  4.97s/it]"
     ]
    },
    {
     "output_type": "stream",
     "name": "stdout",
     "text": [
      "\u001b[32m[I 2021-08-25 16:41:59,145]\u001b[0m Trial 58 finished with value: 1.166438 and parameters: {'max_depth': 4, 'reg_alpha': 5.968374987878846, 'reg_lambda': 1.4374979276040596, 'min_child_weight': 2, 'gamma': 0.8899280869658877, 'learning_rate': 0.05539358203635937, 'colsample_bytree': 0.8951338853974595, 'subsample': 0.7584140284053172}. Best is trial 58 with value: 1.166438.\u001b[0m\n"
     ]
    },
    {
     "output_type": "stream",
     "name": "stderr",
     "text": [
      " 60%|██████    | 60/100 [03:59<03:19,  4.99s/it]"
     ]
    },
    {
     "output_type": "stream",
     "name": "stdout",
     "text": [
      "\u001b[32m[I 2021-08-25 16:42:04,187]\u001b[0m Trial 59 finished with value: 1.166504 and parameters: {'max_depth': 4, 'reg_alpha': 5.96999911305706, 'reg_lambda': 1.4343516228278657, 'min_child_weight': 1, 'gamma': 0.973040268992033, 'learning_rate': 0.05598518725872079, 'colsample_bytree': 0.8938960389744589, 'subsample': 0.7439855349296409}. Best is trial 58 with value: 1.166438.\u001b[0m\n"
     ]
    },
    {
     "output_type": "stream",
     "name": "stderr",
     "text": [
      " 61%|██████    | 61/100 [04:06<03:32,  5.46s/it]"
     ]
    },
    {
     "output_type": "stream",
     "name": "stdout",
     "text": [
      "\u001b[32m[I 2021-08-25 16:42:10,729]\u001b[0m Trial 60 finished with value: 1.166579 and parameters: {'max_depth': 4, 'reg_alpha': 5.996208731320077, 'reg_lambda': 1.444902642875764, 'min_child_weight': 1, 'gamma': 0.8772077748627387, 'learning_rate': 0.05532670957439813, 'colsample_bytree': 0.8781165643960489, 'subsample': 0.7385147666521715}. Best is trial 58 with value: 1.166438.\u001b[0m\n"
     ]
    },
    {
     "output_type": "stream",
     "name": "stderr",
     "text": [
      " 62%|██████▏   | 62/100 [04:10<03:18,  5.23s/it]"
     ]
    },
    {
     "output_type": "stream",
     "name": "stdout",
     "text": [
      "\u001b[32m[I 2021-08-25 16:42:15,436]\u001b[0m Trial 61 finished with value: 1.167015 and parameters: {'max_depth': 4, 'reg_alpha': 5.955149967038237, 'reg_lambda': 1.4552310663682553, 'min_child_weight': 1, 'gamma': 0.8590122693644987, 'learning_rate': 0.05546306196446496, 'colsample_bytree': 0.8979987484899096, 'subsample': 0.7394634234562875}. Best is trial 58 with value: 1.166438.\u001b[0m\n"
     ]
    },
    {
     "output_type": "stream",
     "name": "stderr",
     "text": [
      " 63%|██████▎   | 63/100 [04:15<03:06,  5.05s/it]"
     ]
    },
    {
     "output_type": "stream",
     "name": "stdout",
     "text": [
      "\u001b[32m[I 2021-08-25 16:42:20,057]\u001b[0m Trial 62 finished with value: 1.16708 and parameters: {'max_depth': 4, 'reg_alpha': 5.973739883401087, 'reg_lambda': 1.455150425970254, 'min_child_weight': 1, 'gamma': 0.8953957079595398, 'learning_rate': 0.05549953923320124, 'colsample_bytree': 0.8978004261620512, 'subsample': 0.7402530865929604}. Best is trial 58 with value: 1.166438.\u001b[0m\n"
     ]
    },
    {
     "output_type": "stream",
     "name": "stderr",
     "text": [
      " 64%|██████▍   | 64/100 [04:20<02:57,  4.93s/it]"
     ]
    },
    {
     "output_type": "stream",
     "name": "stdout",
     "text": [
      "\u001b[32m[I 2021-08-25 16:42:24,717]\u001b[0m Trial 63 finished with value: 1.16753 and parameters: {'max_depth': 4, 'reg_alpha': 5.475435926205798, 'reg_lambda': 1.5892341768664784, 'min_child_weight': 2, 'gamma': 1.1153347039298442, 'learning_rate': 0.07051909558458343, 'colsample_bytree': 0.8737090245839169, 'subsample': 0.7525482644623869}. Best is trial 58 with value: 1.166438.\u001b[0m\n"
     ]
    },
    {
     "output_type": "stream",
     "name": "stderr",
     "text": [
      " 65%|██████▌   | 65/100 [04:24<02:47,  4.78s/it]"
     ]
    },
    {
     "output_type": "stream",
     "name": "stdout",
     "text": [
      "\u001b[32m[I 2021-08-25 16:42:29,135]\u001b[0m Trial 64 finished with value: 1.167781 and parameters: {'max_depth': 4, 'reg_alpha': 5.231366141218566, 'reg_lambda': 1.3396255405034427, 'min_child_weight': 1, 'gamma': 0.6616454008833397, 'learning_rate': 0.06403262305160386, 'colsample_bytree': 0.8547606936476378, 'subsample': 0.7008207275542123}. Best is trial 58 with value: 1.166438.\u001b[0m\n"
     ]
    },
    {
     "output_type": "stream",
     "name": "stderr",
     "text": [
      " 66%|██████▌   | 66/100 [04:30<02:51,  5.03s/it]"
     ]
    },
    {
     "output_type": "stream",
     "name": "stdout",
     "text": [
      "\u001b[32m[I 2021-08-25 16:42:34,756]\u001b[0m Trial 65 finished with value: 1.166606 and parameters: {'max_depth': 4, 'reg_alpha': 5.866373157685532, 'reg_lambda': 1.464888235088312, 'min_child_weight': 1, 'gamma': 0.39485786674323553, 'learning_rate': 0.054870853641804315, 'colsample_bytree': 0.8865734414113738, 'subsample': 0.7695283792786851}. Best is trial 58 with value: 1.166438.\u001b[0m\n"
     ]
    },
    {
     "output_type": "stream",
     "name": "stderr",
     "text": [
      " 67%|██████▋   | 67/100 [04:34<02:39,  4.84s/it]"
     ]
    },
    {
     "output_type": "stream",
     "name": "stdout",
     "text": [
      "\u001b[32m[I 2021-08-25 16:42:39,143]\u001b[0m Trial 66 finished with value: 1.167533 and parameters: {'max_depth': 4, 'reg_alpha': 5.946228600514027, 'reg_lambda': 1.3821796646654352, 'min_child_weight': 1, 'gamma': 0.3075132988792312, 'learning_rate': 0.0549719798070782, 'colsample_bytree': 0.898467101290739, 'subsample': 0.7286733244360694}. Best is trial 58 with value: 1.166438.\u001b[0m\n"
     ]
    },
    {
     "output_type": "stream",
     "name": "stderr",
     "text": [
      " 68%|██████▊   | 68/100 [04:39<02:35,  4.86s/it]"
     ]
    },
    {
     "output_type": "stream",
     "name": "stdout",
     "text": [
      "\u001b[32m[I 2021-08-25 16:42:44,049]\u001b[0m Trial 67 finished with value: 1.167263 and parameters: {'max_depth': 4, 'reg_alpha': 5.497922224561678, 'reg_lambda': 1.566415076172182, 'min_child_weight': 0, 'gamma': 1.2553225086442592, 'learning_rate': 0.0508876934612211, 'colsample_bytree': 0.8452584369911951, 'subsample': 0.6763230790847382}. Best is trial 58 with value: 1.166438.\u001b[0m\n"
     ]
    },
    {
     "output_type": "stream",
     "name": "stderr",
     "text": [
      " 69%|██████▉   | 69/100 [04:44<02:28,  4.78s/it]"
     ]
    },
    {
     "output_type": "stream",
     "name": "stdout",
     "text": [
      "\u001b[32m[I 2021-08-25 16:42:48,651]\u001b[0m Trial 68 finished with value: 1.167369 and parameters: {'max_depth': 4, 'reg_alpha': 5.57173869365411, 'reg_lambda': 1.6973517248385708, 'min_child_weight': 1, 'gamma': 0.9715619789669395, 'learning_rate': 0.05988649775421792, 'colsample_bytree': 0.8763412283741739, 'subsample': 0.7034398799856422}. Best is trial 58 with value: 1.166438.\u001b[0m\n"
     ]
    },
    {
     "output_type": "stream",
     "name": "stderr",
     "text": [
      " 70%|███████   | 70/100 [04:49<02:25,  4.84s/it]"
     ]
    },
    {
     "output_type": "stream",
     "name": "stdout",
     "text": [
      "\u001b[32m[I 2021-08-25 16:42:53,633]\u001b[0m Trial 69 finished with value: 1.167045 and parameters: {'max_depth': 4, 'reg_alpha': 5.126459904083581, 'reg_lambda': 1.4409897262638969, 'min_child_weight': 1, 'gamma': 0.3859465216027687, 'learning_rate': 0.0680425393078839, 'colsample_bytree': 0.8597069390997528, 'subsample': 0.7689968800967739}. Best is trial 58 with value: 1.166438.\u001b[0m\n"
     ]
    },
    {
     "output_type": "stream",
     "name": "stderr",
     "text": [
      " 71%|███████   | 71/100 [04:53<02:16,  4.71s/it]"
     ]
    },
    {
     "output_type": "stream",
     "name": "stdout",
     "text": [
      "\u001b[32m[I 2021-08-25 16:42:58,040]\u001b[0m Trial 70 finished with value: 1.167179 and parameters: {'max_depth': 4, 'reg_alpha': 5.9949368672740615, 'reg_lambda': 1.3110925190025036, 'min_child_weight': 2, 'gamma': 0.5287446404006572, 'learning_rate': 0.054968768181052396, 'colsample_bytree': 0.8894571000880865, 'subsample': 0.7333662008802153}. Best is trial 58 with value: 1.166438.\u001b[0m\n"
     ]
    },
    {
     "output_type": "stream",
     "name": "stderr",
     "text": [
      " 72%|███████▏  | 72/100 [04:57<02:06,  4.52s/it]"
     ]
    },
    {
     "output_type": "stream",
     "name": "stdout",
     "text": [
      "\u001b[32m[I 2021-08-25 16:43:02,118]\u001b[0m Trial 71 finished with value: 1.167505 and parameters: {'max_depth': 4, 'reg_alpha': 5.8033257742535405, 'reg_lambda': 1.4839686224410678, 'min_child_weight': 2, 'gamma': 0.8165590981258198, 'learning_rate': 0.06395637489920974, 'colsample_bytree': 0.8832938141412491, 'subsample': 0.7667253761831176}. Best is trial 58 with value: 1.166438.\u001b[0m\n"
     ]
    },
    {
     "output_type": "stream",
     "name": "stderr",
     "text": [
      " 73%|███████▎  | 73/100 [05:01<01:56,  4.33s/it]"
     ]
    },
    {
     "output_type": "stream",
     "name": "stdout",
     "text": [
      "\u001b[32m[I 2021-08-25 16:43:05,988]\u001b[0m Trial 72 finished with value: 1.167006 and parameters: {'max_depth': 4, 'reg_alpha': 5.772618771205878, 'reg_lambda': 1.603221433405026, 'min_child_weight': 2, 'gamma': 0.06102438155777856, 'learning_rate': 0.06065670846371028, 'colsample_bytree': 0.8402160965227461, 'subsample': 0.7447938920507119}. Best is trial 58 with value: 1.166438.\u001b[0m\n"
     ]
    },
    {
     "output_type": "stream",
     "name": "stderr",
     "text": [
      " 74%|███████▍  | 74/100 [05:05<01:52,  4.32s/it]"
     ]
    },
    {
     "output_type": "stream",
     "name": "stdout",
     "text": [
      "\u001b[32m[I 2021-08-25 16:43:10,310]\u001b[0m Trial 73 finished with value: 1.167199 and parameters: {'max_depth': 4, 'reg_alpha': 5.316617583092247, 'reg_lambda': 1.605263798660674, 'min_child_weight': 1, 'gamma': 0.08070954800809277, 'learning_rate': 0.07963073520628036, 'colsample_bytree': 0.8441926055413931, 'subsample': 0.7471680148669854}. Best is trial 58 with value: 1.166438.\u001b[0m\n"
     ]
    },
    {
     "output_type": "stream",
     "name": "stderr",
     "text": [
      " 75%|███████▌  | 75/100 [05:11<01:54,  4.59s/it]"
     ]
    },
    {
     "output_type": "stream",
     "name": "stdout",
     "text": [
      "\u001b[32m[I 2021-08-25 16:43:15,513]\u001b[0m Trial 74 finished with value: 1.167328 and parameters: {'max_depth': 4, 'reg_alpha': 5.594262105006886, 'reg_lambda': 1.4028063033827936, 'min_child_weight': 2, 'gamma': 0.203492915511671, 'learning_rate': 0.05265522157146225, 'colsample_bytree': 0.82253092951162, 'subsample': 0.6860741048225724}. Best is trial 58 with value: 1.166438.\u001b[0m\n"
     ]
    },
    {
     "output_type": "stream",
     "name": "stderr",
     "text": [
      " 76%|███████▌  | 76/100 [05:16<01:53,  4.73s/it]"
     ]
    },
    {
     "output_type": "stream",
     "name": "stdout",
     "text": [
      "\u001b[32m[I 2021-08-25 16:43:20,564]\u001b[0m Trial 75 finished with value: 1.166774 and parameters: {'max_depth': 4, 'reg_alpha': 5.814782412064184, 'reg_lambda': 1.6694116102555727, 'min_child_weight': 0, 'gamma': 0.5296867119175741, 'learning_rate': 0.060112193671845886, 'colsample_bytree': 0.8642715392540742, 'subsample': 0.7198715623037005}. Best is trial 58 with value: 1.166438.\u001b[0m\n"
     ]
    },
    {
     "output_type": "stream",
     "name": "stderr",
     "text": [
      " 77%|███████▋  | 77/100 [05:19<01:40,  4.37s/it]"
     ]
    },
    {
     "output_type": "stream",
     "name": "stdout",
     "text": [
      "\u001b[32m[I 2021-08-25 16:43:24,094]\u001b[0m Trial 76 finished with value: 1.168299 and parameters: {'max_depth': 4, 'reg_alpha': 0.574580642696664, 'reg_lambda': 1.7736925791852454, 'min_child_weight': 0, 'gamma': 1.0093090194027063, 'learning_rate': 0.07426486088107485, 'colsample_bytree': 0.8644530339188928, 'subsample': 0.7153362021861214}. Best is trial 58 with value: 1.166438.\u001b[0m\n"
     ]
    },
    {
     "output_type": "stream",
     "name": "stderr",
     "text": [
      " 78%|███████▊  | 78/100 [05:24<01:39,  4.54s/it]"
     ]
    },
    {
     "output_type": "stream",
     "name": "stdout",
     "text": [
      "\u001b[32m[I 2021-08-25 16:43:29,040]\u001b[0m Trial 77 finished with value: 1.167083 and parameters: {'max_depth': 4, 'reg_alpha': 5.8093398024422935, 'reg_lambda': 1.65743558097534, 'min_child_weight': 3, 'gamma': 0.45022483690994974, 'learning_rate': 0.05984107321648547, 'colsample_bytree': 0.8393015924625498, 'subsample': 0.7948895487935572}. Best is trial 58 with value: 1.166438.\u001b[0m\n"
     ]
    },
    {
     "output_type": "stream",
     "name": "stderr",
     "text": [
      " 79%|███████▉  | 79/100 [05:28<01:29,  4.27s/it]"
     ]
    },
    {
     "output_type": "stream",
     "name": "stdout",
     "text": [
      "\u001b[32m[I 2021-08-25 16:43:32,677]\u001b[0m Trial 78 finished with value: 1.168148 and parameters: {'max_depth': 5, 'reg_alpha': 5.0729624121992085, 'reg_lambda': 1.5539376209654383, 'min_child_weight': 0, 'gamma': 0.2252790864721835, 'learning_rate': 0.06935183373345678, 'colsample_bytree': 0.8077570845680603, 'subsample': 0.8061857415256543}. Best is trial 58 with value: 1.166438.\u001b[0m\n"
     ]
    },
    {
     "output_type": "stream",
     "name": "stderr",
     "text": [
      " 80%|████████  | 80/100 [05:33<01:32,  4.64s/it]"
     ]
    },
    {
     "output_type": "stream",
     "name": "stdout",
     "text": [
      "\u001b[32m[I 2021-08-25 16:43:38,192]\u001b[0m Trial 79 finished with value: 1.167549 and parameters: {'max_depth': 4, 'reg_alpha': 5.40299412427114, 'reg_lambda': 1.2493734245199442, 'min_child_weight': 2, 'gamma': 0.5802211590480268, 'learning_rate': 0.05098693062539366, 'colsample_bytree': 0.8747795745818095, 'subsample': 0.6507225727200822}. Best is trial 58 with value: 1.166438.\u001b[0m\n"
     ]
    },
    {
     "output_type": "stream",
     "name": "stderr",
     "text": [
      " 81%|████████  | 81/100 [05:35<01:10,  3.71s/it]"
     ]
    },
    {
     "output_type": "stream",
     "name": "stdout",
     "text": [
      "\u001b[32m[I 2021-08-25 16:43:39,731]\u001b[0m Trial 80 finished with value: 1.171037 and parameters: {'max_depth': 4, 'reg_alpha': 5.633505634026761, 'reg_lambda': 1.7580422785817236, 'min_child_weight': 2, 'gamma': 1.207041927005389, 'learning_rate': 0.3362081707717567, 'colsample_bytree': 0.855898272123834, 'subsample': 0.782152540700194}. Best is trial 58 with value: 1.166438.\u001b[0m\n"
     ]
    },
    {
     "output_type": "stream",
     "name": "stderr",
     "text": [
      " 82%|████████▏ | 82/100 [05:40<01:14,  4.13s/it]"
     ]
    },
    {
     "output_type": "stream",
     "name": "stdout",
     "text": [
      "\u001b[32m[I 2021-08-25 16:43:44,827]\u001b[0m Trial 81 finished with value: 1.16659 and parameters: {'max_depth': 4, 'reg_alpha': 5.879514843903562, 'reg_lambda': 1.3421669180205373, 'min_child_weight': 1, 'gamma': 0.8534583486802509, 'learning_rate': 0.05717925989930401, 'colsample_bytree': 0.8909875654976298, 'subsample': 0.7257505372916805}. Best is trial 58 with value: 1.166438.\u001b[0m\n"
     ]
    },
    {
     "output_type": "stream",
     "name": "stderr",
     "text": [
      " 83%|████████▎ | 83/100 [05:44<01:09,  4.09s/it]"
     ]
    },
    {
     "output_type": "stream",
     "name": "stdout",
     "text": [
      "\u001b[32m[I 2021-08-25 16:43:48,825]\u001b[0m Trial 82 finished with value: 1.167193 and parameters: {'max_depth': 4, 'reg_alpha': 5.781156297152754, 'reg_lambda': 1.3352306109295855, 'min_child_weight': 1, 'gamma': 1.4140551074168584, 'learning_rate': 0.057499004089213705, 'colsample_bytree': 0.8354657852579264, 'subsample': 0.723140782633672}. Best is trial 58 with value: 1.166438.\u001b[0m\n"
     ]
    },
    {
     "output_type": "stream",
     "name": "stderr",
     "text": [
      " 84%|████████▍ | 84/100 [05:49<01:08,  4.28s/it]"
     ]
    },
    {
     "output_type": "stream",
     "name": "stdout",
     "text": [
      "\u001b[32m[I 2021-08-25 16:43:53,561]\u001b[0m Trial 83 finished with value: 1.167624 and parameters: {'max_depth': 4, 'reg_alpha': 5.530868027754975, 'reg_lambda': 1.6772302033019606, 'min_child_weight': 1, 'gamma': 0.6891116646956528, 'learning_rate': 0.06206498845960939, 'colsample_bytree': 0.8652153101006587, 'subsample': 0.7505365838203589}. Best is trial 58 with value: 1.166438.\u001b[0m\n"
     ]
    },
    {
     "output_type": "stream",
     "name": "stderr",
     "text": [
      " 85%|████████▌ | 85/100 [05:55<01:12,  4.80s/it]"
     ]
    },
    {
     "output_type": "stream",
     "name": "stdout",
     "text": [
      "\u001b[32m[I 2021-08-25 16:43:59,570]\u001b[0m Trial 84 finished with value: 1.16843 and parameters: {'max_depth': 4, 'reg_alpha': 5.853154297686104, 'reg_lambda': 1.613423833528922, 'min_child_weight': 0, 'gamma': 0.012246871487843765, 'learning_rate': 0.06776497566632467, 'colsample_bytree': 0.545581048487139, 'subsample': 0.6723924420948182}. Best is trial 58 with value: 1.166438.\u001b[0m\n"
     ]
    },
    {
     "output_type": "stream",
     "name": "stderr",
     "text": [
      " 86%|████████▌ | 86/100 [05:58<01:03,  4.53s/it]"
     ]
    },
    {
     "output_type": "stream",
     "name": "stdout",
     "text": [
      "\u001b[32m[I 2021-08-25 16:44:03,475]\u001b[0m Trial 85 finished with value: 1.167448 and parameters: {'max_depth': 4, 'reg_alpha': 5.208238539125263, 'reg_lambda': 1.3912715668076319, 'min_child_weight': 1, 'gamma': 1.064875837066835, 'learning_rate': 0.05379461099578421, 'colsample_bytree': 0.8904146240121922, 'subsample': 0.7108956820941089}. Best is trial 58 with value: 1.166438.\u001b[0m\n"
     ]
    },
    {
     "output_type": "stream",
     "name": "stderr",
     "text": [
      " 87%|████████▋ | 87/100 [06:05<01:04,  5.00s/it]"
     ]
    },
    {
     "output_type": "stream",
     "name": "stdout",
     "text": [
      "\u001b[32m[I 2021-08-25 16:44:09,543]\u001b[0m Trial 86 finished with value: 1.16718 and parameters: {'max_depth': 4, 'reg_alpha': 5.389316683622628, 'reg_lambda': 1.5671915799810534, 'min_child_weight': 2, 'gamma': 1.455544060573427, 'learning_rate': 0.05024344429901303, 'colsample_bytree': 0.8515831379954224, 'subsample': 0.7746550746294288}. Best is trial 58 with value: 1.166438.\u001b[0m\n"
     ]
    },
    {
     "output_type": "stream",
     "name": "stderr",
     "text": [
      " 88%|████████▊ | 88/100 [06:09<00:56,  4.72s/it]"
     ]
    },
    {
     "output_type": "stream",
     "name": "stdout",
     "text": [
      "\u001b[32m[I 2021-08-25 16:44:13,617]\u001b[0m Trial 87 finished with value: 1.167683 and parameters: {'max_depth': 4, 'reg_alpha': 1.2368956046321258, 'reg_lambda': 1.5187049615299042, 'min_child_weight': 1, 'gamma': 0.4551318336480749, 'learning_rate': 0.060766337216454844, 'colsample_bytree': 0.8740143351125551, 'subsample': 0.697520070590205}. Best is trial 58 with value: 1.166438.\u001b[0m\n"
     ]
    },
    {
     "output_type": "stream",
     "name": "stderr",
     "text": [
      " 89%|████████▉ | 89/100 [06:13<00:51,  4.65s/it]"
     ]
    },
    {
     "output_type": "stream",
     "name": "stdout",
     "text": [
      "\u001b[32m[I 2021-08-25 16:44:18,123]\u001b[0m Trial 88 finished with value: 1.167189 and parameters: {'max_depth': 4, 'reg_alpha': 5.663330027183217, 'reg_lambda': 1.2795780303513093, 'min_child_weight': 0, 'gamma': 0.319183469256954, 'learning_rate': 0.07824007367539393, 'colsample_bytree': 0.8257780426770016, 'subsample': 0.7321764750060171}. Best is trial 58 with value: 1.166438.\u001b[0m\n"
     ]
    },
    {
     "output_type": "stream",
     "name": "stderr",
     "text": [
      " 90%|█████████ | 90/100 [06:18<00:47,  4.76s/it]"
     ]
    },
    {
     "output_type": "stream",
     "name": "stdout",
     "text": [
      "\u001b[32m[I 2021-08-25 16:44:23,139]\u001b[0m Trial 89 finished with value: 1.167307 and parameters: {'max_depth': 4, 'reg_alpha': 5.858021555252804, 'reg_lambda': 1.1616453071191408, 'min_child_weight': 3, 'gamma': 0.18776032753587493, 'learning_rate': 0.07230138369990546, 'colsample_bytree': 0.8051523686799635, 'subsample': 0.7580879893661843}. Best is trial 58 with value: 1.166438.\u001b[0m\n"
     ]
    },
    {
     "output_type": "stream",
     "name": "stderr",
     "text": [
      " 91%|█████████ | 91/100 [06:23<00:43,  4.84s/it]"
     ]
    },
    {
     "output_type": "stream",
     "name": "stdout",
     "text": [
      "\u001b[32m[I 2021-08-25 16:44:28,163]\u001b[0m Trial 90 finished with value: 1.166903 and parameters: {'max_depth': 4, 'reg_alpha': 4.964560587107045, 'reg_lambda': 1.7348718271998935, 'min_child_weight': 2, 'gamma': 1.1758551759214222, 'learning_rate': 0.06543009416020118, 'colsample_bytree': 0.8882523738257155, 'subsample': 0.7897133943410829}. Best is trial 58 with value: 1.166438.\u001b[0m\n"
     ]
    },
    {
     "output_type": "stream",
     "name": "stderr",
     "text": [
      " 92%|█████████▏| 92/100 [06:28<00:39,  4.97s/it]"
     ]
    },
    {
     "output_type": "stream",
     "name": "stdout",
     "text": [
      "\u001b[32m[I 2021-08-25 16:44:33,433]\u001b[0m Trial 91 finished with value: 1.166523 and parameters: {'max_depth': 4, 'reg_alpha': 5.6061844217984085, 'reg_lambda': 1.7138643826981235, 'min_child_weight': 2, 'gamma': 0.6630976141277068, 'learning_rate': 0.05720574501549343, 'colsample_bytree': 0.886717374157035, 'subsample': 0.7933170023916288}. Best is trial 58 with value: 1.166438.\u001b[0m\n"
     ]
    },
    {
     "output_type": "stream",
     "name": "stderr",
     "text": [
      " 93%|█████████▎| 93/100 [06:34<00:35,  5.06s/it]"
     ]
    },
    {
     "output_type": "stream",
     "name": "stdout",
     "text": [
      "\u001b[32m[I 2021-08-25 16:44:38,695]\u001b[0m Trial 92 finished with value: 1.166774 and parameters: {'max_depth': 4, 'reg_alpha': 4.952329479833896, 'reg_lambda': 1.4191044044635306, 'min_child_weight': 2, 'gamma': 0.8741105182803397, 'learning_rate': 0.05768396542188982, 'colsample_bytree': 0.8885052450169633, 'subsample': 0.7898109789689376}. Best is trial 58 with value: 1.166438.\u001b[0m\n"
     ]
    },
    {
     "output_type": "stream",
     "name": "stderr",
     "text": [
      " 94%|█████████▍| 94/100 [06:39<00:30,  5.09s/it]"
     ]
    },
    {
     "output_type": "stream",
     "name": "stdout",
     "text": [
      "\u001b[32m[I 2021-08-25 16:44:43,879]\u001b[0m Trial 93 finished with value: 1.166485 and parameters: {'max_depth': 4, 'reg_alpha': 4.980410368310193, 'reg_lambda': 1.7171705237440604, 'min_child_weight': 2, 'gamma': 0.8968583027768189, 'learning_rate': 0.057243893484162825, 'colsample_bytree': 0.8883979742040455, 'subsample': 0.7926164690758695}. Best is trial 58 with value: 1.166438.\u001b[0m\n"
     ]
    },
    {
     "output_type": "stream",
     "name": "stderr",
     "text": [
      " 95%|█████████▌| 95/100 [06:44<00:25,  5.06s/it]"
     ]
    },
    {
     "output_type": "stream",
     "name": "stdout",
     "text": [
      "\u001b[32m[I 2021-08-25 16:44:48,856]\u001b[0m Trial 94 finished with value: 1.167246 and parameters: {'max_depth': 4, 'reg_alpha': 5.521801524833357, 'reg_lambda': 1.2180789302481876, 'min_child_weight': 3, 'gamma': 0.9239496006118505, 'learning_rate': 0.056770896752016686, 'colsample_bytree': 0.8980621533418927, 'subsample': 0.8066881213901298}. Best is trial 58 with value: 1.166438.\u001b[0m\n"
     ]
    },
    {
     "output_type": "stream",
     "name": "stderr",
     "text": [
      " 96%|█████████▌| 96/100 [06:50<00:22,  5.54s/it]"
     ]
    },
    {
     "output_type": "stream",
     "name": "stdout",
     "text": [
      "\u001b[32m[I 2021-08-25 16:44:55,503]\u001b[0m Trial 95 finished with value: 1.166967 and parameters: {'max_depth': 4, 'reg_alpha': 4.802410465981853, 'reg_lambda': 1.3693055537305263, 'min_child_weight': 1, 'gamma': 0.6219834126285634, 'learning_rate': 0.05269760982011545, 'colsample_bytree': 0.8697089053809716, 'subsample': 0.8163179865748011}. Best is trial 58 with value: 1.166438.\u001b[0m\n"
     ]
    },
    {
     "output_type": "stream",
     "name": "stderr",
     "text": [
      " 97%|█████████▋| 97/100 [06:56<00:16,  5.59s/it]"
     ]
    },
    {
     "output_type": "stream",
     "name": "stdout",
     "text": [
      "\u001b[32m[I 2021-08-25 16:45:01,225]\u001b[0m Trial 96 finished with value: 1.167148 and parameters: {'max_depth': 4, 'reg_alpha': 5.998835351082835, 'reg_lambda': 1.642380434594423, 'min_child_weight': 2, 'gamma': 0.7694042542516366, 'learning_rate': 0.0567389553643058, 'colsample_bytree': 0.8827395014876643, 'subsample': 0.7710922005442684}. Best is trial 58 with value: 1.166438.\u001b[0m\n"
     ]
    },
    {
     "output_type": "stream",
     "name": "stderr",
     "text": [
      " 98%|█████████▊| 98/100 [06:59<00:09,  4.82s/it]"
     ]
    },
    {
     "output_type": "stream",
     "name": "stdout",
     "text": [
      "\u001b[32m[I 2021-08-25 16:45:04,236]\u001b[0m Trial 97 finished with value: 1.168597 and parameters: {'max_depth': 4, 'reg_alpha': 5.2913041397603715, 'reg_lambda': 1.417012683370034, 'min_child_weight': 1, 'gamma': 1.0175667299259403, 'learning_rate': 0.20024243638136296, 'colsample_bytree': 0.8998455861114739, 'subsample': 0.7776372729505392}. Best is trial 58 with value: 1.166438.\u001b[0m\n"
     ]
    },
    {
     "output_type": "stream",
     "name": "stderr",
     "text": [
      " 99%|█████████▉| 99/100 [07:04<00:04,  4.84s/it]"
     ]
    },
    {
     "output_type": "stream",
     "name": "stdout",
     "text": [
      "\u001b[32m[I 2021-08-25 16:45:09,142]\u001b[0m Trial 98 finished with value: 1.166908 and parameters: {'max_depth': 4, 'reg_alpha': 5.0646876205193445, 'reg_lambda': 1.6957796298105943, 'min_child_weight': 0, 'gamma': 0.4807465123637075, 'learning_rate': 0.06653986270508984, 'colsample_bytree': 0.8629307279508489, 'subsample': 0.797044150068348}. Best is trial 58 with value: 1.166438.\u001b[0m\n"
     ]
    },
    {
     "output_type": "stream",
     "name": "stderr",
     "text": [
      "100%|██████████| 100/100 [07:09<00:00,  4.29s/it]"
     ]
    },
    {
     "output_type": "stream",
     "name": "stdout",
     "text": [
      "\u001b[32m[I 2021-08-25 16:45:13,747]\u001b[0m Trial 99 finished with value: 1.166833 and parameters: {'max_depth': 4, 'reg_alpha': 5.639673651542229, 'reg_lambda': 1.9438339789360786, 'min_child_weight': 2, 'gamma': 0.840209925254074, 'learning_rate': 0.05782077180360166, 'colsample_bytree': 0.8817046582935103, 'subsample': 0.7590716333829304}. Best is trial 58 with value: 1.166438.\u001b[0m\n"
     ]
    },
    {
     "output_type": "stream",
     "name": "stderr",
     "text": [
      "\n"
     ]
    }
   ],
   "metadata": {}
  },
  {
   "cell_type": "code",
   "execution_count": 60,
   "source": [
    "# Print RMSE score for best trial. Note that this results is produced on a validation dataset\r\n",
    "trial = study1.best_trial\r\n",
    "print('Best trial has RMSE: {}'.format(trial.value))"
   ],
   "outputs": [
    {
     "output_type": "stream",
     "name": "stdout",
     "text": [
      "Best trial has RMSE: 1.166438\n"
     ]
    }
   ],
   "metadata": {}
  },
  {
   "cell_type": "code",
   "execution_count": 61,
   "source": [
    "# Best parameters from the study\r\n",
    "study1.best_params"
   ],
   "outputs": [
    {
     "output_type": "execute_result",
     "data": {
      "text/plain": [
       "{'max_depth': 4,\n",
       " 'reg_alpha': 5.968374987878846,\n",
       " 'reg_lambda': 1.4374979276040596,\n",
       " 'min_child_weight': 2,\n",
       " 'gamma': 0.8899280869658877,\n",
       " 'learning_rate': 0.05539358203635937,\n",
       " 'colsample_bytree': 0.8951338853974595,\n",
       " 'subsample': 0.7584140284053172}"
      ]
     },
     "metadata": {},
     "execution_count": 61
    }
   ],
   "metadata": {}
  },
  {
   "cell_type": "code",
   "execution_count": 62,
   "source": [
    "# Compare results with and without tuning\r\n",
    "print(f\"RMSE without tuning: {return_rmse(params={})}\")\r\n",
    "print(f\"RMSE with tuning: {study1.best_trial.value}\")"
   ],
   "outputs": [
    {
     "output_type": "stream",
     "name": "stdout",
     "text": [
      "RMSE without tuning: 1.178003\n",
      "RMSE with tuning: 1.166438\n"
     ]
    }
   ],
   "metadata": {}
  },
  {
   "cell_type": "code",
   "execution_count": 63,
   "source": [
    "# Visualise the errors obtained throughout the trials\r\n",
    "optuna.visualization.matplotlib.plot_optimization_history(study1)"
   ],
   "outputs": [
    {
     "output_type": "stream",
     "name": "stderr",
     "text": [
      "<ipython-input-63-0ae15a6ae08b>:1: ExperimentalWarning: plot_optimization_history is experimental (supported from v2.2.0). The interface can change in the future.\n",
      "  optuna.visualization.matplotlib.plot_optimization_history(study1)\n"
     ]
    },
    {
     "output_type": "execute_result",
     "data": {
      "text/plain": [
       "<AxesSubplot:title={'center':'Optimization History Plot'}, xlabel='#Trials', ylabel='Objective Value'>"
      ]
     },
     "metadata": {},
     "execution_count": 63
    },
    {
     "output_type": "display_data",
     "data": {
      "text/plain": [
       "<Figure size 432x288 with 1 Axes>"
      ],
      "image/png": "[encoded data removed]"
     },
     "metadata": {}
    }
   ],
   "metadata": {}
  },
  {
   "cell_type": "code",
   "execution_count": 64,
   "source": [
    "# Visualise the errors obtained with every combination of hyperparameters\r\n",
    "optuna.visualization.matplotlib.plot_slice(study1)"
   ],
   "outputs": [
    {
     "output_type": "stream",
     "name": "stderr",
     "text": [
      "<ipython-input-64-f28880b3a62b>:1: ExperimentalWarning: plot_slice is experimental (supported from v2.2.0). The interface can change in the future.\n",
      "  optuna.visualization.matplotlib.plot_slice(study1)\n"
     ]
    },
    {
     "output_type": "execute_result",
     "data": {
      "text/plain": [
       "array([<AxesSubplot:xlabel='colsample_bytree', ylabel='Objective Value'>,\n",
       "       <AxesSubplot:xlabel='gamma'>, <AxesSubplot:xlabel='learning_rate'>,\n",
       "       <AxesSubplot:xlabel='max_depth'>,\n",
       "       <AxesSubplot:xlabel='min_child_weight'>,\n",
       "       <AxesSubplot:xlabel='reg_alpha'>,\n",
       "       <AxesSubplot:xlabel='reg_lambda'>,\n",
       "       <AxesSubplot:xlabel='subsample'>], dtype=object)"
      ]
     },
     "metadata": {},
     "execution_count": 64
    },
    {
     "output_type": "display_data",
     "data": {
      "text/plain": [
       "<Figure size 1728x288 with 9 Axes>"
      ],
      "image/png": "[encoded data removed]"
     },
     "metadata": {}
    }
   ],
   "metadata": {}
  },
  {
   "cell_type": "code",
   "execution_count": 65,
   "source": [
    "# Train XGBoost with the best hyperparameters found from the study\r\n",
    "best_model = xgb.train(study1.best_params , dtrain, num_boost_round = 10000, evals = [(dval, 'eval')],\r\n",
    "          early_stopping_rounds=100,verbose_eval = 0)"
   ],
   "outputs": [],
   "metadata": {}
  },
  {
   "cell_type": "code",
   "execution_count": 66,
   "source": [
    "# Predict the score of each review using the XGBoost with hyperparameters tuning\r\n",
    "pred = best_model.predict(dtest)\r\n",
    "pred"
   ],
   "outputs": [
    {
     "output_type": "execute_result",
     "data": {
      "text/plain": [
       "array([9.521817, 9.090833, 8.580285, ..., 9.455518, 7.796848, 9.411437],\n",
       "      dtype=float32)"
      ]
     },
     "metadata": {},
     "execution_count": 66
    }
   ],
   "metadata": {}
  },
  {
   "cell_type": "code",
   "execution_count": 67,
   "source": [
    "# Calculate RMSE score on the test dataset\r\n",
    "result = best_model.eval(dtest)\r\n",
    "result"
   ],
   "outputs": [
    {
     "output_type": "execute_result",
     "data": {
      "text/plain": [
       "'[0]\\teval-rmse:1.166685'"
      ]
     },
     "metadata": {},
     "execution_count": 67
    }
   ],
   "metadata": {}
  },
  {
   "cell_type": "code",
   "execution_count": 69,
   "source": [
    "# Calculate R2 score (this tells us how well the regression fits the data)\r\n",
    "r2 = r2_score(y_test, pred)\r\n",
    "r2"
   ],
   "outputs": [
    {
     "output_type": "execute_result",
     "data": {
      "text/plain": [
       "0.49395503768916527"
      ]
     },
     "metadata": {},
     "execution_count": 69
    }
   ],
   "metadata": {}
  },
  {
   "cell_type": "markdown",
   "source": [
    "**Let's compare the violin plot results between with and without tuning.**"
   ],
   "metadata": {}
  },
  {
   "cell_type": "code",
   "execution_count": 68,
   "source": [
    "plot_res(y_test,pred, model = \"XGBoostRegressor with tuning\")"
   ],
   "outputs": [
    {
     "output_type": "display_data",
     "data": {
      "text/plain": [
       "<Figure size 1152x432 with 2 Axes>"
      ],
      "image/png": "[encoded data removed]"
     },
     "metadata": {}
    }
   ],
   "metadata": {}
  },
  {
   "cell_type": "code",
   "execution_count": 75,
   "source": [
    "default_model = xgb.train(params={}, dtrain=dtrain, num_boost_round = 10000, evals = [(dval, 'eval')],\r\n",
    "          early_stopping_rounds=100,verbose_eval = 0)\r\n",
    "pred_default = default_model.predict(dtest)\r\n",
    "pred_default"
   ],
   "outputs": [
    {
     "output_type": "execute_result",
     "data": {
      "text/plain": [
       "array([9.465464 , 9.114336 , 8.6822815, ..., 9.444635 , 7.674981 ,\n",
       "       9.442249 ], dtype=float32)"
      ]
     },
     "metadata": {},
     "execution_count": 75
    }
   ],
   "metadata": {}
  },
  {
   "cell_type": "code",
   "execution_count": 76,
   "source": [
    "plot_res(y_test,pred_default, model = \"XGBoostRegressor without tuning\")"
   ],
   "outputs": [
    {
     "output_type": "display_data",
     "data": {
      "text/plain": [
       "<Figure size 1152x432 with 2 Axes>"
      ],
      "image/png": "[encoded data removed]"
     },
     "metadata": {}
    }
   ],
   "metadata": {}
  },
  {
   "cell_type": "markdown",
   "source": [
    "Turns out that hyperparameters tuning did not help too much with reducing the errors in our XGBoost model.\r\n",
    "Additionaly, XGBoost with hyperparameters tuning gives us almost the same result than GradientBoostingRegressor model i.e. RMSE=1.171 vs RMSE=1.174 respectively."
   ],
   "metadata": {}
  },
  {
   "cell_type": "markdown",
   "source": [
    "# Conclusion and Future Work"
   ],
   "metadata": {}
  },
  {
   "cell_type": "markdown",
   "source": [
    "- We showed some EDA and observed some interesting trends\r\n",
    "- We observed from our correlation chart that sentiment values, number of words and average score of hotel are important for training our model.\r\n",
    "- After comparing the different models, although XGBoost with hyperparameter tuning may give us the lowest RMSE, the result is almost the same as using GradientBoostingRegressor model, which is simpler to implement.\r\n",
    "- Our XGBoost model with hyperparameters tuning gave us a regression line that fits the actual data about 49% well.\r\n",
    "\r\n",
    "Future Improvements:\r\n",
    "- Sentiment analyser could be improved as negative review like\r\n",
    "\t“walls are pretty thin so could hear folk in their bathroom and in the corridor”\r\n",
    "    gives sentiment score of {'neg': 0.0, 'neu': 0.814, 'pos': 0.186, 'compound': 0.4939}. This points out that there is a major flaw in our models.\r\n",
    "- Best solution is to build our own sentiment analyser for specific context such as in this hotel reviews dataset.\r\n",
    "- Look at specific word mentioned in reviews (e.g. airconditioner, room, staff) and hot-encode them to see if they have high correlation with reviewer score"
   ],
   "metadata": {}
  },
  {
   "cell_type": "markdown",
   "source": [],
   "metadata": {}
  }
 ],
 "metadata": {
  "orig_nbformat": 4,
  "language_info": {
   "name": "python",
   "version": "3.9.1",
   "mimetype": "text/x-python",
   "codemirror_mode": {
    "name": "ipython",
    "version": 3
   },
   "pygments_lexer": "ipython3",
   "nbconvert_exporter": "python",
   "file_extension": ".py"
  },
  "kernelspec": {
   "name": "python3",
   "display_name": "Python 3.9.1 64-bit"
  },
  "interpreter": {
   "hash": "69bc308322cf3838354ac45c57638825c2f73a3284ba57095646c724b51e2a78"
  }
 },
 "nbformat": 4,
 "nbformat_minor": 2
}